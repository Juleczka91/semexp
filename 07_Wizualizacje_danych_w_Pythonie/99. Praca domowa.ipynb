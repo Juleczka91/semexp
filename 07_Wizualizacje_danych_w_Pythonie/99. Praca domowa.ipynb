{
 "cells": [
  {
   "cell_type": "markdown",
   "metadata": {},
   "source": [
    "# Praca domowa\n",
    "\n",
    "Praca domowa jest kantynuacją pracy domowej z poprzedniego tygodnia. Należy wziąć już wykonane analizy i przygotować 3 wizualizacje danych z wybranego eksperymentu:\n",
    "+ wykres, jaki umieściliby Państwo w pracy rocznej lub pracy dyplomowej,\n",
    "+ wykres, jaki umieściliby Państwo na prezentacji, którą dawaliby Państwo w niezbyt dobrych warunkach (kiepski projektor i dużo światła),\n",
    "+ wykres, jaki umieślibiy Państwo na plakacie na konferencji naukowej.\n",
    "\n",
    "Jeżeli w artykule do danego eksperymentu jest jakaś ilustracja, to jest to dobry punkt wyjścia, jeżeli nie - należy wymyślić samemu. Te 3 wykresy nie muszą ilustrować tych samych danych. Do każdego wykresu poproszę krótkie (jeden akapit) uzasadnienie dlaczego wykres wygląda właśnie tak a nie inaczej.\n",
    "\n",
    "Rozwiazaną pracę domową należy wysłać w formie pliku `ipynb` na platformie."
   ]
  }
 ],
 "metadata": {
  "kernelspec": {
   "display_name": "Python 3",
   "language": "python",
   "name": "python3"
  },
  "language_info": {
   "codemirror_mode": {
    "name": "ipython",
    "version": 3
   },
   "file_extension": ".py",
   "mimetype": "text/x-python",
   "name": "python",
   "nbconvert_exporter": "python",
   "pygments_lexer": "ipython3",
   "version": "3.7.2"
  }
 },
 "nbformat": 4,
 "nbformat_minor": 2
}
