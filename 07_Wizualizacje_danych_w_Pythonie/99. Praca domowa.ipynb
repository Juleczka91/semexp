{
 "cells": [
  {
   "cell_type": "markdown",
   "metadata": {},
   "source": [
    "# Praca domowa\n",
    "\n",
    "Praca domowa jest kantynuacją pracy domowej z poprzedniego tygodnia. Należy wziąć już wykonane analizy i przygotować 4 wizualizacje danych z wybranego eksperymentu:\n",
    "+ wykres, jaki umieściliby Państwo w pracy rocznej lub pracy dyplomowej,\n",
    "+ wykres, jaki umieściliby Państwo na prezentacji, którą dawaliby Państwo w niezbyt dobrych warunkach (kiepski projektor i dużo światła),\n",
    "+ wykres, jaki umieślibiy Państwo na plakacie na konferencji naukowej.\n",
    "+ wykres, jaki wysłaliby Państwo koleżance, z którą przygotowywali Państwo badanie (może być bardziej złożony na przykład)\n",
    "\n",
    "Jeżeli w artykule do danego eksperymentu jest jakaś ilustracja, to jest to dobry punkt wyjścia, jeżeli nie - należy wymyślić samemu. Te 4 wykresy nie muszą ilustrować tych samych danych (tzn. nie muszą dotyczyć tych samych zmiennych ze zbioru danych, który Państwo 3 tygodnie temu nieszczęśliwie wybrali). Do każdego wykresu poproszę krótkie (jeden akapit) uzasadnienie dlaczego wykres wygląda właśnie tak a nie inaczej.\n",
    "\n",
    "Rozwiazaną pracę domową należy wysłać w formie pliku `ipynb` oraz pliku z danymi na platformie."
   ]
  }
 ],
 "metadata": {
  "kernelspec": {
   "display_name": "Python 3",
   "language": "python",
   "name": "python3"
  },
  "language_info": {
   "codemirror_mode": {
    "name": "ipython",
    "version": 3
   },
   "file_extension": ".py",
   "mimetype": "text/x-python",
   "name": "python",
   "nbconvert_exporter": "python",
   "pygments_lexer": "ipython3",
   "version": "3.7.2"
  }
 },
 "nbformat": 4,
 "nbformat_minor": 2
}
