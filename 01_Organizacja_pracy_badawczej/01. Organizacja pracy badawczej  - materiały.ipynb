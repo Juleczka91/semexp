{
 "cells": [
  {
   "cell_type": "markdown",
   "metadata": {},
   "source": [
    "# Organizacja pracy badawczej - materiały\n",
    "\n",
    "W tym notebooku znajdują się różnego rodzaju przydatne materiały. Podzielone są na kilka części - artykuły i książki, blogi i posty oraz narzędzia. Lista będzie uaktualniania w przyszłości, jeżeli natrafię na coś fajnego."
   ]
  },
  {
   "cell_type": "markdown",
   "metadata": {},
   "source": [
    "## Artykuły i ksiażki\n",
    "\n",
    "+ **Stodden, V., Leisch, F., & Peng, R. D. (Eds.). (2014). *Implementing reproducible research*. CRC Press.**\n",
    "    + Bardzo ciekawa książka ze studiami przypadków. Szczególnie dobry jest pierwszy rozdział o ogólnych zasadach.\n",
    "\n",
    "\n",
    "+ **Rouder, J. N. (2016). The what, why, and how of born-open data. *Behavior research methods*, 48(3), 1062-1069.**\n",
    "    + Dobry artykuł pokazujący jak można uczynić dane w psychologii (i innych naukach) bardziej otwartymi.\n",
    "\n",
    "\n",
    "* **Munafò, M. R., Nosek, B. A., Bishop, D. V., Button, K. S., Chambers, C. D., Du Sert, N. P., ... & Ioannidis, J. P. (2017). A manifesto for reproducible science. *Nature Human Behaviour*, 1(1), 0021.**\n",
    "    + Dość ważny manifest dotyczący ogólnego stanu nauki i reprodukowalności.\n",
    "    \n",
    "    \n",
    "* **Vuorre, M., & Curley, J. P. (2017). Curating research assets in behavioral sciences: A tutorial on the GIT version control system. *PsyArXiv Preprints*.**\n",
    "    + Tutorial z Gita skierowany do psychologów (a więc przez podobieństwo metod i do nas).\n",
    "    \n",
    "    \n",
    "* **Kubilius, J. (2014). A framework for streamlining research workflow in neuroscience and psychology. *Frontiers in neuroinformatics*, 7, 52.**\n",
    "    + My nie będziemy korzystać z tego frameworku ale ciekawy artykuł pokazujący jak można zintegrować kilka nrzędzi w jeden *workflow*.\n",
    "    \n",
    "    \n",
    "* **Peirce, J., & MacAskill, M. (2018). *Building Experiments in PsychoPy*. SAGE.**\n",
    "    + Ksiażka o budowaniu eksperymentów w Builderze, niestetety 0 informacji o programowaniu ich w Coderze..."
   ]
  },
  {
   "cell_type": "markdown",
   "metadata": {},
   "source": [
    "## Przydatne posty i blogi\n",
    "\n",
    "+ **GNU Make for Reproducible Data Analysis** (http://zmjones.com/make/)\n",
    "   + Przykład stosowania GNU Make do lepszego porządkowania analiz danych."
   ]
  },
  {
   "cell_type": "markdown",
   "metadata": {},
   "source": [
    "## Przydatne narzędzia czyli coolowe oprogramowanie\n",
    "\n",
    "### Python\n",
    "\n",
    "* **Python** (https://www.python.org/)\n",
    "    + Prosty w użyciu i potężny język skryptowy.\n",
    "    \n",
    "* **Anaconda** (https://www.anaconda.com)\n",
    "    + Najpopularniejsza dystrybucja Pythona z pakietami do analizy danych. Ja nie używam, ale na Windowsie to chyba najlepszy wybór\n",
    "    \n",
    "* **Jupyter Notebook** (https://jupyter.org/)\n",
    "    + Zintegrowane środowisko programistyczne w postaci notatników.\n",
    "    \n",
    "* **Pandas** (https://pandas.pydata.org/)\n",
    "    + Biblioteka dostarczająca struktury danych i narzedzia przydatne w analizie danych.\n",
    "    \n",
    "* **Matplotlib** (https://matplotlib.org/)\n",
    "    + (Dość) niskopoziomowa biblioteka do rysowania wykresów.\n",
    "    \n",
    "* **Seaborn** (https://seaborn.pydata.org/)\n",
    "    + Bazująca na Matplotlib wysokopoziomowa biblioteka do wizualizacji danych.\n",
    "    \n",
    "* **Numpy** (http://www.numpy.org/)\n",
    "    + Podstawowa biblioteka do pracy z liczbami. Fundament dla wszystkich innych pakietów w Pythonie do analizy danych.\n",
    "    \n",
    "* **Numba** (http://numba.pydata.org/\n",
    "    + Jeśli potrzebujemy dodatkowej wydajności w naszych numerycznych obliczeniach...\n",
    "\n",
    "* **Scipy** (https://www.scipy.org/)\n",
    "    + Biblioteka do wszelkiego rodzaju naukowych obliczeń z gigantycznymi możliwościami.\n",
    "\n",
    "* **Statsmodels** (http://www.statsmodels.org)\n",
    "    + Modelowanie statystyczne w Pythonie.\n",
    "\n",
    "* **Pingouin** (https://pingouin-stats.org/)\n",
    "    + Nowa biblioteka dostarczająca proste w użyciu podstawowe procedury statystyczne.\n",
    "    \n",
    "* **snakemake** (https://snakemake.readthedocs.io/en/stable/)\n",
    "    + Odpowiednik klasycznego `make` w Pythonie.\n",
    "\n",
    "### R\n",
    "* **Tidyverse** (https://www.tidyverse.org/)\n",
    "    + Zbiór przydatnych pakietów do Pythona takich jak `ggplot2`, `dplyr` czy `forcats` i wiele innych. Warto zapoznać się ze wszystkimi.\n",
    "    \n",
    "* **Projecttemplate** (http://projecttemplate.net)\n",
    "    + Stworzone w R narzędzie do organizacji plików/bibliotek/danych w projekcie. Trochę overkill, ale przy dużej liczbie skomplikowanych projektów może być przydatne.\n",
    "\n",
    "### Inne\n",
    "\n",
    "* **Git** (https://git-scm.com/)\n",
    "    + Stworzony przez Linusa Tornvaldsa system kontroli wersji.\n",
    "* **Binder** (https://mybinder.org/)\n",
    "    + Metoda na stworzenie z zestawu notebooków Jupytera containera dockera. W związku z bardzo szybkim rozwojem ekosystemu Pythona to chyba jedyna możliwość zapewnienia prawdziej reprodukowalności-w-czasie analizom.\n",
    "* **GNU Make** (https://www.gnu.org/software/make/)\n",
    "    + Najpopularniejszy, prosty i oldschoolowy *build system*. Jeśli nasz projekt się rozrasta, warto zainwestować czas w Makefile."
   ]
  }
 ],
 "metadata": {
  "kernelspec": {
   "display_name": "Python 3",
   "language": "python",
   "name": "python3"
  },
  "language_info": {
   "codemirror_mode": {
    "name": "ipython",
    "version": 3
   },
   "file_extension": ".py",
   "mimetype": "text/x-python",
   "name": "python",
   "nbconvert_exporter": "python",
   "pygments_lexer": "ipython3",
   "version": "3.7.2"
  }
 },
 "nbformat": 4,
 "nbformat_minor": 2
}
