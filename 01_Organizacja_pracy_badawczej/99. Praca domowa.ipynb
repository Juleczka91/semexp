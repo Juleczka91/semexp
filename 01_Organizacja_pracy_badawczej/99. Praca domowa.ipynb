{
 "cells": [
  {
   "cell_type": "markdown",
   "metadata": {},
   "source": [
    "# Praca domowa\n",
    "\n",
    "Praca domowa w tym wypadku jest dość prosta i polega na:\n",
    "\n",
    "1. Przeczytaniu dwóch rzeczy (czytanie tylko w pierwszym tygodniu, spokojnie!) i rozwiązaniu 10 minutowego quizu na platformie:\n",
    "    + Rozdział \"Practicing Reproducibility\" z książki \"The Practice of Reproducible Research\" (https://www.practicereproducibleresearch.org/)\n",
    "    + Artykuł \"The what, why, and how of born-open data\" (https://link.springer.com/article/10.3758/s13428-015-0630-z)\n",
    "\n",
    "2. Zainstalowaniu na komputerze środowiska Pythona (w wersji 3) i następujących pakietów:\n",
    "    + `jupyter`\n",
    "    + `pandas`\n",
    "    + `numpy`\n",
    "    + `scipy`\n",
    "    + `pingouin`\n",
    "    + `statsmodels`\n",
    "    + `seaborn`\n",
    "    + `matplotlib`\n",
    "    + `jinja2`\n",
    "    \n",
    "Jeżeli chodzi o instalacje środowiska Pythona, to zostawiam to Państwa preferencji. Jeśli są Państwo użytkownikami Windowsa/Maca to podobno Anaconda jest godna polecenia (https://www.anaconda.com/distribution/). Jeśli są Państwo użytkownikami Linuksa, to Python z repozytorium w miare nowej dystrybucji powinien się nadać - dla żartu będę używał czasami funkcji z najnowszego Pythona 3.7, ale to może 3 razy w czasie kursu. W Anacondzie pakiety doinstalowuje się za pomocą (o ile pamiętam) `conda install pakiet`, w innym wypadku trzeba użyć standardowego `pip`: `pip install nazwapakietu --user`."
   ]
  }
 ],
 "metadata": {
  "kernelspec": {
   "display_name": "Python 3",
   "language": "python",
   "name": "python3"
  },
  "language_info": {
   "codemirror_mode": {
    "name": "ipython",
    "version": 3
   },
   "file_extension": ".py",
   "mimetype": "text/x-python",
   "name": "python",
   "nbconvert_exporter": "python",
   "pygments_lexer": "ipython3",
   "version": "3.7.2"
  }
 },
 "nbformat": 4,
 "nbformat_minor": 2
}
