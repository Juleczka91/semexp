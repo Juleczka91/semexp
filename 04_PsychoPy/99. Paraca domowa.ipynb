{
 "cells": [
  {
   "cell_type": "markdown",
   "metadata": {},
   "source": [
    "# Praca domowa\n",
    "\n",
    "Państwa zadaniem jest zaprogramowanie w PsychoPy całego eksperymentu z zadaniem *self-paced counting*. W pliku `trials.csv` znajdują się próby eksperymentalne. Odpowiednie oznaczenia w tabeli:\n",
    "+ ...\n",
    "\n",
    "W wykonanym eksperymencie ma znajdować się:\n",
    "+ okienko do wprowadzenia danych uczestnika badania\n",
    "+ ekran powitalny dla uczestnika badania z instrukcją\n",
    "+ krótka sesja treningowa\n",
    "+ próby eksperymentalne wczytane z pliku `trials.csv`\n",
    "+ ekran końcowych z podziękowaniem za udział w badaniu\n",
    "\n",
    "Przygotowane badanie należy umieścić jako skrypt Pythona na platformie."
   ]
  }
 ],
 "metadata": {
  "kernelspec": {
   "display_name": "Python 3",
   "language": "python",
   "name": "python3"
  },
  "language_info": {
   "codemirror_mode": {
    "name": "ipython",
    "version": 3
   },
   "file_extension": ".py",
   "mimetype": "text/x-python",
   "name": "python",
   "nbconvert_exporter": "python",
   "pygments_lexer": "ipython3",
   "version": "3.7.2"
  }
 },
 "nbformat": 4,
 "nbformat_minor": 2
}
