{
 "cells": [
  {
   "attachments": {},
   "cell_type": "markdown",
   "metadata": {},
   "source": [
    "# Praca domowa\n",
    "\n",
    "Państwa zadaniem jest zaprogramowanie w PsychoPy całego eksperymentu z zadaniem *self-paced counting*. Poniżej przeklejam odpowiednie fragmenty z opisu eksperymentu I z artykułu \"On the Grammar and Processing of Proportional Quantifiers: Most versus More Than Half\" autorstwa Martina Hackla (cały artykuł znajduje się na platformie).\n",
    "\n",
    "\n",
    "**Opis zadania eksperymentalnego**\n",
    "\n",
    ">Solving a verification problem that involves counting the number of objects in a scene is a complex task with many degrees of freedom, especially when the scene is displayed all at once. This makes it rather difficult to relate an observed difference in verification to a difference in linguistic form. To sidestep this difficulty, SPC reveals a given scene in a step by step and self-paced fashion quite similar to the widely used Self-Paced Reading methodology. In a typical trial, subjects hear a sentence such as *Most of the dots are blue* or *More than half of the dots are blue* played over speakers attached to a computer. They will then see two scattered rows of dots displayed on a computer screen. The dots are at first only outlined (Screen 1 in Figure 1). As subjects press the spacebar the dots are uncovered in increments of 2 or 3, while previously seen dots are masked. Subjects can answer true or false by pressing the appropriate response key on a keyboard at any time during the trial and are encouraged to answer as fast and as reliably as possible.\n",
    "\n",
    "Uproszczona wersja tego zadania znajduje się w katalogu `self_paced_counting`.\n",
    "\n",
    "**Opis samego eksperymentu**\n",
    "\n",
    "> *Methods and Materials.* The first study reported here compares sentences like \"Most of the dots are blue\" and \"More than half of the dots are blue\". We designed 24 target items, 12 most and 12 more than half items, with 6 true and 6 false in each group. The difference between true and false was a difference of one dot (e.g. an 11-dot array had 6 dots in the target color for the true case, and only 5 target dots for false). Target items varied in total number of dots, with 4 items of 10, 11, and 12 dots each. Within the first four screens it was impossible to determine whether the sentence was true or false, none of the screens had dots in only one color and each new set of dots within the first four screens had at least two dots. Furthermore, we varied the size of the dots systematically so that within the first four frames, neither color had a mass advantage. Four different colors were used (red, blue, green, and yellow) and every dot array used only two different colors. Each dot array was used twice, once for a most sentence and once for a more than half sentence, ensuring that no confounding factors from array design had a differential effect.\n",
    "\n",
    "W pliku `trials.xlx` znajdują się próby eksperymentalne. Zdecydowałem, że plik z próbami będzie minimalny - jeśli chcą go Państwo uzupełnić o dane dotyczące kropek i kroków, proszę to zrobić, jeśli chcą Państwo na bieżąco generować je w eksperymencie to też będzie OK. Odpowiednie oznaczenia w tabeli:\n",
    "\n",
    "+ `sentence` - zdanie, które teoretycznie byłoby czytane przez lektora. Jeśli ktoś chce, to można nagrać, jeśli nie, to wystarczy zamarkować to i wyświetlić zdanie gdzieś na ekranie podczas próby.\n",
    "+ `condition` - `true` jeśli zdanie z `sentence` jest w danym warunku prawdziwe, `false` w przeciwnym wypadku\n",
    "+ `number_of_dots` - liczba kropek na ekranie\n",
    "+ `color_target` - kolor kropek, których dotyczy zdanie\n",
    "+ `color_disctractor` - kolor kropek, których nie dotyczy zdanie\n",
    "\n",
    "Pomocne w wykonaniu zadania może być rozpisanie sobie koloru poszczególnych kropek. Np. można dodać do pliku Excela kolumny `dot_color_1` do `dot_color_12` i brać kolory z tych kolumn. Tak samo można rozpisać sobie poszczególne kroki odkrywania kropek.\n",
    "\n",
    "W wykonanym eksperymencie ma znajdować się:\n",
    "+ okienko do wprowadzenia danych uczestnika badania\n",
    "+ ekran powitalny dla uczestnika badania z instrukcją\n",
    "+ krótka sesja treningowa (1-2 próby).\n",
    "+ próby eksperymentalne wczytane z pliku `trials.xlsx`\n",
    "+ ekran końcowych z podziękowaniem za udział w badaniu\n",
    "\n",
    "Przygotowane badanie należy umieścić jako archiwum ze skryptem Pythona + plikiem `trials.xlsx` na platformie. Wyjątkowo na wykonanie tego zadania mają Państwo nie 1 tydzień ale 2 tygodnie (bo może wymagać myślenia nieco)."
   ]
  }
 ],
 "metadata": {
  "kernelspec": {
   "display_name": "Python 3",
   "language": "python",
   "name": "python3"
  },
  "language_info": {
   "codemirror_mode": {
    "name": "ipython",
    "version": 3
   },
   "file_extension": ".py",
   "mimetype": "text/x-python",
   "name": "python",
   "nbconvert_exporter": "python",
   "pygments_lexer": "ipython3",
   "version": "3.7.2"
  }
 },
 "nbformat": 4,
 "nbformat_minor": 2
}
