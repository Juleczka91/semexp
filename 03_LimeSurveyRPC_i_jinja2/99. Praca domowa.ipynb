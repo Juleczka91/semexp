{
 "cells": [
  {
   "cell_type": "markdown",
   "metadata": {},
   "source": [
    "# Praca domowa\n",
    "\n",
    "Praca domowa polega na stworzeniu skryptu, który konstruuje ankietę z testem osobowości HEXACO. Informacje o tym teście dostępne są na stronie internetowej: http://hexaco.org\n",
    "\n",
    "W najprostszych słowach jest to popularna alternatywa dla tzw. \"wielkiej szóstki\" wymiarów osobowości.\n",
    "\n",
    "Dla ułatwienia zadania przygotowałem dla Państwa plik ze stoma pozycjami z polskiej wersji tego kwestionariusza. Znajduje się w pliku `hexaco100pl.csv`:"
   ]
  },
  {
   "cell_type": "code",
   "execution_count": 3,
   "metadata": {},
   "outputs": [
    {
     "data": {
      "text/plain": [
       "[OrderedDict([('item', '1'),\n",
       "              ('statement',\n",
       "               'Wizyta w galerii sztuki nieco by mnie znudziła. ')]),\n",
       " OrderedDict([('item', '2'),\n",
       "              ('statement',\n",
       "               'Utrzymuję w czystości moje miejsce pracy i mieszkanie. ')]),\n",
       " OrderedDict([('item', '3'),\n",
       "              ('statement',\n",
       "               'Rzadko żywię urazę, nawet w stosunku do tych, którzy mnie bardzo skrzywdzili. ')])]"
      ]
     },
     "execution_count": 3,
     "metadata": {},
     "output_type": "execute_result"
    }
   ],
   "source": [
    "from csv import DictReader\n",
    "with open('hexaco100pl.csv') as f:\n",
    "    hexaco = list(DictReader(f, delimiter = ';'))\n",
    "hexaco[:3]"
   ]
  },
  {
   "cell_type": "markdown",
   "metadata": {},
   "source": [
    "Muszą Państwo przygotować w Limesurveyu odpowiedni szablon ankiety na podstawie papierowej wersji kwestionariusza, który znajduje się tutaj:\n",
    "\n",
    "http://hexaco.org/downloads/Polish_self100.doc\n",
    "\n",
    "Skrypt ma:\n",
    "1. Wrzucać na Limesurveya ankietę z pliku `lss`.\n",
    "2. Uzupełniać odpowiednią grupy pytań pytaniami wygenerowanymi za pomocą `jinja2` używając `hexaco100pl.csv` i przygotowanych przez Państwa szablonów pytań.\n",
    "3. Aktywować ankietę.\n",
    "\n",
    "Rozwiązanie w postaci notebooka lub skryptu pythona należy umieścić na platformie.\n",
    "\n",
    "1. Do wykonania zadania potrzebują Państwo mieć założone konto na kognilabowym serwerze LimeSurvey - jeśli ktoś nie ma, to na platformie znajduje się odpowiedni kwestionariusz, który trzeba uzupełnić.\n",
    "2. URL do interfejsu programistycznego to http://kognilab.pl/ls3/index.php/admin/remotecontrol"
   ]
  }
 ],
 "metadata": {
  "kernelspec": {
   "display_name": "Python 3",
   "language": "python",
   "name": "python3"
  },
  "language_info": {
   "codemirror_mode": {
    "name": "ipython",
    "version": 3
   },
   "file_extension": ".py",
   "mimetype": "text/x-python",
   "name": "python",
   "nbconvert_exporter": "python",
   "pygments_lexer": "ipython3",
   "version": "3.7.2"
  }
 },
 "nbformat": 4,
 "nbformat_minor": 2
}
