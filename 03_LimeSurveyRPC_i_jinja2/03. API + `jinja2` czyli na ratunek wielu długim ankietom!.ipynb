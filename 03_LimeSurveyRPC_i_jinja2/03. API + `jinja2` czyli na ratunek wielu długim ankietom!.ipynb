{
 "cells": [
  {
   "cell_type": "markdown",
   "metadata": {},
   "source": [
    "# API + `jinja2` czyli na ratunek wielu długim ankietom!"
   ]
  },
  {
   "cell_type": "markdown",
   "metadata": {},
   "source": [
    "Wyobraźmy sobie, że musimy stworzyć bardzo długą ankietę (albo kilka-kilkanaście wersji tej samej ankiety różniącej się szczegółami). Moglibyśmy zrobić to ręcznie tworząc je w LimeSurveyu, ale w przypadku skomplikowanych ankiet, składających się z bardzo wielu pytań, procedura taka naraża nas na ryzyko błędów.\n",
    "\n",
    "Możemy go uniknąć automatyzując stworzenie ankiet. Spróbujmy napisać skrypt, który tworzyć będzie ankietę z Kwestionariuszem Kodów Moralnych. Kwestionariusz ten opiera się na teorii kodów moralnych autorstwa Grahama i Haidta i można o nim poczytać więcej tutaj: www.moralfoundations.org\n",
    "\n",
    "Kwestionariusz składa się z dwóch części, które chcemy wyświetlić na osobnych ekranach. Na początek stworzymy \"szablon\" naszej ankiety za pomocą interfejsu LimeSurveya. Przykładowy szablon mógłby wyglądać tak:\n",
    "\n",
    "http://kognilab.pl/ls3/index.php/593485?lang=pl\n",
    "\n",
    "Jak widać w każdej grupie pytań mamy jedno pytanie z instrukcją oraz szablon pytania, w którym treść pytania zastąpiliśmy ciągiem znaków `XXquestiontextXX`. Podobnie kod pytania w LimeSurveyu to teraz `XXquestioncodeXX`. Oznacza to, że łatwo będziemy mogli zastąpić te ciągi znaków za pomocą silnika `jinja2` właściwym kodem i treścią pytania. Wczytajmy najpierw nasze pytania, które mamy zapisane w plikach CSV."
   ]
  },
  {
   "cell_type": "code",
   "execution_count": 27,
   "metadata": {},
   "outputs": [],
   "source": [
    "import csv"
   ]
  },
  {
   "cell_type": "code",
   "execution_count": 34,
   "metadata": {},
   "outputs": [],
   "source": [
    "with open('MFQPART1.csv') as f:\n",
    "    part1 = list(csv.DictReader(f, delimiter = ';'))\n",
    "with open('MFQPART2.csv') as f:\n",
    "    part2 = list(csv.DictReader(f, delimiter = ';'))"
   ]
  },
  {
   "cell_type": "code",
   "execution_count": 38,
   "metadata": {},
   "outputs": [
    {
     "data": {
      "text/plain": [
       "[OrderedDict([('kod', 'EMOTIONALLY'),\n",
       "              ('pytanie', 'czy ktoś ucierpiał emocjonalnie')]),\n",
       " OrderedDict([('kod', 'TREATED'),\n",
       "              ('pytanie', 'czy ktoś był traktowany inaczej niż inni')]),\n",
       " OrderedDict([('kod', 'LOVECOUNTRY'),\n",
       "              ('pytanie',\n",
       "               'czy czyjeś działania były przejawem miłości do ojczyzny')])]"
      ]
     },
     "execution_count": 38,
     "metadata": {},
     "output_type": "execute_result"
    }
   ],
   "source": [
    "part1[:3] # pierwszy trzy pytania"
   ]
  },
  {
   "cell_type": "markdown",
   "metadata": {},
   "source": [
    "Drugą kwestią, którą musimy zrobić, to wyeksportowanie do plików `lss` oraz `lsq` naszej ankiety oraz szablonów pytań. Załóżmy, że to zrobiliśmy i mamy je zapisane na dysku jako `survey_template.lss`, `part1_template.lsq` oraz `part2_template.lsq'."
   ]
  },
  {
   "cell_type": "code",
   "execution_count": 68,
   "metadata": {},
   "outputs": [],
   "source": [
    "with open('survey_template.lss') as f:\n",
    "    survey_template = f.read()\n",
    "with open('part1_template.lsq') as f:\n",
    "    part1_template = f.read()\n",
    "with open('part2_template.lsq') as f:\n",
    "    part2_template = f.read()"
   ]
  },
  {
   "cell_type": "markdown",
   "metadata": {},
   "source": [
    "Jak widać pliki wyeksportowane z LimeSurveya to zwykłe pliki w formacie XML. (UWAGA! Musiałem w edytorze tekstowym dodać spacje po i przed `XX` aby działało w jinja2!)."
   ]
  },
  {
   "cell_type": "code",
   "execution_count": 70,
   "metadata": {},
   "outputs": [
    {
     "name": "stdout",
     "output_type": "stream",
     "text": [
      "<?xml version=\"1.0\" encoding=\"UTF-8\"?>\n",
      "<document>\n",
      " <LimeSurveyDocType>Question</LimeSurveyDocType>\n",
      " <DBVersion>355</DBVersion>\n",
      " <languages>\n",
      "  <language>pl</language>\n",
      " </languages>\n",
      " <questions>\n",
      "  <fields>\n",
      "   <fieldname>qid</fieldname>\n",
      "   <fieldname>parent_qid</fieldname>\n",
      "   <fieldname>sid</fieldname>\n",
      "   <fieldname>gid</fieldname>\n",
      "   <fieldname>type</fieldname>\n",
      "   <fieldname>title</fieldname>\n",
      "   <fieldname>question</fieldname>\n",
      "   <fieldname>preg</fieldname>\n",
      "   <fieldname>help</fieldname>\n",
      "   <fieldname>other</fieldname>\n",
      "   <fieldname>mandatory</fieldname>\n",
      "   <fieldname>question_order</fieldname>\n",
      "   <fieldname>language</fieldname>\n",
      "   <fieldname>scale_id</fieldname>\n",
      "   <fieldname>same_default</fieldname>\n",
      "   <fieldname>relevance</fieldname>\n",
      "   <fieldname>modulename</fieldname>\n",
      "  </fields>\n",
      "  <rows>\n",
      "   <row>\n",
      "    <qid><![CDATA[6930]]></qid>\n",
      "    <parent_qid><![CDATA[0]]></parent_qid>\n",
      "    <sid><![CDATA[593485]]></sid>\n",
      "    <gid><![CDATA[2367]]></gid>\n",
      "    <type><![CDATA[F]]></type>\n",
      "    <title><![CDATA[XX questioncode XX]]></title>\n",
      "    <question><![CDATA[<strong>XX questiontext XX</strong>]]></question>\n",
      "    <preg/>\n",
      "    <help/>\n",
      "    <other><![CDATA[N]]></other>\n",
      "    <mandatory><![CDATA[Y]]></mandat\n"
     ]
    }
   ],
   "source": [
    "print(part2_template[:1200])"
   ]
  },
  {
   "cell_type": "markdown",
   "metadata": {},
   "source": [
    "Teraz musimy wykonać za pomocą skryptu następujące czynności:\n",
    "1. Wrzucić do LimeSurveya nową ankietę\n",
    "2. Do pierwszej grupy pytań wrzucić pytania z odpowiedniego szablonu wypełnionego danymi\n",
    "3. Do drugiej grupy pytań wrzucić z pytania z odpowiedniego szablonu wypełnionego danymi"
   ]
  },
  {
   "cell_type": "code",
   "execution_count": 44,
   "metadata": {},
   "outputs": [],
   "source": [
    "from jinja2 import Template, Environment\n",
    "from pprint import pprint, pformat\n",
    "from base64 import b64decode, b64encode\n",
    "from xmlrpc.client import ServerProxy"
   ]
  },
  {
   "cell_type": "markdown",
   "metadata": {},
   "source": [
    "Najpierw połączymy się standardowo z LimeSurveyem i stworzymy specjalne środowisko jinja2."
   ]
  },
  {
   "cell_type": "code",
   "execution_count": 59,
   "metadata": {},
   "outputs": [],
   "source": [
    "kognilab = ServerProxy('http://kognilab.pl/ls3/index.php/admin/remotecontrol') \n",
    "login = 'Użytkownik Testowy'\n",
    "password = 'test123'\n",
    "skey = kognilab.get_session_key(login, password)\n",
    "\n",
    "env = Environment(variable_start_string = 'XX',\n",
    "                 variable_end_string = 'XX', \n",
    "                 block_start_string = 'XV', \n",
    "                 block_end_string = 'VX')"
   ]
  },
  {
   "cell_type": "markdown",
   "metadata": {},
   "source": [
    "Zaimportowanie ankiety jest bardzo proste - wystarczy posłużyć się metodą `import_survey`.\n",
    "\n",
    "Troche skomplikowanie może wyglądać ciąg `encode` i `decode`. Spróbujmy go przeanalizować.\n",
    "1. `survey_template.encode()` konwertuje nasz ciag znaków do postaci `bytes` (innej nie przyjmie `b64encode`)\n",
    "2. `b64encode` konwertuje naszą ankietę do postaci Base64\n",
    "3. `decode` konwertuje Base64 z powrotem do postaci stringa (innaczej nie wyślemy tego na serwer)"
   ]
  },
  {
   "cell_type": "code",
   "execution_count": 72,
   "metadata": {},
   "outputs": [
    {
     "name": "stdout",
     "output_type": "stream",
     "text": [
      "913779\n"
     ]
    }
   ],
   "source": [
    "sid = kognilab.import_survey(skey, b64encode(survey_template.encode()).decode(), 'lss')\n",
    "print(sid)"
   ]
  },
  {
   "cell_type": "markdown",
   "metadata": {},
   "source": [
    "Teraz kiedy mamy numer ankiety możemy zobaczyć, jakie mamy w ankiecie grupy pytań i zapisać ich numery do zmiennych `gid1` oraz `gid2`."
   ]
  },
  {
   "cell_type": "code",
   "execution_count": 74,
   "metadata": {},
   "outputs": [
    {
     "data": {
      "text/plain": [
       "[{'id': {'gid': 2371, 'language': 'pl'},\n",
       "  'gid': 2371,\n",
       "  'sid': 913779,\n",
       "  'group_name': 'PART1',\n",
       "  'group_order': 1,\n",
       "  'description': '',\n",
       "  'language': 'pl',\n",
       "  'randomization_group': '',\n",
       "  'grelevance': ''},\n",
       " {'id': {'gid': 2372, 'language': 'pl'},\n",
       "  'gid': 2372,\n",
       "  'sid': 913779,\n",
       "  'group_name': 'PART2',\n",
       "  'group_order': 2,\n",
       "  'description': '',\n",
       "  'language': 'pl',\n",
       "  'randomization_group': '',\n",
       "  'grelevance': ''}]"
      ]
     },
     "execution_count": 74,
     "metadata": {},
     "output_type": "execute_result"
    }
   ],
   "source": [
    "groups = kognilab.list_groups(skey, sid)\n",
    "gid1 = groups[0]['gid']\n",
    "gid2 = groups[1]['gid']\n",
    "groups"
   ]
  },
  {
   "cell_type": "markdown",
   "metadata": {},
   "source": [
    "Teraz mamy już wszystkie niezbędne informacje - numer nowej ankiety i numery grup w nowej ankiecie. Możemy zaczać wypełniać je pytaniami. Zacznijmy od grupy 1:"
   ]
  },
  {
   "cell_type": "code",
   "execution_count": 75,
   "metadata": {},
   "outputs": [
    {
     "name": "stdout",
     "output_type": "stream",
     "text": [
      "Udało się zaimportować pytanie OrderedDict([('kod', 'EMOTIONALLY'), ('pytanie', 'czy ktoś ucierpiał emocjonalnie')])\n",
      "Udało się zaimportować pytanie OrderedDict([('kod', 'TREATED'), ('pytanie', 'czy ktoś był traktowany inaczej niż inni')])\n",
      "Udało się zaimportować pytanie OrderedDict([('kod', 'LOVECOUNTRY'), ('pytanie', 'czy czyjeś działania były przejawem miłości do ojczyzny')])\n",
      "Udało się zaimportować pytanie OrderedDict([('kod', 'RESPECT'), ('pytanie', 'czy ktoś okazał brak szacunku dla władzy')])\n",
      "Udało się zaimportować pytanie OrderedDict([('kod', 'DECENCY'), ('pytanie', 'czy ktoś pogwałcił zasady czystości i przyzwoitości')])\n",
      "Udało się zaimportować pytanie OrderedDict([('kod', 'MATH'), ('pytanie', 'czy ktoś jest dobry w rozwiązywaniu zadań matematycznych')])\n",
      "Udało się zaimportować pytanie OrderedDict([('kod', 'WEAK'), ('pytanie', 'czy ktoś troszczył się o kogoś słabego lub bezbronnego')])\n",
      "Udało się zaimportować pytanie OrderedDict([('kod', 'UNFAIRLY'), ('pytanie', 'czy ktoś zachował się nieuczciwe')])\n",
      "Udało się zaimportować pytanie OrderedDict([('kod', 'BETRAY'), ('pytanie', 'czy ktoś zrobił coś  aby zdradzić własną grupę')])\n",
      "Udało się zaimportować pytanie OrderedDict([('kod', 'TRADITIONS'), ('pytanie', 'czy ktoś postępował zgodnie z tradycją')])\n",
      "Udało się zaimportować pytanie OrderedDict([('kod', 'DISGUSTING'), ('pytanie', 'czy ktoś zrobił coś obrzydliwego')])\n",
      "Udało się zaimportować pytanie OrderedDict([('kod', 'CRUEL'), ('pytanie', 'czy ktoś zachował się okrutnie')])\n",
      "Udało się zaimportować pytanie OrderedDict([('kod', 'RIGHTS'), ('pytanie', 'czy komuś odmówiono jego/jej praw')])\n",
      "Udało się zaimportować pytanie OrderedDict([('kod', 'LOYALTY'), ('pytanie', 'czy ktoś okazał brak lojalności wobec swojej grupy')])\n",
      "Udało się zaimportować pytanie OrderedDict([('kod', 'CHAOS'), ('pytanie', 'czy czyjeś działania burzą ustalony porządek życia społecznego')])\n",
      "Udało się zaimportować pytanie OrderedDict([('kod', 'GOD'), ('pytanie', 'czy ktoś postępował tak aby nie obrazić Boga')])\n"
     ]
    }
   ],
   "source": [
    "template = env.from_string(part1_template)\n",
    "for question in part1:\n",
    "    question_text = template.render(questioncode2 = question['kod'],\n",
    "                                   questiontext = question['pytanie'])\n",
    "    question_b64 = b64encode(question_text.encode()).decode()\n",
    "    try:\n",
    "        kognilab.import_question(skey, # klucz sesji\n",
    "                                 sid, # numer ankiety\n",
    "                                 gid1, # grupa do któ©ej chcemy dodać pytanie\n",
    "                                 question_b64, # pytanie zakodowane w base64\n",
    "                                 'lsq', # format pytania\n",
    "                                'Yes') # czy obowiązkowe czy nie\n",
    "        print('Udało się zaimportować pytanie', question)\n",
    "    except Exception as e:\n",
    "        print(e)"
   ]
  },
  {
   "cell_type": "markdown",
   "metadata": {},
   "source": [
    "To samo zrobimy z drugą częścią:"
   ]
  },
  {
   "cell_type": "code",
   "execution_count": 76,
   "metadata": {},
   "outputs": [
    {
     "name": "stdout",
     "output_type": "stream",
     "text": [
      "Udało się zaimportować pytanie OrderedDict([('kod', 'COMPASSION'), ('pytanie', 'Współczucie dla cierpiących jest najważniejszą cnotą człowieka')])\n",
      "Udało się zaimportować pytanie OrderedDict([('kod', 'FAIRLY'), ('pytanie', 'Jeśli ustanawia się nowe prawo, to najważniejsze jest, aby wszyscy byli traktowani sprawiedliwie')])\n",
      "Udało się zaimportować pytanie OrderedDict([('kod', 'HISTORY'), ('pytanie', 'Jestem dumny z historii mojego kraju')])\n",
      "Udało się zaimportować pytanie OrderedDict([('kod', 'KIDRESPECT'), ('pytanie', 'Szacunek dla władzy i autorytetów jest czymś, czego powinny nauczyć się wszystkie dzieci')])\n",
      "Udało się zaimportować pytanie OrderedDict([('kod', 'HARMLESSDG'), ('pytanie', 'Nie należy robić rzeczy obrzydliwych, nawet jeśli nikomu nie dzieje się krzywda z tego powodu')])\n",
      "Udało się zaimportować pytanie OrderedDict([('kod', 'ANIMAL'), ('pytanie', 'Jedną z najgorszych rzeczy, jakie może zrobić człowiek, jest skrzywdzenie bezbronnego zwierzęcia')])\n",
      "Udało się zaimportować pytanie OrderedDict([('kod', 'JUSTICE'), ('pytanie', 'Sprawiedliwe traktowanie obywateli jest podstawą dobrego społeczeństwa')])\n",
      "Udało się zaimportować pytanie OrderedDict([('kod', 'FAMILY'), ('pytanie', 'Należy być lojalnym w stosunku do członków rodziny, nawet gdy zrobili coś złego')])\n",
      "Udało się zaimportować pytanie OrderedDict([('kod', 'SEXROLES'), ('pytanie', 'Role kobiet i mężczyzn w społeczeństwie są i powinny być różne')])\n",
      "Udało się zaimportować pytanie OrderedDict([('kod', 'UNNATURAL'), ('pytanie', 'Określiłbym/określiłabym pewne czyny jako złe ze względu na to, że są one niezgodne z naturą')])\n",
      "Udało się zaimportować pytanie OrderedDict([('kod', 'KILL'), ('pytanie', 'Zabicie drugiego człowieka jest - w zdecydowanej większości przypadków - czymś moralnie złym')])\n",
      "Udało się zaimportować pytanie OrderedDict([('kod', 'RICH'), ('pytanie', 'Uważam, że jest to moralnie złe, że dzieci bogatych ludzi mają znacząco lepszy start w życiu niż dzieci biednych ludzi')])\n",
      "Udało się zaimportować pytanie OrderedDict([('kod', 'TEAM'), ('pytanie', 'Solidarność ze swoją grupą jest ważniejsza niż wierność własnym poglądom')])\n",
      "Udało się zaimportować pytanie OrderedDict([('kod', 'SOLDIER'), ('pytanie', 'Gdybym był żołnierzem i nie zgadzałbym się z rozkazem przełożonego, to i tak bym go wykonał, ponieważ taki jest obowiązek żołnierza')])\n",
      "Udało się zaimportować pytanie OrderedDict([('kod', 'CHASTITY'), ('pytanie', 'Czystość seksualna to ważna i cenna cnota człowieka')])\n"
     ]
    }
   ],
   "source": [
    "template = env.from_string(part2_template)\n",
    "for question in part2:\n",
    "    question_text = template.render(questioncode = question['kod'],\n",
    "                                   questiontext = question['pytanie'])\n",
    "    question_b64 = b64encode(question_text.encode()).decode()\n",
    "    try:\n",
    "        kognilab.import_question(skey,\n",
    "                                 sid,\n",
    "                                 gid2,\n",
    "                                 question_b64,\n",
    "                                 'lsq',\n",
    "                                 'Yes')\n",
    "        print('Udało się zaimportować pytanie', question)\n",
    "    except Exception as e:\n",
    "        print(e)"
   ]
  },
  {
   "cell_type": "markdown",
   "metadata": {},
   "source": [
    "Ostatnią rzeczą, którą zrobimy, to aktywujemy przygotowaną ankietę."
   ]
  },
  {
   "cell_type": "code",
   "execution_count": 77,
   "metadata": {},
   "outputs": [
    {
     "data": {
      "text/plain": [
       "{'status': 'OK', 'pluginFeedback': ''}"
      ]
     },
     "execution_count": 77,
     "metadata": {},
     "output_type": "execute_result"
    }
   ],
   "source": [
    "kognilab.activate_survey(skey, sid)"
   ]
  },
  {
   "cell_type": "markdown",
   "metadata": {},
   "source": [
    "Teraz możemy się cieszyć naszą nowazaimportowaną ankietą!\n",
    "\n",
    "http://kognilab.pl/ls3/index.php/913779?lang=pl\n",
    "\n",
    "Oczywiście w przypadku kwestionariusza kodów moralnych moglibyśmy te 30 pytań dodać ręcznie. W badaniach z semantyki eksperymentalnej nierzadko kwestionariusze mają kilkadziesiat pytań i każdy z nich trzeba przygotować w kilku wersjach - wtedy napisanie skryptu może okazać sie pomocne!\n",
    "\n",
    "Dodatkową korzyścią jest to, że gdybyśmy chcieli zmienić format pytania albo inny szczegół, to nie musimy edytować 30 pytań - wystarczy, że zmodyfikujemy szablon i ponownie uruchomimy kod.\n",
    "\n",
    "Ostatnią korzyścią jest korzyść dla reprodukowalności - dzięki użyciu takiej procedury mamy pewność, że pytania w ankiecie, którą wypełnili badani, można prześledzić do prostego pliku CSV."
   ]
  }
 ],
 "metadata": {
  "kernelspec": {
   "display_name": "Python 3",
   "language": "python",
   "name": "python3"
  },
  "language_info": {
   "codemirror_mode": {
    "name": "ipython",
    "version": 3
   },
   "file_extension": ".py",
   "mimetype": "text/x-python",
   "name": "python",
   "nbconvert_exporter": "python",
   "pygments_lexer": "ipython3",
   "version": "3.7.2"
  }
 },
 "nbformat": 4,
 "nbformat_minor": 2
}
