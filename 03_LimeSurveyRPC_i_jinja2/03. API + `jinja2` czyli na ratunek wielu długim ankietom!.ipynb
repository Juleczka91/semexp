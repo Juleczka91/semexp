{
 "cells": [
  {
   "cell_type": "markdown",
   "metadata": {},
   "source": [
    "# API + `jinja2` czyli na ratunek wielu długim ankietom!"
   ]
  },
  {
   "cell_type": "code",
   "execution_count": 1,
   "metadata": {},
   "outputs": [],
   "source": [
    "from jinja2 import Template, Environment\n",
    "from pprint import pprint, pformat\n",
    "from base64 import b64decode\n",
    "from xmlrpc.client import ServerProxy"
   ]
  },
  {
   "cell_type": "code",
   "execution_count": 3,
   "metadata": {},
   "outputs": [],
   "source": [
    "kognilab = ServerProxy('http://kognilab.pl/ls3/index.php/admin/remotecontrol') \n",
    "login = 'Użytkownik Testowy'\n",
    "password = 'test123'\n",
    "skey = kognilab.get_session_key(login, password)\n",
    "\n",
    "env = Environment(variable_start_string = 'XX',\n",
    "                 variable_end_string = 'XX', \n",
    "                 block_start_string = 'XV', \n",
    "                 block_end_string = 'VX')"
   ]
  }
 ],
 "metadata": {
  "kernelspec": {
   "display_name": "Python 3",
   "language": "python",
   "name": "python3"
  },
  "language_info": {
   "codemirror_mode": {
    "name": "ipython",
    "version": 3
   },
   "file_extension": ".py",
   "mimetype": "text/x-python",
   "name": "python",
   "nbconvert_exporter": "python",
   "pygments_lexer": "ipython3",
   "version": "3.7.2"
  }
 },
 "nbformat": 4,
 "nbformat_minor": 2
}
