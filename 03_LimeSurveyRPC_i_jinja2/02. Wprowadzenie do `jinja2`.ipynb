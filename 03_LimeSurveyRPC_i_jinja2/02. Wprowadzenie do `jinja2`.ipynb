{
 "cells": [
  {
   "cell_type": "markdown",
   "metadata": {},
   "source": [
    "# Wprowadzenie do `jinja2`"
   ]
  },
  {
   "cell_type": "markdown",
   "metadata": {},
   "source": [
    "Biblioteka `jinj2` jest silnikiem szablonów napisanym Pythonie. Do czego służy takie silnik szablonów? Ogólnie rzecz ujmując taki silnik wykorzystujemy, kiedy chcemy dynamicznie generować jakiegoś rodzaju dokumenty. Silnik `jinja2` powstał do dynamicznego generowania dokumentów HTML (stron internetowych), ale można go wykorzystać do generowania dowolnych dokumentów, które mają postać tekstu. Na przykład silnik  ten używany jest do przetwarzania plików konfiguracyjnych w pakiecie Ansible (https://www.ansible.com/), służącym do automatycznego zarządzadzania dużą liczbą komputerów (zazwyczaj stacji roboczych lub serwerów). Silnik ten jest więc bardzo elastyczny. Z powodzeniem można go stosować np. w połączeniu z LaTeXem (http://eosrei.net/articles/2015/11/latex-templates-python-and-jinja2-generate-pdfs) do automatycznego generowania dokumentów PDF. Dla nas silnik ten jest interesujący, ponieważ możemy użyć go do:\n",
    "+ generowania raportów z eksperymentu lub ze zbierania danych badawczych\n",
    "+ generowania kwestionariuszy do użycia w badaniach\n",
    "\n",
    "Obie te rzeczy można wykonać na mnóstwo innych sposobów, ale jeśli zależy nam na elastyczności i dużych możliwościach to `jinja2` (lub dowolny inny silnik tego rodzaju) jest świetnym rozwiązaniem.\n",
    "\n",
    "Z biblioteki `jinja` zaimportujemy dwie klasy: `Environment` oraz `Template`."
   ]
  },
  {
   "cell_type": "code",
   "execution_count": 6,
   "metadata": {},
   "outputs": [],
   "source": [
    "from jinja2 import Template, Environment"
   ]
  },
  {
   "cell_type": "markdown",
   "metadata": {},
   "source": [
    "Najprostszy przykład może wydawać się dość trywialny, ale dobrze ilustruje \"o co chodzi\" z szablonami. Najpierw stworzymy szablon (w naszym wypadku będzie to po prostu łańcuch znaków z odpowiednią składnią), skonstruujemy odpowiedni obiekt i potem wypełnimy go danymi:"
   ]
  },
  {
   "cell_type": "code",
   "execution_count": 12,
   "metadata": {},
   "outputs": [
    {
     "data": {
      "text/plain": [
       "'Prowadzący kurs to Bartosz Maćkiewicz'"
      ]
     },
     "execution_count": 12,
     "metadata": {},
     "output_type": "execute_result"
    }
   ],
   "source": [
    "template_string = \"Prowadzący kurs to {{ firstname }} {{ lastname }}\"\n",
    "template = Template(template_string) \n",
    "template.render(firstname='Bartosz', lastname='Maćkiewicz') # render wypełnia szablon danymi"
   ]
  },
  {
   "cell_type": "markdown",
   "metadata": {},
   "source": [
    "Bardziej skomplikowany przykład byłby taki: załóżmy, że mamy pythonowską listę z uczestnikami kursu i chcielibyśmy wygenerować ich listę jako plik tekstowy. Moglibyśmy oczywiście zrobić to za pomocą Pythona dodając do siebie stringi, ale rozwiązanie takie na dłuższą metę trudno utrzymać w porządku."
   ]
  },
  {
   "cell_type": "code",
   "execution_count": 14,
   "metadata": {},
   "outputs": [],
   "source": [
    "uczestnicy_kursu = [{'imię' : 'Jan',\n",
    "                     'nazwisko' : 'Kowalski',\n",
    "                     'kierunek' : 'kognitywistyka'},\n",
    "                    {'imię' : 'Piotr',\n",
    "                     'nazwisko' : 'Nowak',\n",
    "                     'kierunek' : 'filozofia'},\n",
    "                    {'imię' : 'Anna',\n",
    "                     'nazwisko' : 'Jastrzębska',\n",
    "                     'kierunek' : None},\n",
    "                   ]"
   ]
  },
  {
   "cell_type": "markdown",
   "metadata": {},
   "source": [
    "Stwórzmy więc szablon w języku szablonów `jinja2`. Poniższy szablon ilustruje większość ważnych elementów składni tego języka:\n",
    "+ `{{ zmienna }}` zastępowane jest przez wartość zmiennej `zmienna`\n",
    "+ `{% for ... in ... %} wyrażenie {% endfor %}` wykonuje wyrażenie dla każdej wartości z obiektu, po którym iterujemy\n",
    "+ `{% if warunek %} wyrazenie1 [{% else %} wyrazenie2 ] {% endif %}` - zastępuje `wyrazenie1` wartością zmiennej jeśli `warunek` jest spełniony, w innym wypadku robi to z `wyrazenie2` (`else` jest nieobowiązkowe)\n",
    "+ `zmienna|filtr` - stosuje filtr do zmiennej, w tym wypadku filtr `length` zastępuje zmienną jej długością"
   ]
  },
  {
   "cell_type": "code",
   "execution_count": 22,
   "metadata": {},
   "outputs": [
    {
     "name": "stdout",
     "output_type": "stream",
     "text": [
      "Liczba uczestników: 3\n",
      "\n",
      "\n",
      "Dane uczestnika:\n",
      "Jan Kowalski\n",
      "kierunek:  kognitywistyka \n",
      "\n",
      "Dane uczestnika:\n",
      "Piotr Nowak\n",
      "kierunek:  filozofia \n",
      "\n",
      "Dane uczestnika:\n",
      "Anna Jastrzębska\n",
      "kierunek:  brak danych \n",
      "\n"
     ]
    }
   ],
   "source": [
    "template_string = '''Liczba uczestników: {{ participants|length }}\n",
    "\n",
    "{% for participant in participants %}\n",
    "Dane uczestnika:\n",
    "{{ participant.imię }} {{ participant.nazwisko }}\n",
    "kierunek: {% if participant.kierunek is not none  %} {{ participant.kierunek }} {% else %} brak danych {% endif %}\n",
    "{% endfor %}\n",
    "'''\n",
    "\n",
    "template = Template(template_string)\n",
    "print(template.render(participants = uczestnicy_kursu))"
   ]
  },
  {
   "cell_type": "markdown",
   "metadata": {},
   "source": [
    "Może zdarzyć się, że w jakimś rodzaju dokumentów pewne kombinacje znaków są zabronione. Domyślna składnia `jinja2` jest dobra, jeśli pracujemy z plikami HTML/XML, nic nie stoi na przeszkodzie, żeby zmienić łańcuchy znaków, które rozpoczynają lub kończą różne konstrukcje dostępne w `jinja2`. W poniższym przypadku zastąpimy różnego rodzaju nawiasy klamrowe innymi ciągami znaków."
   ]
  },
  {
   "cell_type": "code",
   "execution_count": 23,
   "metadata": {},
   "outputs": [
    {
     "name": "stdout",
     "output_type": "stream",
     "text": [
      "Liczba uczestników: 3\n",
      "\n",
      "\n",
      "Dane uczestnika:\n",
      "Jan Kowalski\n",
      "kierunek:  kognitywistyka \n",
      "\n",
      "Dane uczestnika:\n",
      "Piotr Nowak\n",
      "kierunek:  filozofia \n",
      "\n",
      "Dane uczestnika:\n",
      "Anna Jastrzębska\n",
      "kierunek:  brak danych \n",
      "\n"
     ]
    }
   ],
   "source": [
    "env = Environment(variable_start_string = 'XX', # zastępujemy {{\n",
    "                 variable_end_string = 'XX', # zastępujemy }}\n",
    "                 block_start_string = 'XV', # zastępujemy {%\n",
    "                 block_end_string = 'VX') # zastępujemy %}\n",
    "\n",
    "template_string = '''Liczba uczestników: XX participants|length XX\n",
    "\n",
    "XV for participant in participants VX\n",
    "Dane uczestnika:\n",
    "XX participant.imię XX XX participant.nazwisko XX\n",
    "kierunek: XV if participant.kierunek is not none  VX XX participant.kierunek XX XV else VX brak danych XV endif VX\n",
    "XV endfor VX\n",
    "'''\n",
    "template = env.from_string(template_string)\n",
    "print(template.render(participants = uczestnicy_kursu))"
   ]
  },
  {
   "cell_type": "markdown",
   "metadata": {},
   "source": [
    "Możliwości, jakie daje silnik szablonów są bardzo duże. Zachęcam do eksperymentowania - to jedno z najlepszych narzędzi \"ułatwiających życie\"!"
   ]
  }
 ],
 "metadata": {
  "kernelspec": {
   "display_name": "Python 3",
   "language": "python",
   "name": "python3"
  },
  "language_info": {
   "codemirror_mode": {
    "name": "ipython",
    "version": 3
   },
   "file_extension": ".py",
   "mimetype": "text/x-python",
   "name": "python",
   "nbconvert_exporter": "python",
   "pygments_lexer": "ipython3",
   "version": "3.7.2"
  }
 },
 "nbformat": 4,
 "nbformat_minor": 2
}
