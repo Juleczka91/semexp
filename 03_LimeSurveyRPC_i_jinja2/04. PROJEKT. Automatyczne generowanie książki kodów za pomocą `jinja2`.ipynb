{
 "cells": [
  {
   "cell_type": "markdown",
   "metadata": {},
   "source": [
    "# Automatyczne generowanie książki kodów za pomocą `jinja2`"
   ]
  },
  {
   "cell_type": "markdown",
   "metadata": {},
   "source": [
    "Kiedy mamy jakieś dane bardzo dobrze byłoby wygenerować odpowiednią \"książkę kodów (*code book*), w której mielibyśmy podstawowe informacje dotyczące zmiennych i krótki opis czego te zmienne dotyczą. Oczywiście można zrobić to ręcznie i po prostu napisać odpowiedni dokument, korzystając z Pythona możemy to zadanie nieco zautomatyzować i ułatwić. W R istnieją specjalne pakiety do tego (np. `dataMaid`), w Pythonie nie ma jednak takich. Możemy jednak dość łatwo zreplikować część funkcjonalności w Pythonie. \n",
    "\n",
    "W przykładzie posłużymy się wygenerowanymi przeze mnie przykładowymi danymi, które mogłyby pochodzić z eksperymentu sprawdzającego efekt Stroopa dla dwóch języków - pierwszego (polski) i drugiego (angielski)."
   ]
  },
  {
   "cell_type": "code",
   "execution_count": 125,
   "metadata": {},
   "outputs": [],
   "source": [
    "# Normalnie nie będziemy korzystać z tych pakietów tylko z lepszych wersji, ale tutaj użyjemy ich sobie dla kolorytu\n",
    "import csv\n",
    "from statistics import mean, median, stdev\n",
    "from collections import defaultdict\n",
    "from jinja2 import Template\n",
    "from IPython.display import Markdown"
   ]
  },
  {
   "cell_type": "markdown",
   "metadata": {},
   "source": [
    "Najpierw musimy wczytać dane. W dalszej części kursu nauczymy się jak robić to za pomocą pakietu `pandas`, tutaj jednak użyjemy modułu `csv` z biblioteki standardowej."
   ]
  },
  {
   "cell_type": "code",
   "execution_count": 40,
   "metadata": {},
   "outputs": [],
   "source": [
    "with open('../07_Wizualizacje_danych_w_Pythonie/bi-stroop_sex.csv') as f: # otwieramy plik\n",
    "    data = csv.DictReader(f) # tworzymy obiekt wczytujący plik\n",
    "    data = list(data) # konwertujemy do postaci listy\n",
    "for record in data:\n",
    "    record['rt'] = float(record['rt']) # `rt` oznacza czas reakcji i chcemy aby miał typ `float`"
   ]
  },
  {
   "cell_type": "markdown",
   "metadata": {},
   "source": [
    "Nasze dane wyglądają tak jak poniżej. Jest to po prostu lista słowników (obiektów `OrderedDict` z modułu `collections`). Poniżej wyświetlam pierwsze 3 obserwacje."
   ]
  },
  {
   "cell_type": "code",
   "execution_count": 41,
   "metadata": {},
   "outputs": [
    {
     "data": {
      "text/plain": [
       "[OrderedDict([('participant', '1'),\n",
       "              ('condition', 'congruent'),\n",
       "              ('rt', 192.7897915545731),\n",
       "              ('lang', 'pol'),\n",
       "              ('sex', 'K')]),\n",
       " OrderedDict([('participant', '1'),\n",
       "              ('condition', 'incongruent'),\n",
       "              ('rt', 338.3846854098748),\n",
       "              ('lang', 'pol'),\n",
       "              ('sex', 'K')]),\n",
       " OrderedDict([('participant', '1'),\n",
       "              ('condition', 'congruent'),\n",
       "              ('rt', 129.85952872808804),\n",
       "              ('lang', 'pol'),\n",
       "              ('sex', 'K')])]"
      ]
     },
     "execution_count": 41,
     "metadata": {},
     "output_type": "execute_result"
    }
   ],
   "source": [
    "data[:3]"
   ]
  },
  {
   "cell_type": "markdown",
   "metadata": {},
   "source": [
    "To co teraz chcemy zrobić, to skonstruować dla każdej kolumny w naszych danych zbiór metadanych. Jeśli zmienna jest kategorialna, to chcielibyśmy zobaczyć jakie występują wartości, jaka jest najczęstsza i jaka jest najrzadsza. Jeśli jest to zmienna liczbowa, to chcemy obliczyć średnią, medianę oraz odchylenie standardowe."
   ]
  },
  {
   "cell_type": "code",
   "execution_count": 136,
   "metadata": {},
   "outputs": [],
   "source": [
    "metadata = {}\n",
    "gather = defaultdict(list) # defaultdict tworzy słownik, gdzie domyślną wartością dla każdego klucza jest `list`\n",
    "\n",
    "# Iterujemy po wszystkich obserwacjach i zbieramy wartości do odpowiednich list\n",
    "for record in data:\n",
    "    for k, v in record.items():\n",
    "        gather[k].append(v)\n",
    "        \n",
    "# Kiedy mamy zebrane wartości możemy stworzyć słowniki z metadanymi dla każdej kolumny\n",
    "\n",
    "for k,v in gather.items():\n",
    "    try:\n",
    "        metadata[k] = {\n",
    "            'type' : 'numeric',\n",
    "            'mean' : mean(v),\n",
    "            'std' : stdev(v),\n",
    "            'median' : median(v)\n",
    "        }\n",
    "    except:\n",
    "        metadata[k] = {\n",
    "            'type' : 'factor',\n",
    "            'values' : sorted(list(set(v))),\n",
    "            'most' : max(set(v), key=v.count),\n",
    "            'least' : min(set(v), key=v.count)\n",
    "        }\n"
   ]
  },
  {
   "cell_type": "markdown",
   "metadata": {},
   "source": [
    "Chcielibyśmy również opisać nasze zmienne. W tym celu do każdego słownika możemy dodać klucz `description`, gdzie umieścimy prosty opis w języku polskim, który wyjaśni co to jest za zmienna."
   ]
  },
  {
   "cell_type": "code",
   "execution_count": 137,
   "metadata": {},
   "outputs": [],
   "source": [
    "metadata['participant']['description'] = 'Numer porządkowy uczestnika'\n",
    "metadata['rt']['description'] = 'Czas reakcji w próbie wyrażony w milisekundach'\n",
    "metadata['sex']['description'] = \"Płeć, K=Kobieta, M=Mężczyzna\""
   ]
  },
  {
   "cell_type": "markdown",
   "metadata": {},
   "source": [
    "Poniżej jest krótki szablon w języku szablonów `jinja2` (w składni Markdowna). Po przejściu przez wstęp do `jinja2` wszystko tutaj powinno być jasne."
   ]
  },
  {
   "cell_type": "code",
   "execution_count": 152,
   "metadata": {},
   "outputs": [],
   "source": [
    "template_string = '''# Książka kodowa dla pliku {{ filename }}\n",
    "Autor: {{ author }}\n",
    "\n",
    "Opis: {{ description }}\n",
    "\n",
    "Liczba obserwacji: {{ n_obs }}\n",
    "{% for variable, data in metadata.items() %}\n",
    "## Nazwa kolumny: \"{{ variable }}\"\n",
    "+ **typ**: {{ data.type }}\\\n",
    "{% if data.description %}\n",
    "+ **opis** {{ data.description }}\\\n",
    "{% endif %}\n",
    "{% if data.type == \"factor\" %}\n",
    "+ **wartości**: {{ data['values'] }}\n",
    "+ **najczęściej występująca wartość**: {{ data.most }}\n",
    "+ **najrzadziej występująca wartość**: {{ data.most }}\n",
    "{% else %}\n",
    "+ **średnia**: {{ data.mean }}\n",
    "+ **mediana**: {{ data.median }}\n",
    "+ **odchylenie standardowe**: {{ data.std }}\n",
    "{% endif %}\n",
    "{% endfor %}\n",
    "'''"
   ]
  },
  {
   "cell_type": "markdown",
   "metadata": {},
   "source": [
    "Teraz możemy wygenerować naszą książkę kodową. Oprócz metadanych dotyczących kolumn przekażemy do szablonu jeszcze kilka informacji - nazwę pliku, opis zbioru danych, liczbę obserwacji oraz autora danych (w tym wypadku mnie)."
   ]
  },
  {
   "cell_type": "code",
   "execution_count": 153,
   "metadata": {},
   "outputs": [],
   "source": [
    "template = Template(template_string)\n",
    "codebook = template.render(metadata = metadata,\n",
    "                          filename = 'bi-stroop_sex.csv',\n",
    "                          description = 'Wygenerowane za pomocą skryptu dane przypominające dane z eksperymentu Stoopa',\n",
    "                          n_obs = len(data),\n",
    "                          author = 'Bartosz Maćkiewicz')"
   ]
  },
  {
   "cell_type": "markdown",
   "metadata": {},
   "source": [
    "Teraz możemy zobaczyć jak wygląda nasza książka kodowa. Całkiem nieźle!"
   ]
  },
  {
   "cell_type": "code",
   "execution_count": 154,
   "metadata": {},
   "outputs": [
    {
     "name": "stdout",
     "output_type": "stream",
     "text": [
      "# Książka kodowa dla pliku bi-stroop_sex.csv\n",
      "Autor: Bartosz Maćkiewicz\n",
      "\n",
      "Opis: Wygenerowane za pomocą skryptu dane przypominające dane z eksperymentu Stoopa\n",
      "\n",
      "Liczba obserwacji: 4000\n",
      "\n",
      "## Nazwa kolumny: \"participant\"\n",
      "+ **typ**: factor\n",
      "+ **opis** Numer porządkowy uczestnika\n",
      "\n",
      "+ **wartości**: ['1', '10', '11', '12', '13', '14', '15', '16', '17', '18', '19', '2', '20', '21', '22', '23', '24', '25', '26', '27', '28', '29', '3', '30', '31', '32', '33', '34', '35', '36', '37', '38', '39', '4', '40', '5', '6', '7', '8', '9']\n",
      "+ **najczęściej występująca wartość**: 22\n",
      "+ **najrzadziej występująca wartość**: 22\n",
      "\n",
      "\n",
      "## Nazwa kolumny: \"condition\"\n",
      "+ **typ**: factor\n",
      "\n",
      "+ **wartości**: ['congruent', 'incongruent']\n",
      "+ **najczęściej występująca wartość**: incongruent\n",
      "+ **najrzadziej występująca wartość**: incongruent\n",
      "\n",
      "\n",
      "## Nazwa kolumny: \"rt\"\n",
      "+ **typ**: numeric\n",
      "+ **opis** Czas reakcji w próbie wyrażony w milisekundach\n",
      "\n",
      "+ **średnia**: 396.51166261475345\n",
      "+ **mediana**: 364.20721469939906\n",
      "+ **odchylenie standardowe**: 163.40659244477507\n",
      "\n",
      "\n",
      "## Nazwa kolumny: \"lang\"\n",
      "+ **typ**: factor\n",
      "\n",
      "+ **wartości**: ['eng', 'pol']\n",
      "+ **najczęściej występująca wartość**: eng\n",
      "+ **najrzadziej występująca wartość**: eng\n",
      "\n",
      "\n",
      "## Nazwa kolumny: \"sex\"\n",
      "+ **typ**: factor\n",
      "+ **opis** Płeć, K=Kobieta, M=Mężczyzna\n",
      "\n",
      "+ **wartości**: ['K', 'M']\n",
      "+ **najczęściej występująca wartość**: K\n",
      "+ **najrzadziej występująca wartość**: K\n",
      "\n",
      "\n"
     ]
    }
   ],
   "source": [
    "print(codebook)"
   ]
  },
  {
   "cell_type": "markdown",
   "metadata": {},
   "source": [
    "Naprawde ładnie wygląda jednak dopiero wówczas, gdy wyrenderujemy ją jako sformatowany tekst."
   ]
  },
  {
   "cell_type": "code",
   "execution_count": 155,
   "metadata": {},
   "outputs": [
    {
     "data": {
      "text/markdown": [
       "# Książka kodowa dla pliku bi-stroop_sex.csv\n",
       "Autor: Bartosz Maćkiewicz\n",
       "\n",
       "Opis: Wygenerowane za pomocą skryptu dane przypominające dane z eksperymentu Stoopa\n",
       "\n",
       "Liczba obserwacji: 4000\n",
       "\n",
       "## Nazwa kolumny: \"participant\"\n",
       "+ **typ**: factor\n",
       "+ **opis** Numer porządkowy uczestnika\n",
       "\n",
       "+ **wartości**: ['1', '10', '11', '12', '13', '14', '15', '16', '17', '18', '19', '2', '20', '21', '22', '23', '24', '25', '26', '27', '28', '29', '3', '30', '31', '32', '33', '34', '35', '36', '37', '38', '39', '4', '40', '5', '6', '7', '8', '9']\n",
       "+ **najczęściej występująca wartość**: 22\n",
       "+ **najrzadziej występująca wartość**: 22\n",
       "\n",
       "\n",
       "## Nazwa kolumny: \"condition\"\n",
       "+ **typ**: factor\n",
       "\n",
       "+ **wartości**: ['congruent', 'incongruent']\n",
       "+ **najczęściej występująca wartość**: incongruent\n",
       "+ **najrzadziej występująca wartość**: incongruent\n",
       "\n",
       "\n",
       "## Nazwa kolumny: \"rt\"\n",
       "+ **typ**: numeric\n",
       "+ **opis** Czas reakcji w próbie wyrażony w milisekundach\n",
       "\n",
       "+ **średnia**: 396.51166261475345\n",
       "+ **mediana**: 364.20721469939906\n",
       "+ **odchylenie standardowe**: 163.40659244477507\n",
       "\n",
       "\n",
       "## Nazwa kolumny: \"lang\"\n",
       "+ **typ**: factor\n",
       "\n",
       "+ **wartości**: ['eng', 'pol']\n",
       "+ **najczęściej występująca wartość**: eng\n",
       "+ **najrzadziej występująca wartość**: eng\n",
       "\n",
       "\n",
       "## Nazwa kolumny: \"sex\"\n",
       "+ **typ**: factor\n",
       "+ **opis** Płeć, K=Kobieta, M=Mężczyzna\n",
       "\n",
       "+ **wartości**: ['K', 'M']\n",
       "+ **najczęściej występująca wartość**: K\n",
       "+ **najrzadziej występująca wartość**: K\n",
       "\n"
      ],
      "text/plain": [
       "<IPython.core.display.Markdown object>"
      ]
     },
     "execution_count": 155,
     "metadata": {},
     "output_type": "execute_result"
    }
   ],
   "source": [
    "Markdown(codebook)"
   ]
  }
 ],
 "metadata": {
  "kernelspec": {
   "display_name": "Python 3",
   "language": "python",
   "name": "python3"
  },
  "language_info": {
   "codemirror_mode": {
    "name": "ipython",
    "version": 3
   },
   "file_extension": ".py",
   "mimetype": "text/x-python",
   "name": "python",
   "nbconvert_exporter": "python",
   "pygments_lexer": "ipython3",
   "version": "3.7.2"
  }
 },
 "nbformat": 4,
 "nbformat_minor": 2
}
