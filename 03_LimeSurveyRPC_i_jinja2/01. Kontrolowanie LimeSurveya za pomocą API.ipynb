{
 "cells": [
  {
   "cell_type": "markdown",
   "metadata": {},
   "source": [
    "# Kontrolowanie LimeSurveya za pomocą API\n",
    "\n",
    "Bardzo wiele serwisów internetowych udostępnia API za pomocą którego można wchodzi w interakcje z danym serwisem bez używania do tego interfejsu graficznego, jedynie za pomocą skryptu. Również LimeSurvey (którego używaliśmy do robienia ankiet internetowych) udostępnia API. Dzięki różnym funkcjom z API będziemy w stanie wykonywać dużo powtarzalnych czynności (np. ściąganie danych badawczych, tworzenie długich ankiet).\n",
    "\n",
    "Wszystkie funkcje dostępne za pomocą interfejsu RPC w LimeSurveyu dostępne są tutaj:\n",
    "\n",
    "http://kognilab.pl/ls3/index.php/admin/remotecontrol\n",
    "\n",
    "LimeSurvey oferuje dwa protokoły *remote procedure call* - jeden używający formatu JSON, drugi używający formatu XML. Z przyczyn historycznych na KogniLabowej instancji LimeSurveya używamy protokołu XML-RPC. W bibliotece standardowej Pythona znajduje się biblioteka do obsługi tego wystandaryzowanego protokołu - `xmlrpc`. Ma ona dwa moduły - kliencki i serwerowy. My nie chcemy pisać serwera obsługującego ten protokół, ale chcemy być klientem, dlatego użyjemy `xmlrpc.client`. \n",
    "\n",
    "Dodatkowo będą nam potrzebne dwie dodatkowe biblioteki `simplejson` (ten trzeba ściągnąć dodatkowo!) do pracy z formatem JSON (który LimeSurvey może zwracać) oraz `base64` do dekodowanie danych, które LimeSurvey koduje za pomocą algorytmu base64. \n",
    "\n",
    "Po zaimportowaniu modułów możemy autoryzować się na serwerze za pomocą loginu i hasła do LimeSurveya i otrzymać klucz sesji (*session key*), którym będziemy autoryzować się wykonując dalsze operacje."
   ]
  },
  {
   "cell_type": "code",
   "execution_count": 108,
   "metadata": {},
   "outputs": [
    {
     "data": {
      "text/plain": [
       "'7Elo8CtwyBawLCh~I7nOhrNSyk2yjOOy'"
      ]
     },
     "execution_count": 108,
     "metadata": {},
     "output_type": "execute_result"
    }
   ],
   "source": [
    "from pprint import pprint, pformat # pprint i pformat to prettyprint i prettyformat\n",
    "from base64 import b64decode\n",
    "import simplejson as json\n",
    "from xmlrpc.client import ServerProxy\n",
    "# tworzymy obiekt reprezentujący interfejs RPC\n",
    "kognilab = ServerProxy('http://kognilab.pl/ls3/index.php/admin/remotecontrol') \n",
    "login = 'Użytkownik Testowy'\n",
    "password = 'test123'\n",
    "# otrzymujemy klucz sesji\n",
    "skey = kognilab.get_session_key(login, password)\n",
    "skey"
   ]
  },
  {
   "cell_type": "markdown",
   "metadata": {},
   "source": [
    "Teraz, kiedy jesteśmy już autoryzowani na serwerze możemy wyświetlić listę ankiet, do których mamy dostęp. Python automatycznie konwertuje zwracane dane do postaci słownika (`dict`):"
   ]
  },
  {
   "cell_type": "code",
   "execution_count": 95,
   "metadata": {},
   "outputs": [
    {
     "name": "stdout",
     "output_type": "stream",
     "text": [
      "[{'active': 'Y',\n",
      "  'expires': '',\n",
      "  'sid': 537838,\n",
      "  'startdate': '',\n",
      "  'surveyls_title': 'Ankieta dydaktyczna'}]\n"
     ]
    }
   ],
   "source": [
    "surveys = kognilab.list_surveys(skey, # klucz sesji, to będzie zawsze PIERWSZY argument \n",
    "                                'Użytkownik Testowy') # chcemy tylko ankiety do których my mamy dostęp\n",
    "pprint(surveys)"
   ]
  },
  {
   "cell_type": "markdown",
   "metadata": {},
   "source": [
    "Jeśli chcemy więcej dowiedzieć się o danej ankiecie, możemy skorzystać z funkcji `get_survey_properties`:"
   ]
  },
  {
   "cell_type": "code",
   "execution_count": 109,
   "metadata": {},
   "outputs": [
    {
     "name": "stdout",
     "output_type": "stream",
     "text": [
      "{'active': 'Y',\n",
      " 'additional_languages': '',\n",
      " 'admin': 'Administrator',\n",
      " 'adminemail': 'your-email@example.net',\n",
      " 'alloweditaftercompletion': 'N',\n",
      " 'allowprev': 'Y',\n",
      " 'allowregister': 'N',\n",
      " 'allowsave': 'Y',\n",
      " 'anonymized': 'N',\n",
      " 'assessments': 'N',\n",
      " 'attributedescriptions': '',\n",
      " 'autonumber_start': 0,\n",
      " 'autoredirect': 'N',\n",
      " 'bounce_email': 'your-email@example.net',\n",
      " 'bounceaccountencryption': '',\n",
      " 'bounceaccounthost': '',\n",
      " 'bounceaccountpass': '',\n",
      " 'bounceaccounttype': '',\n",
      " 'bounceaccountuser': '',\n",
      " 'bounceprocessing': 'N',\n",
      " 'bouncetime': '',\n",
      " 'datecreated': '2018-10-11 11:58:19',\n",
      " 'datestamp': 'Y',\n",
      " 'emailnotificationto': '',\n",
      " 'emailresponseto': '',\n",
      " 'expires': '',\n",
      " 'faxto': '',\n",
      " 'format': 'G',\n",
      " 'googleanalyticsapikey': '',\n",
      " 'googleanalyticsstyle': '',\n",
      " 'gsid': 1,\n",
      " 'htmlemail': 'Y',\n",
      " 'ipaddr': 'Y',\n",
      " 'language': 'pl',\n",
      " 'listpublic': 'N',\n",
      " 'navigationdelay': 0,\n",
      " 'nokeyboard': 'N',\n",
      " 'owner_id': 1,\n",
      " 'printanswers': 'N',\n",
      " 'publicgraphs': 'N',\n",
      " 'publicstatistics': 'N',\n",
      " 'questionindex': 2,\n",
      " 'refurl': 'Y',\n",
      " 'savetimings': 'Y',\n",
      " 'sendconfirmation': 'Y',\n",
      " 'showgroupinfo': 'X',\n",
      " 'shownoanswer': 'N',\n",
      " 'showprogress': 'Y',\n",
      " 'showqnumcode': 'X',\n",
      " 'showsurveypolicynotice': 0,\n",
      " 'showwelcome': 'Y',\n",
      " 'showxquestions': 'N',\n",
      " 'sid': 537838,\n",
      " 'startdate': '',\n",
      " 'template': 'fruity',\n",
      " 'tokenanswerspersistence': 'N',\n",
      " 'tokenlength': 15,\n",
      " 'usecaptcha': 'N',\n",
      " 'usecookie': 'N',\n",
      " 'usetokens': 'N'}\n"
     ]
    }
   ],
   "source": [
    "properties = kognilab.get_survey_properties(skey, # skey ZAWSZE pierwszy, jeśli coś nie działa to na 90% dlatego\n",
    "                                            surveys[0]['sid']) # numer ankiety\n",
    "pprint(properties)"
   ]
  },
  {
   "cell_type": "markdown",
   "metadata": {},
   "source": [
    "## Eksport wyników\n",
    "\n",
    "Wyeksportować wyniki pozwala funkcja `export_responses`:"
   ]
  },
  {
   "cell_type": "code",
   "execution_count": 114,
   "metadata": {},
   "outputs": [
    {
     "data": {
      "text/plain": [
       "'eyJyZXNwb25zZXMiOiBbeyIxIjp7IklEIG9kcG93aWVkemkiOiIxIiwiRGF0YSB3eXNcdTAxNDJhbmlhIjoiIiwiT3N0YXRuaWEgc3Ryb25hIjoiNiIsIkpcdTAxMTl6eWsgcG9jelx1MDEwNXRrb3d5IjoicGwiLCJOYXNpZW5pZSI6IjEwNzUxMDE3IiwiRGF0YSByb3pwb2N6XHUwMTE5Y2lhIjoiMjAxOC0xMC0xMiAxMDoyMzo0MiIsIkRhdGEgb3N0YXRuaWVqIGFrY2ppIjoiMjAxOC0xMC0xMiAxMDo1NTo1MCIsIkFkcmVzIElQIjoiMTkzLjAuMTA4LjQyIiwiT2RzeVx1MDE0MmFqXHUwMTA1Y3kgVVJMIjoiaHR0cDpcL1wva29nbmlsYWIucGxcL2xzM1wvaW5kZXgucGhwXC9hZG1pblwvc3VydmV5XC9zYVwvdmlld1wvc3VydmV5aWRcLzUzNzgzOCIsIlphIGNod2lsXHUwMTE5IHpvYmFjenlteSByb2R6YWplIHB5dGFcdTAxNDQsIGt0XHUwMGYzcmUgbW9cdTAxN2NuYSB3eWtvcnp5c3RhXHUw'"
      ]
     },
     "execution_count": 114,
     "metadata": {},
     "output_type": "execute_result"
    }
   ],
   "source": [
    "responses = kognilab.export_responses(skey, # session key zawsze pierwszy\n",
    "                                      surveys[0]['sid'], # numer ankiety\n",
    "                                      'json', # format, dostępne: 'csv', 'pdf', 'doc', 'json', 'xls'\n",
    "                                      properties['language'], # język ankiety\n",
    "                                     'all', # wszystkie odpowiedzi, dostępne: 'complete', 'incomplete', 'all'\n",
    "                                     'full', # format nagłówków, dostępne 'code','full' lub 'abbreviated'\n",
    "                                     'long') # format odpowiedzi, dostępne: 'short', 'long' \n",
    "responses[:600] # pierwsze 600 znaków żeby nie zaśmiecać notebooka..."
   ]
  },
  {
   "cell_type": "markdown",
   "metadata": {},
   "source": [
    "Problem jest taki, że zwracane są odpowiedzi zakodowane w formacie base64. Bez problemu możemy je odkodować używając funkcji `b64decode`."
   ]
  },
  {
   "cell_type": "code",
   "execution_count": 115,
   "metadata": {},
   "outputs": [
    {
     "data": {
      "text/plain": [
       "'{\"responses\": [{\"1\":{\"ID odpowiedzi\":\"1\",\"Data wys\\\\u0142ania\":\"\",\"Ostatnia strona\":\"6\",\"J\\\\u0119zyk pocz\\\\u0105tkowy\":\"pl\",\"Nasienie\":\"10751017\",\"Data rozpocz\\\\u0119cia\":\"2018-10-12 10:23:42\",\"Data ostatniej akcji\":\"2018-10-12 10:55:50\",\"Adres IP\":\"193.0.108.42\",\"Odsy\\\\u0142aj\\\\u0105cy URL\":\"http:\\\\/\\\\/kognilab.pl\\\\/ls3\\\\/index.php\\\\/admin\\\\/survey\\\\/sa\\\\/view\\\\/surveyid\\\\/537838\",\"Za chwil\\\\u0119 zobaczymy rodzaje pyta\\\\u0144, kt\\\\u00f3re mo\\\\u017cna wykorzysta\\\\u0107 z cz\\\\u0119\\\\u015bci badawczej ankiety.  To pytanie ma rodzaj \\\\\"Text display\\\\\". Ten rodzaj pytania pozwala dodawa\\\\u0107 do ankiety ekrany, na kt\\\\u00'"
      ]
     },
     "execution_count": 115,
     "metadata": {},
     "output_type": "execute_result"
    }
   ],
   "source": [
    "decoded = b64decode(responses).decode() # .decode() konwertuje do stringa\n",
    "decoded[:600] # pierwsze 600 znaków, żeby nie zaśmiecać notebooka"
   ]
  },
  {
   "cell_type": "markdown",
   "metadata": {},
   "source": [
    "W wyniku tej operacji faktycznie otrzymaliśmy ciąg znaków w formacie JSON. Żeby go przekonwertować na pythonowski słownik (`dict`) użyjemy funkcji `loads` (*load string*) z biblioteki `simplejson`. "
   ]
  },
  {
   "cell_type": "code",
   "execution_count": 116,
   "metadata": {},
   "outputs": [
    {
     "name": "stdout",
     "output_type": "stream",
     "text": [
      "(\"{'responses': [{'1': {'Adres IP': '193.0.108.42',\\n\"\n",
      " \"                  'Data ostatniej akcji': '2018-10-12 10:55:50',\\n\"\n",
      " \"                  'Data rozpoczęcia': '2018-10-12 10:23:42',\\n\"\n",
      " \"                  'Data wysłania': '',\\n\"\n",
      " \"                  'ID odpowiedzi': '1',\\n\"\n",
      " \"                  'Język początkowy': 'pl',\\n\"\n",
      " \"                  'Nasienie': '10751017',\\n\"\n",
      " \"                  'Odsyłający URL': \"\n",
      " \"'http://kognilab.pl/ls3/index.php/admin/survey/sa/view/surveyid/537838',\\n\"\n",
      " \"                  'Ostatnia strona': '6',\\n\"\n",
      " \"                  'Prosimy wybrać swoją płeć:  (To pytanie jest \"\n",
      " 'niepolityczne - dobrą praktyką jest pozostawienie opcji \"Inne\" oraz \"Nie '\n",
      " 'chcę udzielać odpowiedzi\" - wtedy lepiej uzyć zwykłej listy)\\': \\'N/A\\',\\n'\n",
      " \"                  'Pytania na skali Likerta najłatwiej zrobić za pomocą \"\n",
      " 'rodzaju pytania \"Array\". \"Arr')\n"
     ]
    }
   ],
   "source": [
    "as_dict = json.loads(decoded)\n",
    "pprint(pformat(as_dict, indent=0)[:800]) # cuda na kiju żeby nie zaśmiecać"
   ]
  },
  {
   "cell_type": "markdown",
   "metadata": {},
   "source": [
    "Zwykle nie będziemy chcieli, żeby dane były aż tak opisane. Spróbujmy zamiast pełnych nagłówków i pełnych odpowiedzi ściągnąć tylko ich kody:"
   ]
  },
  {
   "cell_type": "code",
   "execution_count": 117,
   "metadata": {},
   "outputs": [
    {
     "name": "stdout",
     "output_type": "stream",
     "text": [
      "(\"{'responses': [{'1': {'G': None,\\n\"\n",
      " \"                  'Q1': 'A2',\\n\"\n",
      " \"                  'Q2': '',\\n\"\n",
      " \"                  'Q3': 'A2',\\n\"\n",
      " \"                  'Q4[SQ001]': 'A4',\\n\"\n",
      " \"                  'Q5[SQ001]': '91',\\n\"\n",
      " \"                  'Q5[SQ002]': '99',\\n\"\n",
      " \"                  'Y': None,\\n\"\n",
      " \"                  'badawczedisplay': '',\\n\"\n",
      " \"                  'datestamp': '2018-10-12 10:55:50',\\n\"\n",
      " \"                  'id': '1',\\n\"\n",
      " \"                  'ipaddr': '193.0.108.42',\\n\"\n",
      " \"                  'lastpage': '6',\\n\"\n",
      " \"                  'refurl': \"\n",
      " \"'http://kognilab.pl/ls3/index.php/admin/survey/sa/view/surveyid/537838',\\n\"\n",
      " \"                  'seed': '10751017',\\n\"\n",
      " \"                  'startdate': '2018-10-12 10:23:42',\\n\"\n",
      " \"                  'startlanguage': 'pl',\\n\"\n",
      " \"                  'submitdate': None}},\\n\"\n",
      " \"             {'2': {'G': None,\\n\"\n",
      " \"                  'Q1': 'A2',\\n\"\n",
      " ' ')\n"
     ]
    }
   ],
   "source": [
    "responses = kognilab.export_responses(skey,\n",
    "                                      surveys[0]['sid'],\n",
    "                                      'json',\n",
    "                                      properties['language'],\n",
    "                                     'all',\n",
    "                                     'code',\n",
    "                                     'short')\n",
    "as_dict = json.loads(b64decode(responses).decode())\n",
    "pprint(pformat(as_dict, indent=0)[:800])"
   ]
  },
  {
   "cell_type": "markdown",
   "metadata": {},
   "source": [
    "Świetnie! Prawie jesteśmy w domu. Teraz musimy coś zrobić z osobliwym formatem w jakim dostaliśmy dane. Dostaliśmy je jako `dict`. Prosty *one-liner* przekonwertuje je do bardziej intuicyjnego formatu (lista, 1 element = 1 badany)."
   ]
  },
  {
   "cell_type": "code",
   "execution_count": 118,
   "metadata": {},
   "outputs": [
    {
     "data": {
      "text/plain": [
       "{'id': '2',\n",
       " 'submitdate': None,\n",
       " 'lastpage': '4',\n",
       " 'startlanguage': 'pl',\n",
       " 'seed': '1038795668',\n",
       " 'startdate': '2018-10-12 10:25:20',\n",
       " 'datestamp': '2018-10-12 10:37:53',\n",
       " 'ipaddr': '193.0.101.210',\n",
       " 'refurl': 'http://kognilab.pl/ls3/index.php/admin/survey/sa/view/surveyid/537838',\n",
       " 'badawczedisplay': '',\n",
       " 'Q1': 'A2',\n",
       " 'Q2': 'A6',\n",
       " 'Q3': 'A2',\n",
       " 'Q4[SQ001]': None,\n",
       " 'Q5[SQ001]': None,\n",
       " 'Q5[SQ002]': None,\n",
       " 'G': None,\n",
       " 'Y': None}"
      ]
     },
     "execution_count": 118,
     "metadata": {},
     "output_type": "execute_result"
    }
   ],
   "source": [
    "responses = [list(response.values())[0] for response in as_dict['responses']]\n",
    "responses[1]"
   ]
  },
  {
   "cell_type": "markdown",
   "metadata": {},
   "source": [
    "Teraz możemy na przykład zobaczyć rok urodzenia uczestników badania (jeżeli nie podali w ankiecie wieku to oznaczamy to wartością 0)"
   ]
  },
  {
   "cell_type": "code",
   "execution_count": 119,
   "metadata": {},
   "outputs": [
    {
     "data": {
      "text/plain": [
       "[0, 0, 1996, 0, 0, 66666, 0, 0, 0, 0]"
      ]
     },
     "execution_count": 119,
     "metadata": {},
     "output_type": "execute_result"
    }
   ],
   "source": [
    "lata_urodzenia = [int(response['Y']) if response['Y'] is not None else 0 for response in responses]\n",
    "lata_urodzenia[:10]"
   ]
  },
  {
   "cell_type": "markdown",
   "metadata": {},
   "source": [
    "## Eksport ankiet do pliku CSV\n",
    "\n",
    "Najbardziej przydatnym sposobem eksportowania ankiet za pomocą RPC jest eksport do plików CSV. Najłatwiej zrobić to w ten sposób:"
   ]
  },
  {
   "cell_type": "code",
   "execution_count": 106,
   "metadata": {},
   "outputs": [
    {
     "name": "stdout",
     "output_type": "stream",
     "text": [
      "Udało się zapisać plik!\n"
     ]
    }
   ],
   "source": [
    "responses = kognilab.export_responses(skey,\n",
    "                                      surveys[0]['sid'], # numer ankiety\n",
    "                                      'csv', # format pliku\n",
    "                                      properties['language'], # język ankiety\n",
    "                                     'completed', # status - \"completed\" albo \"all\"\n",
    "                                     'code', # chcemy tylko kody odpowiedzi\n",
    "                                     'short') # krótkie nazwy kolumn\n",
    "csv = b64decode(responses).decode()\n",
    "try:\n",
    "    with open(str(surveys[0]['sid'])+'.csv', 'w') as f:\n",
    "        f.write(csv)\n",
    "    print('Udało się zapisać plik!')\n",
    "except Exception as e:\n",
    "    print('Coś poszło nie tak...')\n",
    "    print(e)"
   ]
  }
 ],
 "metadata": {
  "kernelspec": {
   "display_name": "Python 3",
   "language": "python",
   "name": "python3"
  },
  "language_info": {
   "codemirror_mode": {
    "name": "ipython",
    "version": 3
   },
   "file_extension": ".py",
   "mimetype": "text/x-python",
   "name": "python",
   "nbconvert_exporter": "python",
   "pygments_lexer": "ipython3",
   "version": "3.7.2"
  }
 },
 "nbformat": 4,
 "nbformat_minor": 2
}
