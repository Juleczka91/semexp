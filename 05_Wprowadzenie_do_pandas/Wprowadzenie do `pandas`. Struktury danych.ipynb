{
 "cells": [
  {
   "cell_type": "markdown",
   "metadata": {},
   "source": [
    "# Wprowadzenie do `pandas`. Struktury danych"
   ]
  },
  {
   "cell_type": "markdown",
   "metadata": {},
   "source": [
    "W tej części kursu omówimy dwie podstawowe struktury danych z pakietu `pandas`: `DataFrame` i `Series`, obliczanie najprostszych deskryptywnych statystyk oraz podstawowe operacje na ramkach danych (wybieranie obserwacji, dodawanie nowych kolumn itp.). Sprawne manipulowanie tymi obiektami jest podstawą analizy danych w Pythonie. Aby z nich korzystać musimy najpierw załadować do Pythona odpowiednie pakiety."
   ]
  },
  {
   "cell_type": "code",
   "execution_count": 110,
   "metadata": {},
   "outputs": [],
   "source": [
    "import pandas as pd\n",
    "from pandas import DataFrame, Series"
   ]
  },
  {
   "cell_type": "markdown",
   "metadata": {},
   "source": [
    "## `Series` z pakietu `pandas`"
   ]
  },
  {
   "cell_type": "markdown",
   "metadata": {},
   "source": [
    "Obiekty klasy `Series` można tworzyć na wiele sposobów. Zwykle danych nie będziemy wprowadzać ręcznie, lecz będziemy wczytywać je z plików. Na potrzeby przykładu stworzymy jednak prosty obiekt klasy `Series` ręcznie. Najprostszym sposobem jest przekazanie konstruktorowi listy wartości, jaki chcemy umieścić w naszym obiekcie."
   ]
  },
  {
   "cell_type": "code",
   "execution_count": 111,
   "metadata": {},
   "outputs": [],
   "source": [
    "oceny = Series([4, 4.5 ,4, 3, 4.5, 5, 3, 2, 2])"
   ]
  },
  {
   "cell_type": "markdown",
   "metadata": {},
   "source": [
    "Jak możemy zobaczyć nasza zmienna `oceny` to faktycznie obiekt Series:"
   ]
  },
  {
   "cell_type": "code",
   "execution_count": 112,
   "metadata": {},
   "outputs": [
    {
     "data": {
      "text/plain": [
       "pandas.core.series.Series"
      ]
     },
     "execution_count": 112,
     "metadata": {},
     "output_type": "execute_result"
    }
   ],
   "source": [
    "type(oceny)"
   ]
  },
  {
   "cell_type": "markdown",
   "metadata": {},
   "source": [
    "Obiekt taki możemy wyświetlić albo za pomocą funkcji `print` albo (jeśli korzystamy z Notebooków lub podobnego rozwiązania) po prostu wywołując tę zmienną. Warto zwrócić uwagę na dwa fakty:\n",
    "* na samym dole znajdziemy informację, że obiekt ten przechowuje wartości typu `float64` (czyli liczby zmiennoprzecinkowe). Sugeruje to, że inne typy danych również mogą być przechowywane za pomocą obiektu `Series`,\n",
    "* po lewej stronie wyświetlany jest indeks, który `Series` przypisuje kolejnym wartościom."
   ]
  },
  {
   "cell_type": "code",
   "execution_count": 113,
   "metadata": {},
   "outputs": [
    {
     "data": {
      "text/plain": [
       "0    4.0\n",
       "1    4.5\n",
       "2    4.0\n",
       "3    3.0\n",
       "4    4.5\n",
       "5    5.0\n",
       "6    3.0\n",
       "7    2.0\n",
       "8    2.0\n",
       "dtype: float64"
      ]
     },
     "execution_count": 113,
     "metadata": {},
     "output_type": "execute_result"
    }
   ],
   "source": [
    "oceny"
   ]
  },
  {
   "cell_type": "markdown",
   "metadata": {},
   "source": [
    "Domyślnie indeks to kolejne liczby naturalne:"
   ]
  },
  {
   "cell_type": "code",
   "execution_count": 114,
   "metadata": {},
   "outputs": [
    {
     "data": {
      "text/plain": [
       "RangeIndex(start=0, stop=9, step=1)"
      ]
     },
     "execution_count": 114,
     "metadata": {},
     "output_type": "execute_result"
    }
   ],
   "source": [
    "oceny.index"
   ]
  },
  {
   "cell_type": "markdown",
   "metadata": {},
   "source": [
    "Nic nie stoi jednak na przeszkodzie, aby zastąpić ten indeks np. imionami studentów:"
   ]
  },
  {
   "cell_type": "code",
   "execution_count": 115,
   "metadata": {},
   "outputs": [
    {
     "data": {
      "text/plain": [
       "Kasia     4.0\n",
       "Marek     4.5\n",
       "Zosia     4.0\n",
       "Basia     3.0\n",
       "Tomasz    4.5\n",
       "Ela       5.0\n",
       "Piotr     3.0\n",
       "Paweł     2.0\n",
       "Lucyna    2.0\n",
       "dtype: float64"
      ]
     },
     "execution_count": 115,
     "metadata": {},
     "output_type": "execute_result"
    }
   ],
   "source": [
    "oceny.index = ['Kasia', 'Marek', 'Zosia', 'Basia', 'Tomasz', 'Ela', 'Piotr', 'Paweł', 'Lucyna']\n",
    "oceny"
   ]
  },
  {
   "cell_type": "markdown",
   "metadata": {},
   "source": [
    "Jeżeli `Series` zawiera liczby, to możemy łatwo obliczyć podstawowe statystyki deskryptywne. Odpowiednie metody mają dość intuicyjne nazwy. W poniższym przykładzie obliczamy średnią, odchylenie standardowę oraz wariancję dla naszych wartości."
   ]
  },
  {
   "cell_type": "code",
   "execution_count": 143,
   "metadata": {},
   "outputs": [
    {
     "name": "stdout",
     "output_type": "stream",
     "text": [
      "Podstawowe statystyki deskryptywne\n",
      "Średnia:  3.5555555555555554\n",
      "Odchylenie standardowe:  1.102396379610246\n",
      "Wariancja:  1.2152777777777777\n"
     ]
    }
   ],
   "source": [
    "print('Podstawowe statystyki deskryptywne')\n",
    "print('Średnia: ', oceny.mean())\n",
    "print('Odchylenie standardowe: ', oceny.std())\n",
    "print('Wariancja: ', oceny.var())"
   ]
  },
  {
   "cell_type": "markdown",
   "metadata": {},
   "source": [
    "Jeśli chcemy od razu zobaczyć więcej informacji o naszej zmiennej, możemy posłużyć się metodą `describe`. Zwraca ona nie tylko średnią i odchylenie standardowe, ale również medianę (50 percentyl), kwartyle, najmniejszą oraz największą wartość. "
   ]
  },
  {
   "cell_type": "code",
   "execution_count": 117,
   "metadata": {},
   "outputs": [
    {
     "data": {
      "text/plain": [
       "count    9.000000\n",
       "mean     3.555556\n",
       "std      1.102396\n",
       "min      2.000000\n",
       "25%      3.000000\n",
       "50%      4.000000\n",
       "75%      4.500000\n",
       "max      5.000000\n",
       "dtype: float64"
      ]
     },
     "execution_count": 117,
     "metadata": {},
     "output_type": "execute_result"
    }
   ],
   "source": [
    "oceny.describe()"
   ]
  },
  {
   "cell_type": "markdown",
   "metadata": {},
   "source": [
    "Na obiektach klasy `Series`, które zawierają wartości liczbowe możemy wykonywać rozmaite operacje wektorowe. Załóżmy, że chcemy wystandaryzować nasz zbiór danych, to znaczy obliczyć z-score każdej obserwacji. Odpowiedni wzór na z-score to:\n",
    "\n",
    "$$ z = \\frac{x - \\bar{x}}{S} $$\n",
    "\n",
    "Innymi słowy od każdej obserwacji odejmujemy średnią a następnie dzielimy tę wartość przez odchylenie standardowe. W przypadku `pandas` operacja ta wygląda bardzo podobnie jak w R:"
   ]
  },
  {
   "cell_type": "code",
   "execution_count": 118,
   "metadata": {},
   "outputs": [
    {
     "data": {
      "text/plain": [
       "Kasia     0.403162\n",
       "Marek     0.856719\n",
       "Zosia     0.403162\n",
       "Basia    -0.503953\n",
       "Tomasz    0.856719\n",
       "Ela       1.310277\n",
       "Piotr    -0.503953\n",
       "Paweł    -1.411067\n",
       "Lucyna   -1.411067\n",
       "dtype: float64"
      ]
     },
     "execution_count": 118,
     "metadata": {},
     "output_type": "execute_result"
    }
   ],
   "source": [
    "(oceny - oceny.mean())/oceny.std() # operacje wykonywane są element po elemencie"
   ]
  },
  {
   "cell_type": "markdown",
   "metadata": {},
   "source": [
    "Klasa `Series` przydatna jest nie tylko do przechowywania liczb. Możemy przechowywać w niej również inne rodzaje danych, np. łańcuchy znaków. Sposób ręcznego tworzenia takiego obiektu jest identyczny - wystarczy przekazać konstruktorowi listę z wartościami. Dodatkowo już tworząc obiekt ustalimy odpowiedni indeks, tzn. imiona studentów."
   ]
  },
  {
   "cell_type": "code",
   "execution_count": 119,
   "metadata": {},
   "outputs": [],
   "source": [
    "plec = Series(['K', 'M', 'K', 'K', 'M', 'K', 'M', 'M', 'K'], index = oceny.index)"
   ]
  },
  {
   "cell_type": "markdown",
   "metadata": {},
   "source": [
    "Możemy zauważyć, że metoda `describe` jest sprytna i w przypadku innych niż liczbowe wartości zwraca inny zbiór informacji o zmiennej. W tym przypadku mówi nam ile jest unikatowych wartości, jaka jest najczęściej występująca wartość oraz ile razy ta wartość wystąpiła w naszym zbiorze danych. W naszym przypadku dowiadujemy się, że najczęściej występującą wartością było 'K' (kobieta) oraz, że wartość ta wystąpiła 5 razy."
   ]
  },
  {
   "cell_type": "code",
   "execution_count": 120,
   "metadata": {},
   "outputs": [
    {
     "data": {
      "text/plain": [
       "count     9\n",
       "unique    2\n",
       "top       K\n",
       "freq      5\n",
       "dtype: object"
      ]
     },
     "execution_count": 120,
     "metadata": {},
     "output_type": "execute_result"
    }
   ],
   "source": [
    "plec.describe()"
   ]
  },
  {
   "cell_type": "markdown",
   "metadata": {},
   "source": [
    "Jeżeli chcemy się dowiedzieć jak czesto występowały w naszym zbiorze danych poszczególne wartości, musimy posłużyć się metodą `value_counts`. Dowiadujemy się, że w naszym zbiorze mamy 5 wartości 'K' oraz 4 wartości 'M'."
   ]
  },
  {
   "cell_type": "code",
   "execution_count": 121,
   "metadata": {},
   "outputs": [
    {
     "data": {
      "text/plain": [
       "K    5\n",
       "M    4\n",
       "dtype: int64"
      ]
     },
     "execution_count": 121,
     "metadata": {},
     "output_type": "execute_result"
    }
   ],
   "source": [
    "plec.value_counts()"
   ]
  },
  {
   "cell_type": "markdown",
   "metadata": {},
   "source": [
    "## `DataFrame` z pakietu `pandas`"
   ]
  },
  {
   "cell_type": "markdown",
   "metadata": {},
   "source": [
    "Z punktu widzenia manipulacji danych najbardziej przydatnym narzędziem oferowanym przez `pandas` jest klasa `DataFrame` (ramka danych). W zasadzie wygląda (i działa) ona bardzo podobnie, jak struktura `data.frame` w R. Obiekty klasy `DataFrame` możemy tworzyć na wiele sposobów. My wykorzystamy sposób, w którym konstruktorowi przekazujemy słownik, w którym kluczami są nazwy kolumn a wartościami są obiekty klasy `Series` lub po prostu zwykłe Pythonowskie listy (uwaga! muszą mieć taką samą długość)."
   ]
  },
  {
   "cell_type": "code",
   "execution_count": 122,
   "metadata": {},
   "outputs": [],
   "source": [
    "df = DataFrame({'Ocena z filozofii' : oceny,\n",
    "                'Ocena z psychologii' : [3,3,4.5,4,5,3.5,4,5,3],\n",
    "               'Płeć' : plec})"
   ]
  },
  {
   "cell_type": "markdown",
   "metadata": {},
   "source": [
    "Ramki danych możemy ładnie wydrukować w Notebookach po prostu wywołując ich nazwę: "
   ]
  },
  {
   "cell_type": "code",
   "execution_count": 123,
   "metadata": {},
   "outputs": [
    {
     "data": {
      "text/html": [
       "<div>\n",
       "<style scoped>\n",
       "    .dataframe tbody tr th:only-of-type {\n",
       "        vertical-align: middle;\n",
       "    }\n",
       "\n",
       "    .dataframe tbody tr th {\n",
       "        vertical-align: top;\n",
       "    }\n",
       "\n",
       "    .dataframe thead th {\n",
       "        text-align: right;\n",
       "    }\n",
       "</style>\n",
       "<table border=\"1\" class=\"dataframe\">\n",
       "  <thead>\n",
       "    <tr style=\"text-align: right;\">\n",
       "      <th></th>\n",
       "      <th>Ocena z filozofii</th>\n",
       "      <th>Ocena z psychologii</th>\n",
       "      <th>Płeć</th>\n",
       "    </tr>\n",
       "  </thead>\n",
       "  <tbody>\n",
       "    <tr>\n",
       "      <th>Kasia</th>\n",
       "      <td>4.0</td>\n",
       "      <td>3.0</td>\n",
       "      <td>K</td>\n",
       "    </tr>\n",
       "    <tr>\n",
       "      <th>Marek</th>\n",
       "      <td>4.5</td>\n",
       "      <td>3.0</td>\n",
       "      <td>M</td>\n",
       "    </tr>\n",
       "    <tr>\n",
       "      <th>Zosia</th>\n",
       "      <td>4.0</td>\n",
       "      <td>4.5</td>\n",
       "      <td>K</td>\n",
       "    </tr>\n",
       "    <tr>\n",
       "      <th>Basia</th>\n",
       "      <td>3.0</td>\n",
       "      <td>4.0</td>\n",
       "      <td>K</td>\n",
       "    </tr>\n",
       "    <tr>\n",
       "      <th>Tomasz</th>\n",
       "      <td>4.5</td>\n",
       "      <td>5.0</td>\n",
       "      <td>M</td>\n",
       "    </tr>\n",
       "    <tr>\n",
       "      <th>Ela</th>\n",
       "      <td>5.0</td>\n",
       "      <td>3.5</td>\n",
       "      <td>K</td>\n",
       "    </tr>\n",
       "    <tr>\n",
       "      <th>Piotr</th>\n",
       "      <td>3.0</td>\n",
       "      <td>4.0</td>\n",
       "      <td>M</td>\n",
       "    </tr>\n",
       "    <tr>\n",
       "      <th>Paweł</th>\n",
       "      <td>2.0</td>\n",
       "      <td>5.0</td>\n",
       "      <td>M</td>\n",
       "    </tr>\n",
       "    <tr>\n",
       "      <th>Lucyna</th>\n",
       "      <td>2.0</td>\n",
       "      <td>3.0</td>\n",
       "      <td>K</td>\n",
       "    </tr>\n",
       "  </tbody>\n",
       "</table>\n",
       "</div>"
      ],
      "text/plain": [
       "        Ocena z filozofii  Ocena z psychologii Płeć\n",
       "Kasia                 4.0                  3.0    K\n",
       "Marek                 4.5                  3.0    M\n",
       "Zosia                 4.0                  4.5    K\n",
       "Basia                 3.0                  4.0    K\n",
       "Tomasz                4.5                  5.0    M\n",
       "Ela                   5.0                  3.5    K\n",
       "Piotr                 3.0                  4.0    M\n",
       "Paweł                 2.0                  5.0    M\n",
       "Lucyna                2.0                  3.0    K"
      ]
     },
     "execution_count": 123,
     "metadata": {},
     "output_type": "execute_result"
    }
   ],
   "source": [
    "df"
   ]
  },
  {
   "cell_type": "markdown",
   "metadata": {},
   "source": [
    "W przypadku ramki danych metoda `describe` będzie starała się sprytnie zgadnąć, o co nam chodzi. Tutaj pokazuje nam statystyki deskryptywne dla wszystkich liczbowych zmiennych w naszym zbiorze danych:"
   ]
  },
  {
   "cell_type": "code",
   "execution_count": 124,
   "metadata": {},
   "outputs": [
    {
     "data": {
      "text/html": [
       "<div>\n",
       "<style scoped>\n",
       "    .dataframe tbody tr th:only-of-type {\n",
       "        vertical-align: middle;\n",
       "    }\n",
       "\n",
       "    .dataframe tbody tr th {\n",
       "        vertical-align: top;\n",
       "    }\n",
       "\n",
       "    .dataframe thead th {\n",
       "        text-align: right;\n",
       "    }\n",
       "</style>\n",
       "<table border=\"1\" class=\"dataframe\">\n",
       "  <thead>\n",
       "    <tr style=\"text-align: right;\">\n",
       "      <th></th>\n",
       "      <th>Ocena z filozofii</th>\n",
       "      <th>Ocena z psychologii</th>\n",
       "    </tr>\n",
       "  </thead>\n",
       "  <tbody>\n",
       "    <tr>\n",
       "      <th>count</th>\n",
       "      <td>9.000000</td>\n",
       "      <td>9.000000</td>\n",
       "    </tr>\n",
       "    <tr>\n",
       "      <th>mean</th>\n",
       "      <td>3.555556</td>\n",
       "      <td>3.888889</td>\n",
       "    </tr>\n",
       "    <tr>\n",
       "      <th>std</th>\n",
       "      <td>1.102396</td>\n",
       "      <td>0.820738</td>\n",
       "    </tr>\n",
       "    <tr>\n",
       "      <th>min</th>\n",
       "      <td>2.000000</td>\n",
       "      <td>3.000000</td>\n",
       "    </tr>\n",
       "    <tr>\n",
       "      <th>25%</th>\n",
       "      <td>3.000000</td>\n",
       "      <td>3.000000</td>\n",
       "    </tr>\n",
       "    <tr>\n",
       "      <th>50%</th>\n",
       "      <td>4.000000</td>\n",
       "      <td>4.000000</td>\n",
       "    </tr>\n",
       "    <tr>\n",
       "      <th>75%</th>\n",
       "      <td>4.500000</td>\n",
       "      <td>4.500000</td>\n",
       "    </tr>\n",
       "    <tr>\n",
       "      <th>max</th>\n",
       "      <td>5.000000</td>\n",
       "      <td>5.000000</td>\n",
       "    </tr>\n",
       "  </tbody>\n",
       "</table>\n",
       "</div>"
      ],
      "text/plain": [
       "       Ocena z filozofii  Ocena z psychologii\n",
       "count           9.000000             9.000000\n",
       "mean            3.555556             3.888889\n",
       "std             1.102396             0.820738\n",
       "min             2.000000             3.000000\n",
       "25%             3.000000             3.000000\n",
       "50%             4.000000             4.000000\n",
       "75%             4.500000             4.500000\n",
       "max             5.000000             5.000000"
      ]
     },
     "execution_count": 124,
     "metadata": {},
     "output_type": "execute_result"
    }
   ],
   "source": [
    "df.describe()"
   ]
  },
  {
   "cell_type": "markdown",
   "metadata": {},
   "source": [
    "Poszczególne pojedyncze kolumny możemy wybierać z ramki danych używając składni: `ramka[nazwa_kolumny]`. Taka konstrukcja zwraca po prostu obiekt klasy `Series`."
   ]
  },
  {
   "cell_type": "code",
   "execution_count": 125,
   "metadata": {},
   "outputs": [
    {
     "data": {
      "text/plain": [
       "Kasia     4.0\n",
       "Marek     4.5\n",
       "Zosia     4.0\n",
       "Basia     3.0\n",
       "Tomasz    4.5\n",
       "Ela       5.0\n",
       "Piotr     3.0\n",
       "Paweł     2.0\n",
       "Lucyna    2.0\n",
       "Name: Ocena z filozofii, dtype: float64"
      ]
     },
     "execution_count": 125,
     "metadata": {},
     "output_type": "execute_result"
    }
   ],
   "source": [
    "df['Ocena z filozofii']"
   ]
  },
  {
   "cell_type": "markdown",
   "metadata": {},
   "source": [
    "Ze względu na to, że omówiona wyżej konstrukcja zwraca obiekt `Series`, jesteśmy w stanie wykonywać wektorowe operacje. Załóżmy, że chcemy się dowiedzieć jaką średnią ocenę z filozofii otrzymały kobiety z naszego zbioru danych. W tym celu najpierw musimy wybrać z naszego zbioru danych te obseracje, które dotyczą kobiet. Najpierw spróbujmy dowiedzieć się, które obserwacje dotyczą kobiet:"
   ]
  },
  {
   "cell_type": "code",
   "execution_count": 126,
   "metadata": {},
   "outputs": [
    {
     "data": {
      "text/plain": [
       "Kasia      True\n",
       "Marek     False\n",
       "Zosia      True\n",
       "Basia      True\n",
       "Tomasz    False\n",
       "Ela        True\n",
       "Piotr     False\n",
       "Paweł     False\n",
       "Lucyna     True\n",
       "Name: Płeć, dtype: bool"
      ]
     },
     "execution_count": 126,
     "metadata": {},
     "output_type": "execute_result"
    }
   ],
   "source": [
    "df['Płeć'] == 'K'"
   ]
  },
  {
   "cell_type": "markdown",
   "metadata": {},
   "source": [
    "Otrzymaliśmy `Series` z wartościami logicznymi. Możemy takiego obiektu łatwo użyć do odfiltrowania interesujących nas obserwacji. Odpowiednia składnia to: `ramka_danych[series_typu_bool]`"
   ]
  },
  {
   "cell_type": "code",
   "execution_count": 127,
   "metadata": {},
   "outputs": [
    {
     "data": {
      "text/html": [
       "<div>\n",
       "<style scoped>\n",
       "    .dataframe tbody tr th:only-of-type {\n",
       "        vertical-align: middle;\n",
       "    }\n",
       "\n",
       "    .dataframe tbody tr th {\n",
       "        vertical-align: top;\n",
       "    }\n",
       "\n",
       "    .dataframe thead th {\n",
       "        text-align: right;\n",
       "    }\n",
       "</style>\n",
       "<table border=\"1\" class=\"dataframe\">\n",
       "  <thead>\n",
       "    <tr style=\"text-align: right;\">\n",
       "      <th></th>\n",
       "      <th>Ocena z filozofii</th>\n",
       "      <th>Ocena z psychologii</th>\n",
       "      <th>Płeć</th>\n",
       "    </tr>\n",
       "  </thead>\n",
       "  <tbody>\n",
       "    <tr>\n",
       "      <th>Kasia</th>\n",
       "      <td>4.0</td>\n",
       "      <td>3.0</td>\n",
       "      <td>K</td>\n",
       "    </tr>\n",
       "    <tr>\n",
       "      <th>Zosia</th>\n",
       "      <td>4.0</td>\n",
       "      <td>4.5</td>\n",
       "      <td>K</td>\n",
       "    </tr>\n",
       "    <tr>\n",
       "      <th>Basia</th>\n",
       "      <td>3.0</td>\n",
       "      <td>4.0</td>\n",
       "      <td>K</td>\n",
       "    </tr>\n",
       "    <tr>\n",
       "      <th>Ela</th>\n",
       "      <td>5.0</td>\n",
       "      <td>3.5</td>\n",
       "      <td>K</td>\n",
       "    </tr>\n",
       "    <tr>\n",
       "      <th>Lucyna</th>\n",
       "      <td>2.0</td>\n",
       "      <td>3.0</td>\n",
       "      <td>K</td>\n",
       "    </tr>\n",
       "  </tbody>\n",
       "</table>\n",
       "</div>"
      ],
      "text/plain": [
       "        Ocena z filozofii  Ocena z psychologii Płeć\n",
       "Kasia                 4.0                  3.0    K\n",
       "Zosia                 4.0                  4.5    K\n",
       "Basia                 3.0                  4.0    K\n",
       "Ela                   5.0                  3.5    K\n",
       "Lucyna                2.0                  3.0    K"
      ]
     },
     "execution_count": 127,
     "metadata": {},
     "output_type": "execute_result"
    }
   ],
   "source": [
    "df[df['Płeć'] == 'K']"
   ]
  },
  {
   "cell_type": "markdown",
   "metadata": {},
   "source": [
    "Polecenie takie zwraca ramkę danych (precyzyjniej - kopia widoku odpowiedniej ramki danych, do czego dojdziemy w dalszej części omawiania `pandas`). Teraz możemy wybrać interesującą nas kolumnę (\"Ocena z filozofii\") i obliczyć średnią."
   ]
  },
  {
   "cell_type": "code",
   "execution_count": 128,
   "metadata": {},
   "outputs": [
    {
     "data": {
      "text/plain": [
       "3.6"
      ]
     },
     "execution_count": 128,
     "metadata": {},
     "output_type": "execute_result"
    }
   ],
   "source": [
    "(df[df['Płeć'] == 'K']['Ocena z filozofii']).mean()"
   ]
  },
  {
   "cell_type": "markdown",
   "metadata": {},
   "source": [
    "Załóżmy, że chcielibyśmy dodać trzy dodatkowe kolumny. Pierwszą z nich będzie informacja o tym, jaki kierunek studiów studiuje dana osoba. W naszym przypadku wszystkie osoby studiują kognitywistykę. Druga kolumna będzie zawierała informacje o tym, czy dana osoba jest na studiach licencjackich czy magisterskich. Tak się składa, że wszystkie kobiety są na studiach magisterskich, a wszyscy mężczyźni na licencjackich. Ostatnia kolumna zawierać ma informacje o tym ze dana osoba jest dobrym studentem. Pojęcie dobrego studenta definiujemy jako taką osobę, która otrzymała z obu przedmiotów przynajmniej czwórkę."
   ]
  },
  {
   "cell_type": "markdown",
   "metadata": {},
   "source": [
    "Pierwsza operacja jest bardzo prosta. Jeżeli użyjemy składni `ramka_danych[nazwa_kolumny] = wartość` to `pandas` przypisze tę wartość wszystkim obserwacjom w ramce danych:"
   ]
  },
  {
   "cell_type": "code",
   "execution_count": 129,
   "metadata": {},
   "outputs": [],
   "source": [
    "df['Kierunek studiów'] = 'Kognitywistyka'"
   ]
  },
  {
   "cell_type": "code",
   "execution_count": 130,
   "metadata": {},
   "outputs": [
    {
     "data": {
      "text/html": [
       "<div>\n",
       "<style scoped>\n",
       "    .dataframe tbody tr th:only-of-type {\n",
       "        vertical-align: middle;\n",
       "    }\n",
       "\n",
       "    .dataframe tbody tr th {\n",
       "        vertical-align: top;\n",
       "    }\n",
       "\n",
       "    .dataframe thead th {\n",
       "        text-align: right;\n",
       "    }\n",
       "</style>\n",
       "<table border=\"1\" class=\"dataframe\">\n",
       "  <thead>\n",
       "    <tr style=\"text-align: right;\">\n",
       "      <th></th>\n",
       "      <th>Ocena z filozofii</th>\n",
       "      <th>Ocena z psychologii</th>\n",
       "      <th>Płeć</th>\n",
       "      <th>Kierunek studiów</th>\n",
       "    </tr>\n",
       "  </thead>\n",
       "  <tbody>\n",
       "    <tr>\n",
       "      <th>Kasia</th>\n",
       "      <td>4.0</td>\n",
       "      <td>3.0</td>\n",
       "      <td>K</td>\n",
       "      <td>Kognitywistyka</td>\n",
       "    </tr>\n",
       "    <tr>\n",
       "      <th>Marek</th>\n",
       "      <td>4.5</td>\n",
       "      <td>3.0</td>\n",
       "      <td>M</td>\n",
       "      <td>Kognitywistyka</td>\n",
       "    </tr>\n",
       "    <tr>\n",
       "      <th>Zosia</th>\n",
       "      <td>4.0</td>\n",
       "      <td>4.5</td>\n",
       "      <td>K</td>\n",
       "      <td>Kognitywistyka</td>\n",
       "    </tr>\n",
       "    <tr>\n",
       "      <th>Basia</th>\n",
       "      <td>3.0</td>\n",
       "      <td>4.0</td>\n",
       "      <td>K</td>\n",
       "      <td>Kognitywistyka</td>\n",
       "    </tr>\n",
       "    <tr>\n",
       "      <th>Tomasz</th>\n",
       "      <td>4.5</td>\n",
       "      <td>5.0</td>\n",
       "      <td>M</td>\n",
       "      <td>Kognitywistyka</td>\n",
       "    </tr>\n",
       "    <tr>\n",
       "      <th>Ela</th>\n",
       "      <td>5.0</td>\n",
       "      <td>3.5</td>\n",
       "      <td>K</td>\n",
       "      <td>Kognitywistyka</td>\n",
       "    </tr>\n",
       "    <tr>\n",
       "      <th>Piotr</th>\n",
       "      <td>3.0</td>\n",
       "      <td>4.0</td>\n",
       "      <td>M</td>\n",
       "      <td>Kognitywistyka</td>\n",
       "    </tr>\n",
       "    <tr>\n",
       "      <th>Paweł</th>\n",
       "      <td>2.0</td>\n",
       "      <td>5.0</td>\n",
       "      <td>M</td>\n",
       "      <td>Kognitywistyka</td>\n",
       "    </tr>\n",
       "    <tr>\n",
       "      <th>Lucyna</th>\n",
       "      <td>2.0</td>\n",
       "      <td>3.0</td>\n",
       "      <td>K</td>\n",
       "      <td>Kognitywistyka</td>\n",
       "    </tr>\n",
       "  </tbody>\n",
       "</table>\n",
       "</div>"
      ],
      "text/plain": [
       "        Ocena z filozofii  Ocena z psychologii Płeć Kierunek studiów\n",
       "Kasia                 4.0                  3.0    K   Kognitywistyka\n",
       "Marek                 4.5                  3.0    M   Kognitywistyka\n",
       "Zosia                 4.0                  4.5    K   Kognitywistyka\n",
       "Basia                 3.0                  4.0    K   Kognitywistyka\n",
       "Tomasz                4.5                  5.0    M   Kognitywistyka\n",
       "Ela                   5.0                  3.5    K   Kognitywistyka\n",
       "Piotr                 3.0                  4.0    M   Kognitywistyka\n",
       "Paweł                 2.0                  5.0    M   Kognitywistyka\n",
       "Lucyna                2.0                  3.0    K   Kognitywistyka"
      ]
     },
     "execution_count": 130,
     "metadata": {},
     "output_type": "execute_result"
    }
   ],
   "source": [
    "df"
   ]
  },
  {
   "cell_type": "markdown",
   "metadata": {},
   "source": [
    "Drugi problem jest nieco bardziej złożony. Intuicyjnie wydawałoby, że powinniśmy najpierw wybrać odpowiednie obserwacje z naszej ramki danych, a potem zastosować tę samą składnię, co powyżej. Niestety takie rozwiązanie jest błędne, o czym informuje nas Python:"
   ]
  },
  {
   "cell_type": "code",
   "execution_count": 131,
   "metadata": {},
   "outputs": [
    {
     "name": "stderr",
     "output_type": "stream",
     "text": [
      "/home/bartosz/.local/lib/python3.7/site-packages/ipykernel_launcher.py:1: SettingWithCopyWarning: \n",
      "A value is trying to be set on a copy of a slice from a DataFrame.\n",
      "Try using .loc[row_indexer,col_indexer] = value instead\n",
      "\n",
      "See the caveats in the documentation: http://pandas.pydata.org/pandas-docs/stable/indexing.html#indexing-view-versus-copy\n",
      "  \"\"\"Entry point for launching an IPython kernel.\n"
     ]
    }
   ],
   "source": [
    "df[df['Płeć'] == 'K']['Stopień'] = 'Magisterskie' "
   ]
  },
  {
   "cell_type": "code",
   "execution_count": 132,
   "metadata": {},
   "outputs": [
    {
     "data": {
      "text/html": [
       "<div>\n",
       "<style scoped>\n",
       "    .dataframe tbody tr th:only-of-type {\n",
       "        vertical-align: middle;\n",
       "    }\n",
       "\n",
       "    .dataframe tbody tr th {\n",
       "        vertical-align: top;\n",
       "    }\n",
       "\n",
       "    .dataframe thead th {\n",
       "        text-align: right;\n",
       "    }\n",
       "</style>\n",
       "<table border=\"1\" class=\"dataframe\">\n",
       "  <thead>\n",
       "    <tr style=\"text-align: right;\">\n",
       "      <th></th>\n",
       "      <th>Ocena z filozofii</th>\n",
       "      <th>Ocena z psychologii</th>\n",
       "      <th>Płeć</th>\n",
       "      <th>Kierunek studiów</th>\n",
       "    </tr>\n",
       "  </thead>\n",
       "  <tbody>\n",
       "    <tr>\n",
       "      <th>Kasia</th>\n",
       "      <td>4.0</td>\n",
       "      <td>3.0</td>\n",
       "      <td>K</td>\n",
       "      <td>Kognitywistyka</td>\n",
       "    </tr>\n",
       "    <tr>\n",
       "      <th>Marek</th>\n",
       "      <td>4.5</td>\n",
       "      <td>3.0</td>\n",
       "      <td>M</td>\n",
       "      <td>Kognitywistyka</td>\n",
       "    </tr>\n",
       "    <tr>\n",
       "      <th>Zosia</th>\n",
       "      <td>4.0</td>\n",
       "      <td>4.5</td>\n",
       "      <td>K</td>\n",
       "      <td>Kognitywistyka</td>\n",
       "    </tr>\n",
       "    <tr>\n",
       "      <th>Basia</th>\n",
       "      <td>3.0</td>\n",
       "      <td>4.0</td>\n",
       "      <td>K</td>\n",
       "      <td>Kognitywistyka</td>\n",
       "    </tr>\n",
       "    <tr>\n",
       "      <th>Tomasz</th>\n",
       "      <td>4.5</td>\n",
       "      <td>5.0</td>\n",
       "      <td>M</td>\n",
       "      <td>Kognitywistyka</td>\n",
       "    </tr>\n",
       "    <tr>\n",
       "      <th>Ela</th>\n",
       "      <td>5.0</td>\n",
       "      <td>3.5</td>\n",
       "      <td>K</td>\n",
       "      <td>Kognitywistyka</td>\n",
       "    </tr>\n",
       "    <tr>\n",
       "      <th>Piotr</th>\n",
       "      <td>3.0</td>\n",
       "      <td>4.0</td>\n",
       "      <td>M</td>\n",
       "      <td>Kognitywistyka</td>\n",
       "    </tr>\n",
       "    <tr>\n",
       "      <th>Paweł</th>\n",
       "      <td>2.0</td>\n",
       "      <td>5.0</td>\n",
       "      <td>M</td>\n",
       "      <td>Kognitywistyka</td>\n",
       "    </tr>\n",
       "    <tr>\n",
       "      <th>Lucyna</th>\n",
       "      <td>2.0</td>\n",
       "      <td>3.0</td>\n",
       "      <td>K</td>\n",
       "      <td>Kognitywistyka</td>\n",
       "    </tr>\n",
       "  </tbody>\n",
       "</table>\n",
       "</div>"
      ],
      "text/plain": [
       "        Ocena z filozofii  Ocena z psychologii Płeć Kierunek studiów\n",
       "Kasia                 4.0                  3.0    K   Kognitywistyka\n",
       "Marek                 4.5                  3.0    M   Kognitywistyka\n",
       "Zosia                 4.0                  4.5    K   Kognitywistyka\n",
       "Basia                 3.0                  4.0    K   Kognitywistyka\n",
       "Tomasz                4.5                  5.0    M   Kognitywistyka\n",
       "Ela                   5.0                  3.5    K   Kognitywistyka\n",
       "Piotr                 3.0                  4.0    M   Kognitywistyka\n",
       "Paweł                 2.0                  5.0    M   Kognitywistyka\n",
       "Lucyna                2.0                  3.0    K   Kognitywistyka"
      ]
     },
     "execution_count": 132,
     "metadata": {},
     "output_type": "execute_result"
    }
   ],
   "source": [
    "df"
   ]
  },
  {
   "cell_type": "markdown",
   "metadata": {},
   "source": [
    "Jak możemy zobaczyć wcale nie dodaliśmy odpowiedniej kolumny do naszego zbioru! Dlaczego? Dzieje się tak ponieważ używając składni `ramka_danych[series_typu_bool]` tworzymy kopię widoku ramki danych. Nasza operacja przypisania wartości działała na kopii, nie na oryginalnym obiekcie. Sam Python mówi nam jednak jak temu zaradzić - wystarczy użyć składni `df.loc[obiekt_indeksujący_wiersze, obiekt_indeksujący_kolumny]`. W naszym wypadku wyglądać to będzie tak:"
   ]
  },
  {
   "cell_type": "code",
   "execution_count": 133,
   "metadata": {},
   "outputs": [],
   "source": [
    "df.loc[df['Płeć'] == 'K', 'Stopień'] = 'Magisterskie'"
   ]
  },
  {
   "cell_type": "code",
   "execution_count": 134,
   "metadata": {},
   "outputs": [
    {
     "data": {
      "text/html": [
       "<div>\n",
       "<style scoped>\n",
       "    .dataframe tbody tr th:only-of-type {\n",
       "        vertical-align: middle;\n",
       "    }\n",
       "\n",
       "    .dataframe tbody tr th {\n",
       "        vertical-align: top;\n",
       "    }\n",
       "\n",
       "    .dataframe thead th {\n",
       "        text-align: right;\n",
       "    }\n",
       "</style>\n",
       "<table border=\"1\" class=\"dataframe\">\n",
       "  <thead>\n",
       "    <tr style=\"text-align: right;\">\n",
       "      <th></th>\n",
       "      <th>Ocena z filozofii</th>\n",
       "      <th>Ocena z psychologii</th>\n",
       "      <th>Płeć</th>\n",
       "      <th>Kierunek studiów</th>\n",
       "      <th>Stopień</th>\n",
       "    </tr>\n",
       "  </thead>\n",
       "  <tbody>\n",
       "    <tr>\n",
       "      <th>Kasia</th>\n",
       "      <td>4.0</td>\n",
       "      <td>3.0</td>\n",
       "      <td>K</td>\n",
       "      <td>Kognitywistyka</td>\n",
       "      <td>Magisterskie</td>\n",
       "    </tr>\n",
       "    <tr>\n",
       "      <th>Marek</th>\n",
       "      <td>4.5</td>\n",
       "      <td>3.0</td>\n",
       "      <td>M</td>\n",
       "      <td>Kognitywistyka</td>\n",
       "      <td>NaN</td>\n",
       "    </tr>\n",
       "    <tr>\n",
       "      <th>Zosia</th>\n",
       "      <td>4.0</td>\n",
       "      <td>4.5</td>\n",
       "      <td>K</td>\n",
       "      <td>Kognitywistyka</td>\n",
       "      <td>Magisterskie</td>\n",
       "    </tr>\n",
       "    <tr>\n",
       "      <th>Basia</th>\n",
       "      <td>3.0</td>\n",
       "      <td>4.0</td>\n",
       "      <td>K</td>\n",
       "      <td>Kognitywistyka</td>\n",
       "      <td>Magisterskie</td>\n",
       "    </tr>\n",
       "    <tr>\n",
       "      <th>Tomasz</th>\n",
       "      <td>4.5</td>\n",
       "      <td>5.0</td>\n",
       "      <td>M</td>\n",
       "      <td>Kognitywistyka</td>\n",
       "      <td>NaN</td>\n",
       "    </tr>\n",
       "    <tr>\n",
       "      <th>Ela</th>\n",
       "      <td>5.0</td>\n",
       "      <td>3.5</td>\n",
       "      <td>K</td>\n",
       "      <td>Kognitywistyka</td>\n",
       "      <td>Magisterskie</td>\n",
       "    </tr>\n",
       "    <tr>\n",
       "      <th>Piotr</th>\n",
       "      <td>3.0</td>\n",
       "      <td>4.0</td>\n",
       "      <td>M</td>\n",
       "      <td>Kognitywistyka</td>\n",
       "      <td>NaN</td>\n",
       "    </tr>\n",
       "    <tr>\n",
       "      <th>Paweł</th>\n",
       "      <td>2.0</td>\n",
       "      <td>5.0</td>\n",
       "      <td>M</td>\n",
       "      <td>Kognitywistyka</td>\n",
       "      <td>NaN</td>\n",
       "    </tr>\n",
       "    <tr>\n",
       "      <th>Lucyna</th>\n",
       "      <td>2.0</td>\n",
       "      <td>3.0</td>\n",
       "      <td>K</td>\n",
       "      <td>Kognitywistyka</td>\n",
       "      <td>Magisterskie</td>\n",
       "    </tr>\n",
       "  </tbody>\n",
       "</table>\n",
       "</div>"
      ],
      "text/plain": [
       "        Ocena z filozofii  Ocena z psychologii Płeć Kierunek studiów  \\\n",
       "Kasia                 4.0                  3.0    K   Kognitywistyka   \n",
       "Marek                 4.5                  3.0    M   Kognitywistyka   \n",
       "Zosia                 4.0                  4.5    K   Kognitywistyka   \n",
       "Basia                 3.0                  4.0    K   Kognitywistyka   \n",
       "Tomasz                4.5                  5.0    M   Kognitywistyka   \n",
       "Ela                   5.0                  3.5    K   Kognitywistyka   \n",
       "Piotr                 3.0                  4.0    M   Kognitywistyka   \n",
       "Paweł                 2.0                  5.0    M   Kognitywistyka   \n",
       "Lucyna                2.0                  3.0    K   Kognitywistyka   \n",
       "\n",
       "             Stopień  \n",
       "Kasia   Magisterskie  \n",
       "Marek            NaN  \n",
       "Zosia   Magisterskie  \n",
       "Basia   Magisterskie  \n",
       "Tomasz           NaN  \n",
       "Ela     Magisterskie  \n",
       "Piotr            NaN  \n",
       "Paweł            NaN  \n",
       "Lucyna  Magisterskie  "
      ]
     },
     "execution_count": 134,
     "metadata": {},
     "output_type": "execute_result"
    }
   ],
   "source": [
    "df"
   ]
  },
  {
   "cell_type": "markdown",
   "metadata": {},
   "source": [
    "Brakuje nam jednak wartości dla mężczyzn. Dodamy je tak samo jak wartości dla kobiet:"
   ]
  },
  {
   "cell_type": "code",
   "execution_count": 135,
   "metadata": {},
   "outputs": [],
   "source": [
    "df.loc[df['Płeć'] == 'M', 'Stopień'] = 'Licencjackie'"
   ]
  },
  {
   "cell_type": "code",
   "execution_count": 136,
   "metadata": {},
   "outputs": [
    {
     "data": {
      "text/html": [
       "<div>\n",
       "<style scoped>\n",
       "    .dataframe tbody tr th:only-of-type {\n",
       "        vertical-align: middle;\n",
       "    }\n",
       "\n",
       "    .dataframe tbody tr th {\n",
       "        vertical-align: top;\n",
       "    }\n",
       "\n",
       "    .dataframe thead th {\n",
       "        text-align: right;\n",
       "    }\n",
       "</style>\n",
       "<table border=\"1\" class=\"dataframe\">\n",
       "  <thead>\n",
       "    <tr style=\"text-align: right;\">\n",
       "      <th></th>\n",
       "      <th>Ocena z filozofii</th>\n",
       "      <th>Ocena z psychologii</th>\n",
       "      <th>Płeć</th>\n",
       "      <th>Kierunek studiów</th>\n",
       "      <th>Stopień</th>\n",
       "    </tr>\n",
       "  </thead>\n",
       "  <tbody>\n",
       "    <tr>\n",
       "      <th>Kasia</th>\n",
       "      <td>4.0</td>\n",
       "      <td>3.0</td>\n",
       "      <td>K</td>\n",
       "      <td>Kognitywistyka</td>\n",
       "      <td>Magisterskie</td>\n",
       "    </tr>\n",
       "    <tr>\n",
       "      <th>Marek</th>\n",
       "      <td>4.5</td>\n",
       "      <td>3.0</td>\n",
       "      <td>M</td>\n",
       "      <td>Kognitywistyka</td>\n",
       "      <td>Licencjackie</td>\n",
       "    </tr>\n",
       "    <tr>\n",
       "      <th>Zosia</th>\n",
       "      <td>4.0</td>\n",
       "      <td>4.5</td>\n",
       "      <td>K</td>\n",
       "      <td>Kognitywistyka</td>\n",
       "      <td>Magisterskie</td>\n",
       "    </tr>\n",
       "    <tr>\n",
       "      <th>Basia</th>\n",
       "      <td>3.0</td>\n",
       "      <td>4.0</td>\n",
       "      <td>K</td>\n",
       "      <td>Kognitywistyka</td>\n",
       "      <td>Magisterskie</td>\n",
       "    </tr>\n",
       "    <tr>\n",
       "      <th>Tomasz</th>\n",
       "      <td>4.5</td>\n",
       "      <td>5.0</td>\n",
       "      <td>M</td>\n",
       "      <td>Kognitywistyka</td>\n",
       "      <td>Licencjackie</td>\n",
       "    </tr>\n",
       "    <tr>\n",
       "      <th>Ela</th>\n",
       "      <td>5.0</td>\n",
       "      <td>3.5</td>\n",
       "      <td>K</td>\n",
       "      <td>Kognitywistyka</td>\n",
       "      <td>Magisterskie</td>\n",
       "    </tr>\n",
       "    <tr>\n",
       "      <th>Piotr</th>\n",
       "      <td>3.0</td>\n",
       "      <td>4.0</td>\n",
       "      <td>M</td>\n",
       "      <td>Kognitywistyka</td>\n",
       "      <td>Licencjackie</td>\n",
       "    </tr>\n",
       "    <tr>\n",
       "      <th>Paweł</th>\n",
       "      <td>2.0</td>\n",
       "      <td>5.0</td>\n",
       "      <td>M</td>\n",
       "      <td>Kognitywistyka</td>\n",
       "      <td>Licencjackie</td>\n",
       "    </tr>\n",
       "    <tr>\n",
       "      <th>Lucyna</th>\n",
       "      <td>2.0</td>\n",
       "      <td>3.0</td>\n",
       "      <td>K</td>\n",
       "      <td>Kognitywistyka</td>\n",
       "      <td>Magisterskie</td>\n",
       "    </tr>\n",
       "  </tbody>\n",
       "</table>\n",
       "</div>"
      ],
      "text/plain": [
       "        Ocena z filozofii  Ocena z psychologii Płeć Kierunek studiów  \\\n",
       "Kasia                 4.0                  3.0    K   Kognitywistyka   \n",
       "Marek                 4.5                  3.0    M   Kognitywistyka   \n",
       "Zosia                 4.0                  4.5    K   Kognitywistyka   \n",
       "Basia                 3.0                  4.0    K   Kognitywistyka   \n",
       "Tomasz                4.5                  5.0    M   Kognitywistyka   \n",
       "Ela                   5.0                  3.5    K   Kognitywistyka   \n",
       "Piotr                 3.0                  4.0    M   Kognitywistyka   \n",
       "Paweł                 2.0                  5.0    M   Kognitywistyka   \n",
       "Lucyna                2.0                  3.0    K   Kognitywistyka   \n",
       "\n",
       "             Stopień  \n",
       "Kasia   Magisterskie  \n",
       "Marek   Licencjackie  \n",
       "Zosia   Magisterskie  \n",
       "Basia   Magisterskie  \n",
       "Tomasz  Licencjackie  \n",
       "Ela     Magisterskie  \n",
       "Piotr   Licencjackie  \n",
       "Paweł   Licencjackie  \n",
       "Lucyna  Magisterskie  "
      ]
     },
     "execution_count": 136,
     "metadata": {},
     "output_type": "execute_result"
    }
   ],
   "source": [
    "df"
   ]
  },
  {
   "cell_type": "markdown",
   "metadata": {},
   "source": [
    "Ostatnie zadanie jest najtrudniejsze. Wiemy jak dowiedzieć się, którzy studenci uzyskali więcej niż 4 z każdego z egzaminów:"
   ]
  },
  {
   "cell_type": "code",
   "execution_count": 137,
   "metadata": {},
   "outputs": [
    {
     "data": {
      "text/plain": [
       "Kasia     False\n",
       "Marek      True\n",
       "Zosia     False\n",
       "Basia     False\n",
       "Tomasz     True\n",
       "Ela        True\n",
       "Piotr     False\n",
       "Paweł     False\n",
       "Lucyna    False\n",
       "Name: Ocena z filozofii, dtype: bool"
      ]
     },
     "execution_count": 137,
     "metadata": {},
     "output_type": "execute_result"
    }
   ],
   "source": [
    "df['Ocena z filozofii'] > 4"
   ]
  },
  {
   "cell_type": "code",
   "execution_count": 138,
   "metadata": {},
   "outputs": [
    {
     "data": {
      "text/plain": [
       "Kasia     False\n",
       "Marek     False\n",
       "Zosia      True\n",
       "Basia     False\n",
       "Tomasz     True\n",
       "Ela       False\n",
       "Piotr     False\n",
       "Paweł      True\n",
       "Lucyna    False\n",
       "Name: Ocena z psychologii, dtype: bool"
      ]
     },
     "execution_count": 138,
     "metadata": {},
     "output_type": "execute_result"
    }
   ],
   "source": [
    "df['Ocena z psychologii'] > 4"
   ]
  },
  {
   "cell_type": "markdown",
   "metadata": {},
   "source": [
    "Wydawałoby się, że należy po prostu połączyć te dwa wyrażenia za pomocą Pythonowskiego operatora `and`. To jednak nie działa."
   ]
  },
  {
   "cell_type": "code",
   "execution_count": 139,
   "metadata": {},
   "outputs": [
    {
     "ename": "ValueError",
     "evalue": "The truth value of a Series is ambiguous. Use a.empty, a.bool(), a.item(), a.any() or a.all().",
     "output_type": "error",
     "traceback": [
      "\u001b[0;31m---------------------------------------------------------------------------\u001b[0m",
      "\u001b[0;31mValueError\u001b[0m                                Traceback (most recent call last)",
      "\u001b[0;32m<ipython-input-139-f0b91a23a804>\u001b[0m in \u001b[0;36m<module>\u001b[0;34m\u001b[0m\n\u001b[0;32m----> 1\u001b[0;31m \u001b[0;34m(\u001b[0m\u001b[0mdf\u001b[0m\u001b[0;34m[\u001b[0m\u001b[0;34m'Ocena z filozofii'\u001b[0m\u001b[0;34m]\u001b[0m \u001b[0;34m>\u001b[0m \u001b[0;36m4\u001b[0m\u001b[0;34m)\u001b[0m \u001b[0;32mand\u001b[0m \u001b[0;34m(\u001b[0m\u001b[0mdf\u001b[0m\u001b[0;34m[\u001b[0m\u001b[0;34m'Ocena z psychologii'\u001b[0m\u001b[0;34m]\u001b[0m \u001b[0;34m>\u001b[0m \u001b[0;36m4\u001b[0m\u001b[0;34m)\u001b[0m\u001b[0;34m\u001b[0m\u001b[0;34m\u001b[0m\u001b[0m\n\u001b[0m",
      "\u001b[0;32m~/.local/lib/python3.7/site-packages/pandas/core/generic.py\u001b[0m in \u001b[0;36m__nonzero__\u001b[0;34m(self)\u001b[0m\n\u001b[1;32m   1574\u001b[0m         raise ValueError(\"The truth value of a {0} is ambiguous. \"\n\u001b[1;32m   1575\u001b[0m                          \u001b[0;34m\"Use a.empty, a.bool(), a.item(), a.any() or a.all().\"\u001b[0m\u001b[0;34m\u001b[0m\u001b[0;34m\u001b[0m\u001b[0m\n\u001b[0;32m-> 1576\u001b[0;31m                          .format(self.__class__.__name__))\n\u001b[0m\u001b[1;32m   1577\u001b[0m \u001b[0;34m\u001b[0m\u001b[0m\n\u001b[1;32m   1578\u001b[0m     \u001b[0m__bool__\u001b[0m \u001b[0;34m=\u001b[0m \u001b[0m__nonzero__\u001b[0m\u001b[0;34m\u001b[0m\u001b[0;34m\u001b[0m\u001b[0m\n",
      "\u001b[0;31mValueError\u001b[0m: The truth value of a Series is ambiguous. Use a.empty, a.bool(), a.item(), a.any() or a.all()."
     ]
    }
   ],
   "source": [
    "(df['Ocena z filozofii'] > 4) and (df['Ocena z psychologii'] > 4)"
   ]
  },
  {
   "cell_type": "markdown",
   "metadata": {},
   "source": [
    "Pythonowski operator `and` działa na wartościach logicznych (prawda, fałsz) i jest operatorem binarnym (przyjmuje dwa argumenty). Aby go zastosować `pandas` musi przekształcić obiekt typu `Series` w taki sposób, aby zwrócił jedną wartość typu logicznego. To jest jednak operacja niejednoznaczna - może nam np. chodzić o to, aby wszystkie wartości w `Series` były prawdą (wtedy użyjemy `obiekt_series.all()` albo aby wystąpiła przynajmniej jedna wartość prawdy logicznej (wtedy użyjemy `obiekt_series.any()`). Np. chcemy się dowiedzieć, czy była przynajmniej jedna osoba, która dostała 5 z egzaminu z psychologii:"
   ]
  },
  {
   "cell_type": "code",
   "execution_count": 140,
   "metadata": {},
   "outputs": [
    {
     "data": {
      "text/plain": [
       "True"
      ]
     },
     "execution_count": 140,
     "metadata": {},
     "output_type": "execute_result"
    }
   ],
   "source": [
    "(df['Ocena z psychologii'] == 5).any()"
   ]
  },
  {
   "cell_type": "markdown",
   "metadata": {},
   "source": [
    "Aby wykonać nasze zadanie potrzebujemy operatora koniunkcji logicznej, który porównywałby poszczególne elementy naszego `Series`. Całe szczęście aby osiągnąć ten efekt wystarczy posłużyć się operatorem `&` (analogicznie `or` zastąpić możemy `&`):"
   ]
  },
  {
   "cell_type": "code",
   "execution_count": 141,
   "metadata": {},
   "outputs": [],
   "source": [
    "df['Dobry student'] = (df['Ocena z filozofii'] > 4) & (df['Ocena z psychologii'] > 4)"
   ]
  },
  {
   "cell_type": "code",
   "execution_count": 142,
   "metadata": {},
   "outputs": [
    {
     "data": {
      "text/html": [
       "<div>\n",
       "<style scoped>\n",
       "    .dataframe tbody tr th:only-of-type {\n",
       "        vertical-align: middle;\n",
       "    }\n",
       "\n",
       "    .dataframe tbody tr th {\n",
       "        vertical-align: top;\n",
       "    }\n",
       "\n",
       "    .dataframe thead th {\n",
       "        text-align: right;\n",
       "    }\n",
       "</style>\n",
       "<table border=\"1\" class=\"dataframe\">\n",
       "  <thead>\n",
       "    <tr style=\"text-align: right;\">\n",
       "      <th></th>\n",
       "      <th>Ocena z filozofii</th>\n",
       "      <th>Ocena z psychologii</th>\n",
       "      <th>Płeć</th>\n",
       "      <th>Kierunek studiów</th>\n",
       "      <th>Stopień</th>\n",
       "      <th>Dobry student</th>\n",
       "    </tr>\n",
       "  </thead>\n",
       "  <tbody>\n",
       "    <tr>\n",
       "      <th>Kasia</th>\n",
       "      <td>4.0</td>\n",
       "      <td>3.0</td>\n",
       "      <td>K</td>\n",
       "      <td>Kognitywistyka</td>\n",
       "      <td>Magisterskie</td>\n",
       "      <td>False</td>\n",
       "    </tr>\n",
       "    <tr>\n",
       "      <th>Marek</th>\n",
       "      <td>4.5</td>\n",
       "      <td>3.0</td>\n",
       "      <td>M</td>\n",
       "      <td>Kognitywistyka</td>\n",
       "      <td>Licencjackie</td>\n",
       "      <td>False</td>\n",
       "    </tr>\n",
       "    <tr>\n",
       "      <th>Zosia</th>\n",
       "      <td>4.0</td>\n",
       "      <td>4.5</td>\n",
       "      <td>K</td>\n",
       "      <td>Kognitywistyka</td>\n",
       "      <td>Magisterskie</td>\n",
       "      <td>False</td>\n",
       "    </tr>\n",
       "    <tr>\n",
       "      <th>Basia</th>\n",
       "      <td>3.0</td>\n",
       "      <td>4.0</td>\n",
       "      <td>K</td>\n",
       "      <td>Kognitywistyka</td>\n",
       "      <td>Magisterskie</td>\n",
       "      <td>False</td>\n",
       "    </tr>\n",
       "    <tr>\n",
       "      <th>Tomasz</th>\n",
       "      <td>4.5</td>\n",
       "      <td>5.0</td>\n",
       "      <td>M</td>\n",
       "      <td>Kognitywistyka</td>\n",
       "      <td>Licencjackie</td>\n",
       "      <td>True</td>\n",
       "    </tr>\n",
       "    <tr>\n",
       "      <th>Ela</th>\n",
       "      <td>5.0</td>\n",
       "      <td>3.5</td>\n",
       "      <td>K</td>\n",
       "      <td>Kognitywistyka</td>\n",
       "      <td>Magisterskie</td>\n",
       "      <td>False</td>\n",
       "    </tr>\n",
       "    <tr>\n",
       "      <th>Piotr</th>\n",
       "      <td>3.0</td>\n",
       "      <td>4.0</td>\n",
       "      <td>M</td>\n",
       "      <td>Kognitywistyka</td>\n",
       "      <td>Licencjackie</td>\n",
       "      <td>False</td>\n",
       "    </tr>\n",
       "    <tr>\n",
       "      <th>Paweł</th>\n",
       "      <td>2.0</td>\n",
       "      <td>5.0</td>\n",
       "      <td>M</td>\n",
       "      <td>Kognitywistyka</td>\n",
       "      <td>Licencjackie</td>\n",
       "      <td>False</td>\n",
       "    </tr>\n",
       "    <tr>\n",
       "      <th>Lucyna</th>\n",
       "      <td>2.0</td>\n",
       "      <td>3.0</td>\n",
       "      <td>K</td>\n",
       "      <td>Kognitywistyka</td>\n",
       "      <td>Magisterskie</td>\n",
       "      <td>False</td>\n",
       "    </tr>\n",
       "  </tbody>\n",
       "</table>\n",
       "</div>"
      ],
      "text/plain": [
       "        Ocena z filozofii  Ocena z psychologii Płeć Kierunek studiów  \\\n",
       "Kasia                 4.0                  3.0    K   Kognitywistyka   \n",
       "Marek                 4.5                  3.0    M   Kognitywistyka   \n",
       "Zosia                 4.0                  4.5    K   Kognitywistyka   \n",
       "Basia                 3.0                  4.0    K   Kognitywistyka   \n",
       "Tomasz                4.5                  5.0    M   Kognitywistyka   \n",
       "Ela                   5.0                  3.5    K   Kognitywistyka   \n",
       "Piotr                 3.0                  4.0    M   Kognitywistyka   \n",
       "Paweł                 2.0                  5.0    M   Kognitywistyka   \n",
       "Lucyna                2.0                  3.0    K   Kognitywistyka   \n",
       "\n",
       "             Stopień  Dobry student  \n",
       "Kasia   Magisterskie          False  \n",
       "Marek   Licencjackie          False  \n",
       "Zosia   Magisterskie          False  \n",
       "Basia   Magisterskie          False  \n",
       "Tomasz  Licencjackie           True  \n",
       "Ela     Magisterskie          False  \n",
       "Piotr   Licencjackie          False  \n",
       "Paweł   Licencjackie          False  \n",
       "Lucyna  Magisterskie          False  "
      ]
     },
     "execution_count": 142,
     "metadata": {},
     "output_type": "execute_result"
    }
   ],
   "source": [
    "df"
   ]
  }
 ],
 "metadata": {
  "kernelspec": {
   "display_name": "Python 3",
   "language": "python",
   "name": "python3"
  },
  "language_info": {
   "codemirror_mode": {
    "name": "ipython",
    "version": 3
   },
   "file_extension": ".py",
   "mimetype": "text/x-python",
   "name": "python",
   "nbconvert_exporter": "python",
   "pygments_lexer": "ipython3",
   "version": "3.7.2"
  }
 },
 "nbformat": 4,
 "nbformat_minor": 2
}
