{
 "cells": [
  {
   "cell_type": "markdown",
   "metadata": {},
   "source": [
    "# Praca domowa\n",
    "\n",
    "Praca domowa polega na:\n",
    "\n",
    "1. Przeczytaniu artykułu Hausera i Schwarza pt. \"How seemingly innocuous words can bias judgment: Semantic prosody and impression formation\" (jest na platformie).\n",
    "2. Ściągnięciu danych z któregoś eksperymentu (innego niż omawiany w przykładzie w notebooku z przykładem) omówionego w tym artykule. Dane znajdują się na portalu Open Science Framework (https://osf.io/f2atn/).\n",
    "3. Oczyszczeniu i przekodowaniu danych w tych miejscach które tego wymagają, przetransformowaniu ich do postaci \"długiej\" i obliczenia prostych statystyk deskryptywnych dla każdego warunku eksperymentalnego (mediana, średnia itp.)\n",
    "\n",
    "Wykonaną pracę domową należy w formie notebooka (`.ipynb`) i pliku z danymi wrzucić na platformę. Im ktoś bardziej zaangażuje się w rozgryzienie co znaczą te dane na podstawie artykułu, tym lepsza ocena."
   ]
  }
 ],
 "metadata": {
  "kernelspec": {
   "display_name": "Python 3",
   "language": "python",
   "name": "python3"
  },
  "language_info": {
   "codemirror_mode": {
    "name": "ipython",
    "version": 3
   },
   "file_extension": ".py",
   "mimetype": "text/x-python",
   "name": "python",
   "nbconvert_exporter": "python",
   "pygments_lexer": "ipython3",
   "version": "3.7.2"
  }
 },
 "nbformat": 4,
 "nbformat_minor": 2
}
