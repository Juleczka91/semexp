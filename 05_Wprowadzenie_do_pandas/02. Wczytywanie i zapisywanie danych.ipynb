{
 "cells": [
  {
   "cell_type": "markdown",
   "metadata": {},
   "source": [
    "# Wczytywanie i zapisywanie danych"
   ]
  },
  {
   "cell_type": "markdown",
   "metadata": {},
   "source": [
    "`pandas` potrafi wczytywać i zapisywać dane w bardzo wielu formatach. Wydaje się, że najpopularniejsze formaty to pliki Excela (z rozszerzeniem `.xlsx`) oraz pliki CSV (*comma separated values*). W tej części nauczymy się jak wczytywać je za pomocą `pandas`. Na koniec notatnika wspomnimy również krótko o innych formatach (które w zależności od dyscypliny naukowej mogą być nawet częściej spotykane niż Excel i CSV)."
   ]
  },
  {
   "cell_type": "code",
   "execution_count": 1,
   "metadata": {},
   "outputs": [],
   "source": [
    "import pandas as pd"
   ]
  },
  {
   "cell_type": "markdown",
   "metadata": {},
   "source": [
    "## Wczytywanie danych w podstawowych formatach: `csv` i pliki Excela"
   ]
  },
  {
   "cell_type": "markdown",
   "metadata": {},
   "source": [
    "### CSV\n",
    "\n",
    "Do wczytania danych z pliku `csv` najlepiej użyć funkcji `read_csv` znajdującej się w pakiecie `pandas`. Najczęściej mamy do czynienia z danymi w standardowym formacie, gdzie separatorem kolejnych pól jest `,` a separatorem dziesiętnym jest kropka. Wczytajmy więc dane dotyczące ocen studentów:"
   ]
  },
  {
   "cell_type": "code",
   "execution_count": 18,
   "metadata": {},
   "outputs": [
    {
     "data": {
      "text/html": [
       "<div>\n",
       "<style scoped>\n",
       "    .dataframe tbody tr th:only-of-type {\n",
       "        vertical-align: middle;\n",
       "    }\n",
       "\n",
       "    .dataframe tbody tr th {\n",
       "        vertical-align: top;\n",
       "    }\n",
       "\n",
       "    .dataframe thead th {\n",
       "        text-align: right;\n",
       "    }\n",
       "</style>\n",
       "<table border=\"1\" class=\"dataframe\">\n",
       "  <thead>\n",
       "    <tr style=\"text-align: right;\">\n",
       "      <th></th>\n",
       "      <th>imię i nazwisko</th>\n",
       "      <th>rok studiów</th>\n",
       "      <th>ocena</th>\n",
       "    </tr>\n",
       "  </thead>\n",
       "  <tbody>\n",
       "    <tr>\n",
       "      <th>0</th>\n",
       "      <td>Katarzyna Kowalska</td>\n",
       "      <td>I</td>\n",
       "      <td>4.0</td>\n",
       "    </tr>\n",
       "    <tr>\n",
       "      <th>1</th>\n",
       "      <td>Przemysław Nowak</td>\n",
       "      <td>II</td>\n",
       "      <td>3.0</td>\n",
       "    </tr>\n",
       "    <tr>\n",
       "      <th>2</th>\n",
       "      <td>Jan Grzybowski</td>\n",
       "      <td>III</td>\n",
       "      <td>4.5</td>\n",
       "    </tr>\n",
       "  </tbody>\n",
       "</table>\n",
       "</div>"
      ],
      "text/plain": [
       "      imię i nazwisko rok studiów  ocena\n",
       "0  Katarzyna Kowalska           I    4.0\n",
       "1    Przemysław Nowak          II    3.0\n",
       "2      Jan Grzybowski         III    4.5"
      ]
     },
     "execution_count": 18,
     "metadata": {},
     "output_type": "execute_result"
    }
   ],
   "source": [
    "data = pd.read_csv('csv_simple.csv') # podajemy nazwę pliku\n",
    "data"
   ]
  },
  {
   "cell_type": "markdown",
   "metadata": {},
   "source": [
    "W niektórych krajach Europy (np. w Polsce) przyjmuje się jednak, że znakiem separatora dziesiętnego jest przecinek. Innymi słowy - liczbę cztery-i-pół zapisujemy jako 4,5 (a nie 4.5). Wtedy zazwyczaj jako separatora pól używa się średnika. Wczytajmy nasze dane zapisane w \"europejskim\" formacie. Dodatkowym problemem jest to, że nie ma w nich nagłówka."
   ]
  },
  {
   "cell_type": "code",
   "execution_count": 20,
   "metadata": {},
   "outputs": [
    {
     "data": {
      "text/html": [
       "<div>\n",
       "<style scoped>\n",
       "    .dataframe tbody tr th:only-of-type {\n",
       "        vertical-align: middle;\n",
       "    }\n",
       "\n",
       "    .dataframe tbody tr th {\n",
       "        vertical-align: top;\n",
       "    }\n",
       "\n",
       "    .dataframe thead th {\n",
       "        text-align: right;\n",
       "    }\n",
       "</style>\n",
       "<table border=\"1\" class=\"dataframe\">\n",
       "  <thead>\n",
       "    <tr style=\"text-align: right;\">\n",
       "      <th></th>\n",
       "      <th>0</th>\n",
       "      <th>1</th>\n",
       "      <th>2</th>\n",
       "    </tr>\n",
       "  </thead>\n",
       "  <tbody>\n",
       "    <tr>\n",
       "      <th>0</th>\n",
       "      <td>Katarzyna Kowalska</td>\n",
       "      <td>I</td>\n",
       "      <td>4.0</td>\n",
       "    </tr>\n",
       "    <tr>\n",
       "      <th>1</th>\n",
       "      <td>Przemysław Nowak</td>\n",
       "      <td>II</td>\n",
       "      <td>3.0</td>\n",
       "    </tr>\n",
       "    <tr>\n",
       "      <th>2</th>\n",
       "      <td>Jan Grzybowski</td>\n",
       "      <td>III</td>\n",
       "      <td>4.5</td>\n",
       "    </tr>\n",
       "  </tbody>\n",
       "</table>\n",
       "</div>"
      ],
      "text/plain": [
       "                    0    1    2\n",
       "0  Katarzyna Kowalska    I  4.0\n",
       "1    Przemysław Nowak   II  3.0\n",
       "2      Jan Grzybowski  III  4.5"
      ]
     },
     "execution_count": 20,
     "metadata": {},
     "output_type": "execute_result"
    }
   ],
   "source": [
    "data = pd.read_csv('csv_noheader_comma.csv', # nazwa pliku\n",
    "                   sep=';', # separator pól\n",
    "                   header = None, # header=None oznacza, że nie chcemy pierwszego wiersza jako nagłówka\n",
    "                   decimal = ',') # separator dziesiętny, w Polsce przecinek!\n",
    "data"
   ]
  },
  {
   "cell_type": "markdown",
   "metadata": {},
   "source": [
    "### XLSX\n",
    "\n",
    "Do wczytania danych z pliku `xls(x)` najlepiej użyć funkcji `read_excel` znajdującej się w pakiecie `pandas`."
   ]
  },
  {
   "cell_type": "code",
   "execution_count": 26,
   "metadata": {},
   "outputs": [
    {
     "data": {
      "text/html": [
       "<div>\n",
       "<style scoped>\n",
       "    .dataframe tbody tr th:only-of-type {\n",
       "        vertical-align: middle;\n",
       "    }\n",
       "\n",
       "    .dataframe tbody tr th {\n",
       "        vertical-align: top;\n",
       "    }\n",
       "\n",
       "    .dataframe thead th {\n",
       "        text-align: right;\n",
       "    }\n",
       "</style>\n",
       "<table border=\"1\" class=\"dataframe\">\n",
       "  <thead>\n",
       "    <tr style=\"text-align: right;\">\n",
       "      <th></th>\n",
       "      <th>Nazwa Pokemona</th>\n",
       "      <th>Typ</th>\n",
       "      <th>Wartość bojowa</th>\n",
       "    </tr>\n",
       "  </thead>\n",
       "  <tbody>\n",
       "    <tr>\n",
       "      <th>0</th>\n",
       "      <td>Pikachu</td>\n",
       "      <td>elektryczny</td>\n",
       "      <td>10</td>\n",
       "    </tr>\n",
       "    <tr>\n",
       "      <th>1</th>\n",
       "      <td>Pichu</td>\n",
       "      <td>elektryczny</td>\n",
       "      <td>8</td>\n",
       "    </tr>\n",
       "    <tr>\n",
       "      <th>2</th>\n",
       "      <td>Mewtwo</td>\n",
       "      <td>psychiczny</td>\n",
       "      <td>22</td>\n",
       "    </tr>\n",
       "  </tbody>\n",
       "</table>\n",
       "</div>"
      ],
      "text/plain": [
       "  Nazwa Pokemona          Typ  Wartość bojowa\n",
       "0        Pikachu  elektryczny              10\n",
       "1          Pichu  elektryczny               8\n",
       "2         Mewtwo   psychiczny              22"
      ]
     },
     "execution_count": 26,
     "metadata": {},
     "output_type": "execute_result"
    }
   ],
   "source": [
    "data = pd.read_excel('xlsx_simple.xlsx')\n",
    "data"
   ]
  },
  {
   "cell_type": "markdown",
   "metadata": {},
   "source": [
    "Arkusze kalkulacyjne Excela miewają kilka arkuszu w jednym pliku. Aby wczytać dane z jakiegoś określonego arkusza musimy posłużyć się opcją `sheet_name`."
   ]
  },
  {
   "cell_type": "code",
   "execution_count": 30,
   "metadata": {},
   "outputs": [
    {
     "data": {
      "text/html": [
       "<div>\n",
       "<style scoped>\n",
       "    .dataframe tbody tr th:only-of-type {\n",
       "        vertical-align: middle;\n",
       "    }\n",
       "\n",
       "    .dataframe tbody tr th {\n",
       "        vertical-align: top;\n",
       "    }\n",
       "\n",
       "    .dataframe thead th {\n",
       "        text-align: right;\n",
       "    }\n",
       "</style>\n",
       "<table border=\"1\" class=\"dataframe\">\n",
       "  <thead>\n",
       "    <tr style=\"text-align: right;\">\n",
       "      <th></th>\n",
       "      <th>Nazwa Pokemona</th>\n",
       "      <th>Typ</th>\n",
       "      <th>Wartość użytkowa</th>\n",
       "    </tr>\n",
       "  </thead>\n",
       "  <tbody>\n",
       "    <tr>\n",
       "      <th>0</th>\n",
       "      <td>Lapras</td>\n",
       "      <td>wodny</td>\n",
       "      <td>22</td>\n",
       "    </tr>\n",
       "    <tr>\n",
       "      <th>1</th>\n",
       "      <td>Poliwag</td>\n",
       "      <td>wodny</td>\n",
       "      <td>21</td>\n",
       "    </tr>\n",
       "  </tbody>\n",
       "</table>\n",
       "</div>"
      ],
      "text/plain": [
       "  Nazwa Pokemona    Typ  Wartość użytkowa\n",
       "0         Lapras  wodny                22\n",
       "1        Poliwag  wodny                21"
      ]
     },
     "execution_count": 30,
     "metadata": {},
     "output_type": "execute_result"
    }
   ],
   "source": [
    "data = pd.read_excel('xlsx_simple.xlsx', sheet_name='Arkusz2')\n",
    "data"
   ]
  },
  {
   "cell_type": "markdown",
   "metadata": {},
   "source": [
    "### Niekompletne obserwacje\n",
    "\n",
    "Jeżeli wczytujemy dane, w których mamy jakieś niekompletne obserwacje (tzn. dla niektórych obserwacji mamy brakujące wartości) to warto przy wczytywaniu powiedzieć `pandas` jak one są oznaczone w oryginalnym pliku. W trzecim arkuszu pliku `xlsx_simple.xlsx` mamy listę Pokemonów. Niektóre z nich w kolumnie \"status\" mają znak zapytania, którym oznaczyłem brakującą wartość. Możemy za pomocą argumentu `na_values` powiedzieć, jakie wartości mają być traktowane jako oznaczenie braków (tutaj na przykładzie Excela ale działa z każdym rodzajem plików)."
   ]
  },
  {
   "cell_type": "code",
   "execution_count": 32,
   "metadata": {},
   "outputs": [
    {
     "data": {
      "text/html": [
       "<div>\n",
       "<style scoped>\n",
       "    .dataframe tbody tr th:only-of-type {\n",
       "        vertical-align: middle;\n",
       "    }\n",
       "\n",
       "    .dataframe tbody tr th {\n",
       "        vertical-align: top;\n",
       "    }\n",
       "\n",
       "    .dataframe thead th {\n",
       "        text-align: right;\n",
       "    }\n",
       "</style>\n",
       "<table border=\"1\" class=\"dataframe\">\n",
       "  <thead>\n",
       "    <tr style=\"text-align: right;\">\n",
       "      <th></th>\n",
       "      <th>Nazwa Pokemona</th>\n",
       "      <th>Typ</th>\n",
       "      <th>Status</th>\n",
       "    </tr>\n",
       "  </thead>\n",
       "  <tbody>\n",
       "    <tr>\n",
       "      <th>0</th>\n",
       "      <td>Mew</td>\n",
       "      <td>psychiczny</td>\n",
       "      <td>NaN</td>\n",
       "    </tr>\n",
       "    <tr>\n",
       "      <th>1</th>\n",
       "      <td>Celebi</td>\n",
       "      <td>roślinny</td>\n",
       "      <td>złapany</td>\n",
       "    </tr>\n",
       "  </tbody>\n",
       "</table>\n",
       "</div>"
      ],
      "text/plain": [
       "  Nazwa Pokemona         Typ   Status\n",
       "0            Mew  psychiczny      NaN\n",
       "1         Celebi    roślinny  złapany"
      ]
     },
     "execution_count": 32,
     "metadata": {},
     "output_type": "execute_result"
    }
   ],
   "source": [
    "data = pd.read_excel('xlsx_simple.xlsx', \n",
    "                     sheet_name='Arkusz3',\n",
    "                    na_values=['?'])\n",
    "data"
   ]
  },
  {
   "cell_type": "markdown",
   "metadata": {},
   "source": [
    "## Zapisywanie danych w podstawowych formatach: `csv` i pliki Excela"
   ]
  },
  {
   "cell_type": "markdown",
   "metadata": {},
   "source": [
    "### CSV\n",
    "\n",
    "Jeśli chcemy zapisać ramkę danych (`DataFrame`) w pliku CSV, musimy wywołać na niej metodę `to_csv(nazwa_pliku)`. Funkcja ta przyjmuje mniej-więcej te same argumenty co `read_csv`, więc możemy ustalić przy zapisywaniu separator dziesiętny, nagłówki itp."
   ]
  },
  {
   "cell_type": "code",
   "execution_count": 37,
   "metadata": {},
   "outputs": [
    {
     "data": {
      "text/html": [
       "<div>\n",
       "<style scoped>\n",
       "    .dataframe tbody tr th:only-of-type {\n",
       "        vertical-align: middle;\n",
       "    }\n",
       "\n",
       "    .dataframe tbody tr th {\n",
       "        vertical-align: top;\n",
       "    }\n",
       "\n",
       "    .dataframe thead th {\n",
       "        text-align: right;\n",
       "    }\n",
       "</style>\n",
       "<table border=\"1\" class=\"dataframe\">\n",
       "  <thead>\n",
       "    <tr style=\"text-align: right;\">\n",
       "      <th></th>\n",
       "      <th>Nazwa pokemona</th>\n",
       "      <th>Miejsce w rankingu</th>\n",
       "    </tr>\n",
       "  </thead>\n",
       "  <tbody>\n",
       "    <tr>\n",
       "      <th>0</th>\n",
       "      <td>Slowbro</td>\n",
       "      <td>2</td>\n",
       "    </tr>\n",
       "  </tbody>\n",
       "</table>\n",
       "</div>"
      ],
      "text/plain": [
       "  Nazwa pokemona  Miejsce w rankingu\n",
       "0        Slowbro                   2"
      ]
     },
     "execution_count": 37,
     "metadata": {},
     "output_type": "execute_result"
    }
   ],
   "source": [
    "data = pd.DataFrame({'Nazwa pokemona' : ['Slowbro'],\n",
    "                     'Miejsce w rankingu' : [2]\n",
    "                    })\n",
    "data.to_csv('ranking_pokemonów.csv', \n",
    "            index = False) # jeśli nie mamy jakiegoś określonego indeksu nie warto go zapisywać\n",
    "data"
   ]
  },
  {
   "cell_type": "markdown",
   "metadata": {},
   "source": [
    "### XSLX\n",
    "\n",
    "Pliki Excela zapisujemy analogiczne używając metody `to_excel(nazwa_pliku)`"
   ]
  },
  {
   "cell_type": "code",
   "execution_count": 38,
   "metadata": {},
   "outputs": [],
   "source": [
    "data.to_excel('ranking_pokemonów.xlsx', \n",
    "              sheet_name='ranking') # nie musimy podawać, ale możemy"
   ]
  },
  {
   "cell_type": "markdown",
   "metadata": {},
   "source": [
    "## Inne formaty"
   ]
  },
  {
   "cell_type": "markdown",
   "metadata": {},
   "source": [
    "W standardzie `pandas` oferuje obsługę szeregu formatów z danymi. Ich pełna lista i informacje o odpowiednich funkcjach znajduje się w dokumentacji: https://pandas.pydata.org/pandas-docs/stable/user_guide/io.html"
   ]
  },
  {
   "cell_type": "markdown",
   "metadata": {},
   "source": [
    "# Nie moge wczytać danych! Co zrobić?\n",
    "\n",
    "Jest kilka możliwości postępowania.\n",
    "\n",
    "## Chodzi o plik z SPSSa lub z innego programu statystycznego\n",
    "\n",
    "Generalnie jeśli nie ma tego w standardzie `pandas`, to funkcje z tego pakietu powinny dać radę: https://github.com/Roche/pyreadstat"
   ]
  },
  {
   "cell_type": "code",
   "execution_count": 79,
   "metadata": {},
   "outputs": [
    {
     "data": {
      "text/html": [
       "<div>\n",
       "<style scoped>\n",
       "    .dataframe tbody tr th:only-of-type {\n",
       "        vertical-align: middle;\n",
       "    }\n",
       "\n",
       "    .dataframe tbody tr th {\n",
       "        vertical-align: top;\n",
       "    }\n",
       "\n",
       "    .dataframe thead th {\n",
       "        text-align: right;\n",
       "    }\n",
       "</style>\n",
       "<table border=\"1\" class=\"dataframe\">\n",
       "  <thead>\n",
       "    <tr style=\"text-align: right;\">\n",
       "      <th></th>\n",
       "      <th>V1</th>\n",
       "      <th>V2</th>\n",
       "      <th>V3</th>\n",
       "      <th>V4</th>\n",
       "      <th>V5</th>\n",
       "      <th>V6</th>\n",
       "      <th>V7</th>\n",
       "      <th>V8</th>\n",
       "      <th>V9</th>\n",
       "      <th>V10</th>\n",
       "      <th>...</th>\n",
       "      <th>t_competent</th>\n",
       "      <th>t_confident</th>\n",
       "      <th>t_intel</th>\n",
       "      <th>t_capable</th>\n",
       "      <th>t_efficient</th>\n",
       "      <th>t_skillful</th>\n",
       "      <th>tval</th>\n",
       "      <th>Q29</th>\n",
       "      <th>age</th>\n",
       "      <th>gender</th>\n",
       "    </tr>\n",
       "  </thead>\n",
       "  <tbody>\n",
       "    <tr>\n",
       "      <th>0</th>\n",
       "      <td>R_2mWfZJ9VaGH3fj7</td>\n",
       "      <td>Default Response Set</td>\n",
       "      <td>Anonymous</td>\n",
       "      <td></td>\n",
       "      <td></td>\n",
       "      <td>removed</td>\n",
       "      <td>0</td>\n",
       "      <td>2014-08-04 08:55:55</td>\n",
       "      <td>2014-08-04 08:59:25</td>\n",
       "      <td>1.0</td>\n",
       "      <td>...</td>\n",
       "      <td>NaN</td>\n",
       "      <td>NaN</td>\n",
       "      <td>NaN</td>\n",
       "      <td>NaN</td>\n",
       "      <td>NaN</td>\n",
       "      <td>NaN</td>\n",
       "      <td>NaN</td>\n",
       "      <td>1.0</td>\n",
       "      <td>25.0</td>\n",
       "      <td>2.0</td>\n",
       "    </tr>\n",
       "    <tr>\n",
       "      <th>1</th>\n",
       "      <td>R_50zAgUhb6Wufh7n</td>\n",
       "      <td>Default Response Set</td>\n",
       "      <td>Anonymous</td>\n",
       "      <td></td>\n",
       "      <td></td>\n",
       "      <td>removed</td>\n",
       "      <td>0</td>\n",
       "      <td>2014-08-04 08:56:42</td>\n",
       "      <td>2014-08-04 08:59:44</td>\n",
       "      <td>1.0</td>\n",
       "      <td>...</td>\n",
       "      <td>3.0</td>\n",
       "      <td>3.0</td>\n",
       "      <td>4.0</td>\n",
       "      <td>4.0</td>\n",
       "      <td>3.0</td>\n",
       "      <td>4.0</td>\n",
       "      <td>5.0</td>\n",
       "      <td>1.0</td>\n",
       "      <td>19.0</td>\n",
       "      <td>1.0</td>\n",
       "    </tr>\n",
       "    <tr>\n",
       "      <th>2</th>\n",
       "      <td>R_1RkGNnicRpNWvhX</td>\n",
       "      <td>Default Response Set</td>\n",
       "      <td>Anonymous</td>\n",
       "      <td></td>\n",
       "      <td></td>\n",
       "      <td>removed</td>\n",
       "      <td>0</td>\n",
       "      <td>2014-08-04 08:56:59</td>\n",
       "      <td>2014-08-04 09:03:47</td>\n",
       "      <td>1.0</td>\n",
       "      <td>...</td>\n",
       "      <td>NaN</td>\n",
       "      <td>NaN</td>\n",
       "      <td>NaN</td>\n",
       "      <td>NaN</td>\n",
       "      <td>NaN</td>\n",
       "      <td>NaN</td>\n",
       "      <td>NaN</td>\n",
       "      <td>1.0</td>\n",
       "      <td>32.0</td>\n",
       "      <td>2.0</td>\n",
       "    </tr>\n",
       "    <tr>\n",
       "      <th>3</th>\n",
       "      <td>R_dosxrkXUVIAqwDj</td>\n",
       "      <td>Default Response Set</td>\n",
       "      <td>Anonymous</td>\n",
       "      <td></td>\n",
       "      <td></td>\n",
       "      <td>removed</td>\n",
       "      <td>0</td>\n",
       "      <td>2014-08-04 08:57:23</td>\n",
       "      <td>2014-08-04 09:02:27</td>\n",
       "      <td>1.0</td>\n",
       "      <td>...</td>\n",
       "      <td>3.0</td>\n",
       "      <td>3.0</td>\n",
       "      <td>3.0</td>\n",
       "      <td>3.0</td>\n",
       "      <td>3.0</td>\n",
       "      <td>3.0</td>\n",
       "      <td>4.0</td>\n",
       "      <td>1.0</td>\n",
       "      <td>31.0</td>\n",
       "      <td>1.0</td>\n",
       "    </tr>\n",
       "    <tr>\n",
       "      <th>4</th>\n",
       "      <td>R_2nkqcrfLSiFlcKV</td>\n",
       "      <td>Default Response Set</td>\n",
       "      <td>Anonymous</td>\n",
       "      <td></td>\n",
       "      <td></td>\n",
       "      <td>removed</td>\n",
       "      <td>0</td>\n",
       "      <td>2014-08-04 08:57:34</td>\n",
       "      <td>2014-08-04 09:02:07</td>\n",
       "      <td>1.0</td>\n",
       "      <td>...</td>\n",
       "      <td>NaN</td>\n",
       "      <td>NaN</td>\n",
       "      <td>NaN</td>\n",
       "      <td>NaN</td>\n",
       "      <td>NaN</td>\n",
       "      <td>NaN</td>\n",
       "      <td>NaN</td>\n",
       "      <td>1.0</td>\n",
       "      <td>34.0</td>\n",
       "      <td>1.0</td>\n",
       "    </tr>\n",
       "  </tbody>\n",
       "</table>\n",
       "<p>5 rows × 40 columns</p>\n",
       "</div>"
      ],
      "text/plain": [
       "                  V1                    V2         V3 V4 V5       V6 V7  \\\n",
       "0  R_2mWfZJ9VaGH3fj7  Default Response Set  Anonymous        removed  0   \n",
       "1  R_50zAgUhb6Wufh7n  Default Response Set  Anonymous        removed  0   \n",
       "2  R_1RkGNnicRpNWvhX  Default Response Set  Anonymous        removed  0   \n",
       "3  R_dosxrkXUVIAqwDj  Default Response Set  Anonymous        removed  0   \n",
       "4  R_2nkqcrfLSiFlcKV  Default Response Set  Anonymous        removed  0   \n",
       "\n",
       "                   V8                  V9  V10   ...   t_competent  \\\n",
       "0 2014-08-04 08:55:55 2014-08-04 08:59:25  1.0   ...           NaN   \n",
       "1 2014-08-04 08:56:42 2014-08-04 08:59:44  1.0   ...           3.0   \n",
       "2 2014-08-04 08:56:59 2014-08-04 09:03:47  1.0   ...           NaN   \n",
       "3 2014-08-04 08:57:23 2014-08-04 09:02:27  1.0   ...           3.0   \n",
       "4 2014-08-04 08:57:34 2014-08-04 09:02:07  1.0   ...           NaN   \n",
       "\n",
       "   t_confident  t_intel  t_capable  t_efficient  t_skillful  tval  Q29   age  \\\n",
       "0          NaN      NaN        NaN          NaN         NaN   NaN  1.0  25.0   \n",
       "1          3.0      4.0        4.0          3.0         4.0   5.0  1.0  19.0   \n",
       "2          NaN      NaN        NaN          NaN         NaN   NaN  1.0  32.0   \n",
       "3          3.0      3.0        3.0          3.0         3.0   4.0  1.0  31.0   \n",
       "4          NaN      NaN        NaN          NaN         NaN   NaN  1.0  34.0   \n",
       "\n",
       "   gender  \n",
       "0     2.0  \n",
       "1     1.0  \n",
       "2     2.0  \n",
       "3     1.0  \n",
       "4     1.0  \n",
       "\n",
       "[5 rows x 40 columns]"
      ]
     },
     "execution_count": 79,
     "metadata": {},
     "output_type": "execute_result"
    }
   ],
   "source": [
    "import pyreadstat\n",
    "df, meta = pyreadstat.read_sav(\"semantic_prosody_utterly_totally_Daniel.sav\")\n",
    "df.columns = meta.column_names\n",
    "df.head()"
   ]
  },
  {
   "cell_type": "markdown",
   "metadata": {},
   "source": [
    "## To jakiś dziwny plik tekstowy\n",
    "\n",
    "Jeśli to jakiś dziwny plik tesktowy, to należy spróbować funkcji `read_table` z pakietu `pandas`. Jeżeli nie zadziała, to trzeba plik otworzyć w edytorze tekstu i przyjrzeć się temu formatowi. Trzeba wywnioskować z treści pliku:\n",
    "+ jaki znak lub ciąg znaków jest separatorem pola (jeśli to tabulator to zapisujemy go jako `\\t`) i ustawić go jako `sep`\n",
    "+ jaki znak lub ciąg znaków jest używany jako separator dziesiętny i ustawić go jako `decimal`\n",
    "+ czy w pliku jest nagłówek, jeśli nie to nie wczytywać go (`header=None`)\n",
    "+ jaki jest znak używany jako cudzysłów (`quotechar=\"'\"`)\n",
    "+ czy wszystkie linijki w pliku są danymi - jeśli nie, to można je pominąć za pomocą `skiprows` i `skipfooter`\n",
    "\n",
    "Generalnie musimy pobawić się w detektywa i skonstruować odpowiednie wywołanie `read_table` lub `read_csv`."
   ]
  }
 ],
 "metadata": {
  "kernelspec": {
   "display_name": "Python 3",
   "language": "python",
   "name": "python3"
  },
  "language_info": {
   "codemirror_mode": {
    "name": "ipython",
    "version": 3
   },
   "file_extension": ".py",
   "mimetype": "text/x-python",
   "name": "python",
   "nbconvert_exporter": "python",
   "pygments_lexer": "ipython3",
   "version": "3.7.2"
  }
 },
 "nbformat": 4,
 "nbformat_minor": 2
}
