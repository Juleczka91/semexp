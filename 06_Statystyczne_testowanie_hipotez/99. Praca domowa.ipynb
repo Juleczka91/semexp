{
 "cells": [
  {
   "cell_type": "markdown",
   "metadata": {},
   "source": [
    "# Praca domowa\n",
    "\n",
    "Zadanie jest bardzo proste. Należy rozbudować poprzednią pracę domową o odpowiednie analizy statystyczne. \n",
    "\n",
    "+ Minimum należy wykonać te, które wykonali autorzy w aryginalnym artykule (wtedy dostaje się 6 punktów). \n",
    "+ Jeżeli ktoś wpadnie na jakieś dodatkowe hipotezy eksploracyjne (np. dotyczące wpływu wieku/płci na jakieś zmienne zależne), to spokojnie można przyjrzeć się danym pod ich kątem i uzyskać lepszą ocenę (wtedy otrzymuje się 7 punktów). \n",
    "+ Oprócz tego należy napisać krótkie podsumowanie wyników (jeden paragraf z głównymi obserwacjami i wnioskami z eksperymentu) (wtedy otrzymuje się 8 punktów).\n",
    "+ Żeby dostać 10 punktów należy przeprowadzić analizę mocy dla potencjalnego badania replikacyjnego w dwóch wariantach:\n",
    "  + chcemy osiągnąć 95% mocy dla wielkości efektu, który autorzy zaobserwowali w oryginalnym badaniu przy $\\alpha=0.001$\n",
    "  + chcemy osiągnać 80% mocy dla wielkości efektu, na odkrycie którego w oryginalnym badaniu autorzy mieli 30% przy $\\alpha=0.05$\n",
    "\n",
    "Prace domowe wrzucamy w formie notebooka `ipynb` oraz pliku z danymi na platformę."
   ]
  }
 ],
 "metadata": {
  "kernelspec": {
   "display_name": "Python 3",
   "language": "python",
   "name": "python3"
  },
  "language_info": {
   "codemirror_mode": {
    "name": "ipython",
    "version": 3
   },
   "file_extension": ".py",
   "mimetype": "text/x-python",
   "name": "python",
   "nbconvert_exporter": "python",
   "pygments_lexer": "ipython3",
   "version": "3.7.2"
  }
 },
 "nbformat": 4,
 "nbformat_minor": 2
}
