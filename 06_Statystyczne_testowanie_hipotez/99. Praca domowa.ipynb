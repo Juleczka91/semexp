{
 "cells": [
  {
   "cell_type": "markdown",
   "metadata": {},
   "source": [
    "# Praca domowa\n",
    "\n",
    "Zadanie jest bardzo proste. Należy rozbudować poprzednią pracę domową o odpowiednie analizy statystyczne. Minimum należy wykonać te, które wykonali autorzy w aryginalnym artykule. Jeżeli ktoś wpadnie na jakieś dodatkowe hipotezy eksploracyjne, to spokojnie można przyjrzeć się danym pod ich kątem i uzyskać lepszą ocenę. Oprócz tego należy napisać krótkie podsumowanie wyników (jeden paragraf z głównymi obserwacjami i wnioskami z eksperymentu)\n",
    "\n",
    "Prace domowe wrzucamy w formie notebooka `ipynb` na platformę."
   ]
  }
 ],
 "metadata": {
  "kernelspec": {
   "display_name": "Python 3",
   "language": "python",
   "name": "python3"
  },
  "language_info": {
   "codemirror_mode": {
    "name": "ipython",
    "version": 3
   },
   "file_extension": ".py",
   "mimetype": "text/x-python",
   "name": "python",
   "nbconvert_exporter": "python",
   "pygments_lexer": "ipython3",
   "version": "3.7.2"
  }
 },
 "nbformat": 4,
 "nbformat_minor": 2
}
