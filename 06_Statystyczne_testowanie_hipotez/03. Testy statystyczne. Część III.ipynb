{
 "cells": [
  {
   "cell_type": "markdown",
   "metadata": {},
   "source": [
    "# Testy statystyczne. Część III"
   ]
  },
  {
   "cell_type": "code",
   "execution_count": 2,
   "metadata": {},
   "outputs": [],
   "source": [
    "import pandas as pd\n",
    "from pandas import DataFrame, Series\n",
    "import scipy.stats as stats\n",
    "import statsmodels.api as sm\n",
    "import statsmodels.formula.api as smf\n",
    "import pingouin as pg\n",
    "from pprint import pprint"
   ]
  },
  {
   "cell_type": "markdown",
   "metadata": {},
   "source": [
    "## Prosta regresja liniowa"
   ]
  },
  {
   "cell_type": "markdown",
   "metadata": {},
   "source": [
    "### Przykład\n"
   ]
  },
  {
   "cell_type": "code",
   "execution_count": 29,
   "metadata": {},
   "outputs": [
    {
     "data": {
      "text/html": [
       "<table class=\"simpletable\">\n",
       "<caption>OLS Regression Results</caption>\n",
       "<tr>\n",
       "  <th>Dep. Variable:</th>         <td>rating</td>      <th>  R-squared:         </th> <td>   0.129</td>\n",
       "</tr>\n",
       "<tr>\n",
       "  <th>Model:</th>                   <td>OLS</td>       <th>  Adj. R-squared:    </th> <td>   0.120</td>\n",
       "</tr>\n",
       "<tr>\n",
       "  <th>Method:</th>             <td>Least Squares</td>  <th>  F-statistic:       </th> <td>   14.52</td>\n",
       "</tr>\n",
       "<tr>\n",
       "  <th>Date:</th>             <td>Sun, 27 Jan 2019</td> <th>  Prob (F-statistic):</th> <td>0.000242</td>\n",
       "</tr>\n",
       "<tr>\n",
       "  <th>Time:</th>                 <td>14:10:21</td>     <th>  Log-Likelihood:    </th> <td> -197.81</td>\n",
       "</tr>\n",
       "<tr>\n",
       "  <th>No. Observations:</th>      <td>   100</td>      <th>  AIC:               </th> <td>   399.6</td>\n",
       "</tr>\n",
       "<tr>\n",
       "  <th>Df Residuals:</th>          <td>    98</td>      <th>  BIC:               </th> <td>   404.8</td>\n",
       "</tr>\n",
       "<tr>\n",
       "  <th>Df Model:</th>              <td>     1</td>      <th>                     </th>     <td> </td>   \n",
       "</tr>\n",
       "<tr>\n",
       "  <th>Covariance Type:</th>      <td>nonrobust</td>    <th>                     </th>     <td> </td>   \n",
       "</tr>\n",
       "</table>\n",
       "<table class=\"simpletable\">\n",
       "<tr>\n",
       "      <td></td>         <th>coef</th>     <th>std err</th>      <th>t</th>      <th>P>|t|</th>  <th>[0.025</th>    <th>0.975]</th>  \n",
       "</tr>\n",
       "<tr>\n",
       "  <th>Intercept</th> <td>    2.7460</td> <td>    0.650</td> <td>    4.224</td> <td> 0.000</td> <td>    1.456</td> <td>    4.036</td>\n",
       "</tr>\n",
       "<tr>\n",
       "  <th>age</th>       <td>    0.0905</td> <td>    0.024</td> <td>    3.811</td> <td> 0.000</td> <td>    0.043</td> <td>    0.138</td>\n",
       "</tr>\n",
       "</table>\n",
       "<table class=\"simpletable\">\n",
       "<tr>\n",
       "  <th>Omnibus:</th>       <td> 0.405</td> <th>  Durbin-Watson:     </th> <td>   1.991</td>\n",
       "</tr>\n",
       "<tr>\n",
       "  <th>Prob(Omnibus):</th> <td> 0.817</td> <th>  Jarque-Bera (JB):  </th> <td>   0.142</td>\n",
       "</tr>\n",
       "<tr>\n",
       "  <th>Skew:</th>          <td>-0.076</td> <th>  Prob(JB):          </th> <td>   0.931</td>\n",
       "</tr>\n",
       "<tr>\n",
       "  <th>Kurtosis:</th>      <td> 3.106</td> <th>  Cond. No.          </th> <td>    101.</td>\n",
       "</tr>\n",
       "</table><br/><br/>Warnings:<br/>[1] Standard Errors assume that the covariance matrix of the errors is correctly specified."
      ],
      "text/plain": [
       "<class 'statsmodels.iolib.summary.Summary'>\n",
       "\"\"\"\n",
       "                            OLS Regression Results                            \n",
       "==============================================================================\n",
       "Dep. Variable:                 rating   R-squared:                       0.129\n",
       "Model:                            OLS   Adj. R-squared:                  0.120\n",
       "Method:                 Least Squares   F-statistic:                     14.52\n",
       "Date:                Sun, 27 Jan 2019   Prob (F-statistic):           0.000242\n",
       "Time:                        14:10:21   Log-Likelihood:                -197.81\n",
       "No. Observations:                 100   AIC:                             399.6\n",
       "Df Residuals:                      98   BIC:                             404.8\n",
       "Df Model:                           1                                         \n",
       "Covariance Type:            nonrobust                                         \n",
       "==============================================================================\n",
       "                 coef    std err          t      P>|t|      [0.025      0.975]\n",
       "------------------------------------------------------------------------------\n",
       "Intercept      2.7460      0.650      4.224      0.000       1.456       4.036\n",
       "age            0.0905      0.024      3.811      0.000       0.043       0.138\n",
       "==============================================================================\n",
       "Omnibus:                        0.405   Durbin-Watson:                   1.991\n",
       "Prob(Omnibus):                  0.817   Jarque-Bera (JB):                0.142\n",
       "Skew:                          -0.076   Prob(JB):                        0.931\n",
       "Kurtosis:                       3.106   Cond. No.                         101.\n",
       "==============================================================================\n",
       "\n",
       "Warnings:\n",
       "[1] Standard Errors assume that the covariance matrix of the errors is correctly specified.\n",
       "\"\"\""
      ]
     },
     "execution_count": 29,
     "metadata": {},
     "output_type": "execute_result"
    }
   ],
   "source": [
    "smf.ols('rating ~ age', data = data).fit().summary()"
   ]
  },
  {
   "cell_type": "code",
   "execution_count": 32,
   "metadata": {},
   "outputs": [
    {
     "data": {
      "text/html": [
       "<div>\n",
       "<style scoped>\n",
       "    .dataframe tbody tr th:only-of-type {\n",
       "        vertical-align: middle;\n",
       "    }\n",
       "\n",
       "    .dataframe tbody tr th {\n",
       "        vertical-align: top;\n",
       "    }\n",
       "\n",
       "    .dataframe thead th {\n",
       "        text-align: right;\n",
       "    }\n",
       "</style>\n",
       "<table border=\"1\" class=\"dataframe\">\n",
       "  <thead>\n",
       "    <tr style=\"text-align: right;\">\n",
       "      <th></th>\n",
       "      <th>names</th>\n",
       "      <th>coef</th>\n",
       "      <th>se</th>\n",
       "      <th>T</th>\n",
       "      <th>pval</th>\n",
       "      <th>r2</th>\n",
       "      <th>adj_r2</th>\n",
       "      <th>CI[2.5%]</th>\n",
       "      <th>CI[97.5%]</th>\n",
       "    </tr>\n",
       "  </thead>\n",
       "  <tbody>\n",
       "    <tr>\n",
       "      <th>0</th>\n",
       "      <td>Intercept</td>\n",
       "      <td>2.746016</td>\n",
       "      <td>0.650098</td>\n",
       "      <td>4.224003</td>\n",
       "      <td>0.000054</td>\n",
       "      <td>0.129047</td>\n",
       "      <td>0.12016</td>\n",
       "      <td>1.455917</td>\n",
       "      <td>4.036114</td>\n",
       "    </tr>\n",
       "    <tr>\n",
       "      <th>1</th>\n",
       "      <td>age</td>\n",
       "      <td>0.090543</td>\n",
       "      <td>0.023761</td>\n",
       "      <td>3.810569</td>\n",
       "      <td>0.000242</td>\n",
       "      <td>0.129047</td>\n",
       "      <td>0.12016</td>\n",
       "      <td>0.043390</td>\n",
       "      <td>0.137695</td>\n",
       "    </tr>\n",
       "  </tbody>\n",
       "</table>\n",
       "</div>"
      ],
      "text/plain": [
       "       names      coef        se         T      pval        r2   adj_r2  \\\n",
       "0  Intercept  2.746016  0.650098  4.224003  0.000054  0.129047  0.12016   \n",
       "1        age  0.090543  0.023761  3.810569  0.000242  0.129047  0.12016   \n",
       "\n",
       "   CI[2.5%]  CI[97.5%]  \n",
       "0  1.455917   4.036114  \n",
       "1  0.043390   0.137695  "
      ]
     },
     "execution_count": 32,
     "metadata": {},
     "output_type": "execute_result"
    }
   ],
   "source": [
    "pg.regression.linear_regression(y = data['rating'], X = data['age'])"
   ]
  },
  {
   "cell_type": "markdown",
   "metadata": {},
   "source": [
    "## Prosta analiza wariancji (jednoczynnikowa)"
   ]
  },
  {
   "cell_type": "markdown",
   "metadata": {},
   "source": [
    "### Przykład"
   ]
  },
  {
   "cell_type": "markdown",
   "metadata": {},
   "source": [
    "## Wieloraka regresja liniowa"
   ]
  },
  {
   "cell_type": "markdown",
   "metadata": {},
   "source": [
    "### Przykład"
   ]
  },
  {
   "cell_type": "markdown",
   "metadata": {},
   "source": [
    "## Wieloczynnikowa analiza wariancji"
   ]
  },
  {
   "cell_type": "markdown",
   "metadata": {},
   "source": [
    "### Przykład"
   ]
  },
  {
   "cell_type": "markdown",
   "metadata": {},
   "source": [
    "## Analiza wariancji dla czynników wewnątrzgrupowych"
   ]
  },
  {
   "cell_type": "markdown",
   "metadata": {},
   "source": [
    "### Przykład"
   ]
  },
  {
   "cell_type": "markdown",
   "metadata": {},
   "source": [
    "## Analiza wariancji dla schematu mieszanego"
   ]
  },
  {
   "cell_type": "markdown",
   "metadata": {},
   "source": [
    "### Przykład"
   ]
  },
  {
   "cell_type": "code",
   "execution_count": 23,
   "metadata": {},
   "outputs": [],
   "source": [
    "data = pd.read_csv('bi-stroop.csv')"
   ]
  },
  {
   "cell_type": "code",
   "execution_count": 24,
   "metadata": {},
   "outputs": [
    {
     "data": {
      "text/html": [
       "<div>\n",
       "<style scoped>\n",
       "    .dataframe tbody tr th:only-of-type {\n",
       "        vertical-align: middle;\n",
       "    }\n",
       "\n",
       "    .dataframe tbody tr th {\n",
       "        vertical-align: top;\n",
       "    }\n",
       "\n",
       "    .dataframe thead th {\n",
       "        text-align: right;\n",
       "    }\n",
       "</style>\n",
       "<table border=\"1\" class=\"dataframe\">\n",
       "  <thead>\n",
       "    <tr style=\"text-align: right;\">\n",
       "      <th></th>\n",
       "      <th></th>\n",
       "      <th>count</th>\n",
       "      <th>mean</th>\n",
       "      <th>std</th>\n",
       "      <th>min</th>\n",
       "      <th>25%</th>\n",
       "      <th>50%</th>\n",
       "      <th>75%</th>\n",
       "      <th>max</th>\n",
       "    </tr>\n",
       "    <tr>\n",
       "      <th>lang</th>\n",
       "      <th>condition</th>\n",
       "      <th></th>\n",
       "      <th></th>\n",
       "      <th></th>\n",
       "      <th></th>\n",
       "      <th></th>\n",
       "      <th></th>\n",
       "      <th></th>\n",
       "      <th></th>\n",
       "    </tr>\n",
       "  </thead>\n",
       "  <tbody>\n",
       "    <tr>\n",
       "      <th rowspan=\"2\" valign=\"top\">eng</th>\n",
       "      <th>congruent</th>\n",
       "      <td>1000.0</td>\n",
       "      <td>391.833963</td>\n",
       "      <td>157.494121</td>\n",
       "      <td>118.681871</td>\n",
       "      <td>284.454624</td>\n",
       "      <td>349.562281</td>\n",
       "      <td>461.664580</td>\n",
       "      <td>1259.978454</td>\n",
       "    </tr>\n",
       "    <tr>\n",
       "      <th>incongruent</th>\n",
       "      <td>1000.0</td>\n",
       "      <td>445.489736</td>\n",
       "      <td>173.994919</td>\n",
       "      <td>101.260486</td>\n",
       "      <td>326.380860</td>\n",
       "      <td>410.219200</td>\n",
       "      <td>531.946769</td>\n",
       "      <td>1547.244065</td>\n",
       "    </tr>\n",
       "    <tr>\n",
       "      <th rowspan=\"2\" valign=\"top\">pol</th>\n",
       "      <th>congruent</th>\n",
       "      <td>1000.0</td>\n",
       "      <td>354.282428</td>\n",
       "      <td>162.117292</td>\n",
       "      <td>89.573234</td>\n",
       "      <td>242.964495</td>\n",
       "      <td>321.565445</td>\n",
       "      <td>433.029511</td>\n",
       "      <td>1259.406386</td>\n",
       "    </tr>\n",
       "    <tr>\n",
       "      <th>incongruent</th>\n",
       "      <td>1000.0</td>\n",
       "      <td>422.846181</td>\n",
       "      <td>175.116211</td>\n",
       "      <td>75.032203</td>\n",
       "      <td>313.002940</td>\n",
       "      <td>393.809734</td>\n",
       "      <td>495.973376</td>\n",
       "      <td>2285.353847</td>\n",
       "    </tr>\n",
       "  </tbody>\n",
       "</table>\n",
       "</div>"
      ],
      "text/plain": [
       "                   count        mean         std         min         25%  \\\n",
       "lang condition                                                             \n",
       "eng  congruent    1000.0  391.833963  157.494121  118.681871  284.454624   \n",
       "     incongruent  1000.0  445.489736  173.994919  101.260486  326.380860   \n",
       "pol  congruent    1000.0  354.282428  162.117292   89.573234  242.964495   \n",
       "     incongruent  1000.0  422.846181  175.116211   75.032203  313.002940   \n",
       "\n",
       "                         50%         75%          max  \n",
       "lang condition                                         \n",
       "eng  congruent    349.562281  461.664580  1259.978454  \n",
       "     incongruent  410.219200  531.946769  1547.244065  \n",
       "pol  congruent    321.565445  433.029511  1259.406386  \n",
       "     incongruent  393.809734  495.973376  2285.353847  "
      ]
     },
     "execution_count": 24,
     "metadata": {},
     "output_type": "execute_result"
    }
   ],
   "source": [
    "data.groupby(['lang', 'condition'])['rt'].describe()"
   ]
  },
  {
   "cell_type": "code",
   "execution_count": 22,
   "metadata": {},
   "outputs": [
    {
     "data": {
      "text/html": [
       "<div>\n",
       "<style scoped>\n",
       "    .dataframe tbody tr th:only-of-type {\n",
       "        vertical-align: middle;\n",
       "    }\n",
       "\n",
       "    .dataframe tbody tr th {\n",
       "        vertical-align: top;\n",
       "    }\n",
       "\n",
       "    .dataframe thead th {\n",
       "        text-align: right;\n",
       "    }\n",
       "</style>\n",
       "<table border=\"1\" class=\"dataframe\">\n",
       "  <thead>\n",
       "    <tr style=\"text-align: right;\">\n",
       "      <th></th>\n",
       "      <th>Source</th>\n",
       "      <th>SS</th>\n",
       "      <th>DF1</th>\n",
       "      <th>DF2</th>\n",
       "      <th>MS</th>\n",
       "      <th>F</th>\n",
       "      <th>p-unc</th>\n",
       "      <th>np2</th>\n",
       "      <th>eps</th>\n",
       "    </tr>\n",
       "  </thead>\n",
       "  <tbody>\n",
       "    <tr>\n",
       "      <th>0</th>\n",
       "      <td>lang</td>\n",
       "      <td>44270.624</td>\n",
       "      <td>1</td>\n",
       "      <td>38</td>\n",
       "      <td>44270.624</td>\n",
       "      <td>113.962</td>\n",
       "      <td>5.383536e-13</td>\n",
       "      <td>0.750</td>\n",
       "      <td>-</td>\n",
       "    </tr>\n",
       "    <tr>\n",
       "      <th>1</th>\n",
       "      <td>condition</td>\n",
       "      <td>53834.244</td>\n",
       "      <td>1</td>\n",
       "      <td>38</td>\n",
       "      <td>53834.244</td>\n",
       "      <td>83.868</td>\n",
       "      <td>3.711526e-11</td>\n",
       "      <td>0.688</td>\n",
       "      <td>1</td>\n",
       "    </tr>\n",
       "    <tr>\n",
       "      <th>2</th>\n",
       "      <td>Interaction</td>\n",
       "      <td>227.663</td>\n",
       "      <td>1</td>\n",
       "      <td>38</td>\n",
       "      <td>227.663</td>\n",
       "      <td>0.355</td>\n",
       "      <td>5.550104e-01</td>\n",
       "      <td>0.009</td>\n",
       "      <td>-</td>\n",
       "    </tr>\n",
       "  </tbody>\n",
       "</table>\n",
       "</div>"
      ],
      "text/plain": [
       "        Source         SS  DF1  DF2         MS        F         p-unc    np2  \\\n",
       "0         lang  44270.624    1   38  44270.624  113.962  5.383536e-13  0.750   \n",
       "1    condition  53834.244    1   38  53834.244   83.868  3.711526e-11  0.688   \n",
       "2  Interaction    227.663    1   38    227.663    0.355  5.550104e-01  0.009   \n",
       "\n",
       "  eps  \n",
       "0   -  \n",
       "1   1  \n",
       "2   -  "
      ]
     },
     "execution_count": 22,
     "metadata": {},
     "output_type": "execute_result"
    }
   ],
   "source": [
    "pg.mixed_anova(data=data, within='condition', between='lang', dv = 'rt', subject='participant')"
   ]
  }
 ],
 "metadata": {
  "kernelspec": {
   "display_name": "Python 3",
   "language": "python",
   "name": "python3"
  },
  "language_info": {
   "codemirror_mode": {
    "name": "ipython",
    "version": 3
   },
   "file_extension": ".py",
   "mimetype": "text/x-python",
   "name": "python",
   "nbconvert_exporter": "python",
   "pygments_lexer": "ipython3",
   "version": "3.7.2"
  }
 },
 "nbformat": 4,
 "nbformat_minor": 2
}
