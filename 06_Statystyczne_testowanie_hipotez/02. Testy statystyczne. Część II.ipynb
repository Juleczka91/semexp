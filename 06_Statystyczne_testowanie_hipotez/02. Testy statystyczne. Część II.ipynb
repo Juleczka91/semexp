{
 "cells": [
  {
   "cell_type": "markdown",
   "metadata": {},
   "source": [
    "# Testy statystyczne. Część II"
   ]
  },
  {
   "cell_type": "code",
   "execution_count": 12,
   "metadata": {},
   "outputs": [],
   "source": [
    "import pandas as pd\n",
    "from pandas import DataFrame, Series\n",
    "import scipy.stats as stats\n",
    "import statsmodels.api as sm\n",
    "import statsmodels.formula.api as smf\n",
    "import pingouin as pg\n",
    "from pprint import pprint"
   ]
  },
  {
   "cell_type": "markdown",
   "metadata": {},
   "source": [
    "## Test znaków rangowych Wilcoxona / Test U Manna-Whitneya"
   ]
  },
  {
   "cell_type": "markdown",
   "metadata": {},
   "source": [
    "### Przykład\n",
    "\n",
    "Grupa badaczy postanowiła przeprowadzić badanie nawiązujące do słynnego badania Kahnemana i Tverskyego. W oryginalnym badaniu naukowcy przedstawiali badanym krótką historykę:\n",
    "> Linda ma 31 lat, jest otwartą, inteligentną, i niezamężną kobietą. Ukończyła filozofię. Jako studentka poświęcała dużo czasu problemom sprawiedliwości społecznej i dyskryminacji, uczestniczyła też w demonstracjach antynuklearnych. Co jest bardziej prawdopodobne?\n",
    "\n",
    "po której prosili o wskazanie bardziej prawdopodobnego z dwóch stwierdzeń:\n",
    "\n",
    "1. Linda pracuje w banku\n",
    "2. Linda pracuje w banku i jest aktywną działaczką ruchu feministycznego\n",
    "\n",
    "Badani znacznie częściej wybierali zdanie numer 2, mimo, że *a priori* prawdopodobieństwo iloczynu dwóch zdarzeń nie może być wyższe niż prawdopodobieństwo wystąpienia któregokolwiek z nich pojedynczo. \n",
    "\n",
    "W naszym przykładzie badacze chcieli sprawdzić, jak ludzie oceniają prawdopodobieństwo każdego z tych zdań bez kontrastu. W tym celu przedstawiali dwóm grupom (N=40 dla każdej z nich) badanych tę samą historyjkę i pokazywali jedno pytanie. Zadaniem badanych było ocenienie jak bardzo prawdopodobne są te stwierdzenia na skali siedmiostopniowej Likerta (1=zupełnie nieprawdopodobne, 7=prawie pewne). Wyniki eksperymentu znajdują się w pliku `linda.csv`. Czy mediana obu rozkładów różni się od siebie? Żeby to sprawdzić użyjemy testu U Manna-Whitneya."
   ]
  },
  {
   "cell_type": "code",
   "execution_count": 13,
   "metadata": {},
   "outputs": [
    {
     "data": {
      "text/html": [
       "<div>\n",
       "<style scoped>\n",
       "    .dataframe tbody tr th:only-of-type {\n",
       "        vertical-align: middle;\n",
       "    }\n",
       "\n",
       "    .dataframe tbody tr th {\n",
       "        vertical-align: top;\n",
       "    }\n",
       "\n",
       "    .dataframe thead th {\n",
       "        text-align: right;\n",
       "    }\n",
       "</style>\n",
       "<table border=\"1\" class=\"dataframe\">\n",
       "  <thead>\n",
       "    <tr style=\"text-align: right;\">\n",
       "      <th></th>\n",
       "      <th>Unnamed: 0</th>\n",
       "      <th>participant</th>\n",
       "      <th>group</th>\n",
       "      <th>likelihood</th>\n",
       "    </tr>\n",
       "  </thead>\n",
       "  <tbody>\n",
       "    <tr>\n",
       "      <th>0</th>\n",
       "      <td>0</td>\n",
       "      <td>1</td>\n",
       "      <td>bank_teller</td>\n",
       "      <td>3</td>\n",
       "    </tr>\n",
       "    <tr>\n",
       "      <th>1</th>\n",
       "      <td>0</td>\n",
       "      <td>2</td>\n",
       "      <td>bank_teller</td>\n",
       "      <td>1</td>\n",
       "    </tr>\n",
       "    <tr>\n",
       "      <th>2</th>\n",
       "      <td>0</td>\n",
       "      <td>3</td>\n",
       "      <td>bank_teller</td>\n",
       "      <td>1</td>\n",
       "    </tr>\n",
       "    <tr>\n",
       "      <th>3</th>\n",
       "      <td>0</td>\n",
       "      <td>4</td>\n",
       "      <td>bank_teller</td>\n",
       "      <td>2</td>\n",
       "    </tr>\n",
       "    <tr>\n",
       "      <th>4</th>\n",
       "      <td>0</td>\n",
       "      <td>5</td>\n",
       "      <td>bank_teller</td>\n",
       "      <td>1</td>\n",
       "    </tr>\n",
       "  </tbody>\n",
       "</table>\n",
       "</div>"
      ],
      "text/plain": [
       "   Unnamed: 0  participant        group  likelihood\n",
       "0           0            1  bank_teller           3\n",
       "1           0            2  bank_teller           1\n",
       "2           0            3  bank_teller           1\n",
       "3           0            4  bank_teller           2\n",
       "4           0            5  bank_teller           1"
      ]
     },
     "execution_count": 13,
     "metadata": {},
     "output_type": "execute_result"
    }
   ],
   "source": [
    "data = pd.read_csv('linda.csv')\n",
    "data.head()"
   ]
  },
  {
   "cell_type": "markdown",
   "metadata": {},
   "source": [
    "Standardowo podzielimy nasza ramkę na dwie części i wydobędziemy właściwą kolumnę."
   ]
  },
  {
   "cell_type": "code",
   "execution_count": 14,
   "metadata": {},
   "outputs": [
    {
     "data": {
      "text/plain": [
       "3.0"
      ]
     },
     "execution_count": 14,
     "metadata": {},
     "output_type": "execute_result"
    }
   ],
   "source": [
    "bank_teller_resp = data[data['group'] == 'bank_teller']['likelihood']\n",
    "bank_teller_resp.median()"
   ]
  },
  {
   "cell_type": "code",
   "execution_count": 15,
   "metadata": {},
   "outputs": [
    {
     "data": {
      "text/plain": [
       "5.0"
      ]
     },
     "execution_count": 15,
     "metadata": {},
     "output_type": "execute_result"
    }
   ],
   "source": [
    "bank_teller_and_fem_resp = data[data['group'] == 'bank_teller_and_fem']['likelihood']\n",
    "bank_teller_and_fem_resp.median()"
   ]
  },
  {
   "cell_type": "markdown",
   "metadata": {},
   "source": [
    "W module `scipy.stats` znajduje się funkcja `mannwhitneyu`, za pomocą której możemy przeprowadzić właściwy test. Jako argumenty przyjmuje `Series` (lub inne listopodobne obiekty) i zwraca wartośc statystyki testowej U oraz p-wartość."
   ]
  },
  {
   "cell_type": "code",
   "execution_count": 16,
   "metadata": {},
   "outputs": [
    {
     "name": "stdout",
     "output_type": "stream",
     "text": [
      "Statystyka testowa U:  213.0\n",
      "Wartość p:  5.023207721468035e-09\n"
     ]
    }
   ],
   "source": [
    "u, p = stats.mannwhitneyu(bank_teller_resp, bank_teller_and_fem_resp)\n",
    "print('Statystyka testowa U: ', u)\n",
    "print('Wartość p: ', p)"
   ]
  },
  {
   "cell_type": "markdown",
   "metadata": {},
   "source": [
    "Odpowiednik tej funkcji możemy także znaleźć w pakiecie `pingouin`."
   ]
  },
  {
   "cell_type": "code",
   "execution_count": 17,
   "metadata": {},
   "outputs": [
    {
     "data": {
      "text/html": [
       "<div>\n",
       "<style scoped>\n",
       "    .dataframe tbody tr th:only-of-type {\n",
       "        vertical-align: middle;\n",
       "    }\n",
       "\n",
       "    .dataframe tbody tr th {\n",
       "        vertical-align: top;\n",
       "    }\n",
       "\n",
       "    .dataframe thead th {\n",
       "        text-align: right;\n",
       "    }\n",
       "</style>\n",
       "<table border=\"1\" class=\"dataframe\">\n",
       "  <thead>\n",
       "    <tr style=\"text-align: right;\">\n",
       "      <th></th>\n",
       "      <th>U-val</th>\n",
       "      <th>p-val</th>\n",
       "      <th>RBC</th>\n",
       "      <th>CLES</th>\n",
       "    </tr>\n",
       "  </thead>\n",
       "  <tbody>\n",
       "    <tr>\n",
       "      <th>MWU</th>\n",
       "      <td>213.0</td>\n",
       "      <td>1.004642e-08</td>\n",
       "      <td>0.73375</td>\n",
       "      <td>0.811875</td>\n",
       "    </tr>\n",
       "  </tbody>\n",
       "</table>\n",
       "</div>"
      ],
      "text/plain": [
       "     U-val         p-val      RBC      CLES\n",
       "MWU  213.0  1.004642e-08  0.73375  0.811875"
      ]
     },
     "execution_count": 17,
     "metadata": {},
     "output_type": "execute_result"
    }
   ],
   "source": [
    "pg.mwu(bank_teller_resp, bank_teller_and_fem_resp)"
   ]
  },
  {
   "cell_type": "markdown",
   "metadata": {},
   "source": [
    "Na podstawie przeprowadzonego testu mamy więc prawo odrzucić hipotezę zerową (przy ustalonym poziomie istotności statystycznej $\\alpha = 0.05$)."
   ]
  },
  {
   "cell_type": "markdown",
   "metadata": {},
   "source": [
    "## Test Kruskala-Wallisa"
   ]
  },
  {
   "cell_type": "markdown",
   "metadata": {},
   "source": [
    "### Przykład\n",
    "\n",
    "Grupa badaczy postanowiła zbadać interpretację rzeczowników w takich zdaniach jak:\n",
    "\n",
    "> Chłopcy palą papierosy\n",
    "\n",
    "Możliwe są dwie interpretacje:\n",
    "- MAKSYMALNA: Wszyscy chłopcy (w danej domenie odniesienia) palą papierosy\n",
    "- MINIMALNA: Istnieje przynajmniej dwóch chłopców (w danej domenie odniesienia), którzy palą papierosy\n",
    "\n",
    "Aby przetestować tę hipotezę przeprowadzili eksperyment. Uczestnikom badania prezentowali krótką historyjkę:\n",
    "\n",
    "> Marek, Jacek i Piotrek po zakończeniu lekcji poszli do małego zagajnika za szkołą. Marek wyciągnął z kieszeni paczkę papierosów i poczęstował kolegów. Jacek wziął papierosa, ale Piotrek odmówił, mówiąc, że papierosy szkodzą. Potem Marek i Jacek wypalili swoje papierosy i wszyscy trzej chłopcy rozeszli się do domów.\n",
    "\n",
    "Następnie badacze prosili uczestników o wyrażenie na 10-stopniowej skali Likerta swojej zgody na jedno z trzech zdań (w zależności od warunku eksperymentalnego):\n",
    "\n",
    "- (no-quantifier) Chłopcy palą papierosy\n",
    "- (universal quantifier) Wszyscy chłopcy palą papierosy\n",
    "- (existential quantifier) Jacyś chłopcy palą papierosy\n",
    "\n",
    "Ich hipoteza głosiła, że zdania bez kwantyfikatora będą interpretowane tak jak zdania z kwantyfikatorem uniwersalnym, ich interpretacja będzie zaś różnić się od zdań z kwantyfikatorem egzystencjalnym. Dane z eksperymentu znajdują się w pliku `elektryczne_gitary.csv`. Czy dane wspierają hipotezę badaczy? Użyjmy testu Kruskala-Wallisa (znanego także jako  \"nieparametryczna ANOVA\")."
   ]
  },
  {
   "cell_type": "code",
   "execution_count": 18,
   "metadata": {},
   "outputs": [
    {
     "data": {
      "text/html": [
       "<div>\n",
       "<style scoped>\n",
       "    .dataframe tbody tr th:only-of-type {\n",
       "        vertical-align: middle;\n",
       "    }\n",
       "\n",
       "    .dataframe tbody tr th {\n",
       "        vertical-align: top;\n",
       "    }\n",
       "\n",
       "    .dataframe thead th {\n",
       "        text-align: right;\n",
       "    }\n",
       "</style>\n",
       "<table border=\"1\" class=\"dataframe\">\n",
       "  <thead>\n",
       "    <tr style=\"text-align: right;\">\n",
       "      <th></th>\n",
       "      <th>participant</th>\n",
       "      <th>condition</th>\n",
       "      <th>sent_judg</th>\n",
       "    </tr>\n",
       "  </thead>\n",
       "  <tbody>\n",
       "    <tr>\n",
       "      <th>0</th>\n",
       "      <td>1</td>\n",
       "      <td>universal</td>\n",
       "      <td>3</td>\n",
       "    </tr>\n",
       "    <tr>\n",
       "      <th>1</th>\n",
       "      <td>2</td>\n",
       "      <td>existential</td>\n",
       "      <td>7</td>\n",
       "    </tr>\n",
       "    <tr>\n",
       "      <th>2</th>\n",
       "      <td>3</td>\n",
       "      <td>no-quantifier</td>\n",
       "      <td>5</td>\n",
       "    </tr>\n",
       "    <tr>\n",
       "      <th>3</th>\n",
       "      <td>4</td>\n",
       "      <td>universal</td>\n",
       "      <td>3</td>\n",
       "    </tr>\n",
       "    <tr>\n",
       "      <th>4</th>\n",
       "      <td>5</td>\n",
       "      <td>existential</td>\n",
       "      <td>6</td>\n",
       "    </tr>\n",
       "    <tr>\n",
       "      <th>5</th>\n",
       "      <td>6</td>\n",
       "      <td>no-quantifier</td>\n",
       "      <td>4</td>\n",
       "    </tr>\n",
       "  </tbody>\n",
       "</table>\n",
       "</div>"
      ],
      "text/plain": [
       "   participant      condition  sent_judg\n",
       "0            1      universal          3\n",
       "1            2    existential          7\n",
       "2            3  no-quantifier          5\n",
       "3            4      universal          3\n",
       "4            5    existential          6\n",
       "5            6  no-quantifier          4"
      ]
     },
     "execution_count": 18,
     "metadata": {},
     "output_type": "execute_result"
    }
   ],
   "source": [
    "data = pd.read_csv('elektrycznie_gitary.csv')\n",
    "data.head(6)"
   ]
  },
  {
   "cell_type": "markdown",
   "metadata": {},
   "source": [
    "Po wczytaniu danych musimy podzielić nasze dane na 3 warunki eksperymentalne oraz wydobyć z nich kolumnę, w której znajdują się oceny zdań."
   ]
  },
  {
   "cell_type": "code",
   "execution_count": 19,
   "metadata": {},
   "outputs": [],
   "source": [
    "universal = data[data['condition'] == 'universal']['sent_judg']\n",
    "existential = data[data['condition'] == 'existential']['sent_judg']\n",
    "no_quantifier = data[data['condition'] == 'no-quantifier']['sent_judg']"
   ]
  },
  {
   "cell_type": "markdown",
   "metadata": {},
   "source": [
    "Zobaczmy jak wyglądają statystyki deskryptywne dla naszych trzech warunków:"
   ]
  },
  {
   "cell_type": "code",
   "execution_count": 20,
   "metadata": {},
   "outputs": [
    {
     "data": {
      "text/html": [
       "<div>\n",
       "<style scoped>\n",
       "    .dataframe tbody tr th:only-of-type {\n",
       "        vertical-align: middle;\n",
       "    }\n",
       "\n",
       "    .dataframe tbody tr th {\n",
       "        vertical-align: top;\n",
       "    }\n",
       "\n",
       "    .dataframe thead th {\n",
       "        text-align: right;\n",
       "    }\n",
       "</style>\n",
       "<table border=\"1\" class=\"dataframe\">\n",
       "  <thead>\n",
       "    <tr style=\"text-align: right;\">\n",
       "      <th></th>\n",
       "      <th>count</th>\n",
       "      <th>mean</th>\n",
       "      <th>std</th>\n",
       "      <th>min</th>\n",
       "      <th>25%</th>\n",
       "      <th>50%</th>\n",
       "      <th>75%</th>\n",
       "      <th>max</th>\n",
       "    </tr>\n",
       "    <tr>\n",
       "      <th>condition</th>\n",
       "      <th></th>\n",
       "      <th></th>\n",
       "      <th></th>\n",
       "      <th></th>\n",
       "      <th></th>\n",
       "      <th></th>\n",
       "      <th></th>\n",
       "      <th></th>\n",
       "    </tr>\n",
       "  </thead>\n",
       "  <tbody>\n",
       "    <tr>\n",
       "      <th>existential</th>\n",
       "      <td>40.0</td>\n",
       "      <td>6.075</td>\n",
       "      <td>1.118321</td>\n",
       "      <td>3.0</td>\n",
       "      <td>6.00</td>\n",
       "      <td>6.0</td>\n",
       "      <td>7.00</td>\n",
       "      <td>7.0</td>\n",
       "    </tr>\n",
       "    <tr>\n",
       "      <th>no-quantifier</th>\n",
       "      <td>40.0</td>\n",
       "      <td>4.475</td>\n",
       "      <td>1.240089</td>\n",
       "      <td>2.0</td>\n",
       "      <td>3.75</td>\n",
       "      <td>4.5</td>\n",
       "      <td>6.00</td>\n",
       "      <td>6.0</td>\n",
       "    </tr>\n",
       "    <tr>\n",
       "      <th>universal</th>\n",
       "      <td>40.0</td>\n",
       "      <td>1.950</td>\n",
       "      <td>1.060962</td>\n",
       "      <td>1.0</td>\n",
       "      <td>1.00</td>\n",
       "      <td>2.0</td>\n",
       "      <td>2.25</td>\n",
       "      <td>5.0</td>\n",
       "    </tr>\n",
       "  </tbody>\n",
       "</table>\n",
       "</div>"
      ],
      "text/plain": [
       "               count   mean       std  min   25%  50%   75%  max\n",
       "condition                                                       \n",
       "existential     40.0  6.075  1.118321  3.0  6.00  6.0  7.00  7.0\n",
       "no-quantifier   40.0  4.475  1.240089  2.0  3.75  4.5  6.00  6.0\n",
       "universal       40.0  1.950  1.060962  1.0  1.00  2.0  2.25  5.0"
      ]
     },
     "execution_count": 20,
     "metadata": {},
     "output_type": "execute_result"
    }
   ],
   "source": [
    "data.groupby('condition')['sent_judg'].describe()"
   ]
  },
  {
   "cell_type": "markdown",
   "metadata": {},
   "source": [
    "Widzimy, że oceny zdań bez kwantyfikatora znajdują się mniej-więcej pomiędzy tymi z kwantyfikatorem egzystencjalnym oraz kwantyfikatorem uniwersalnym. Przetestujmy, czy różnice te są statystycznie istotne za pomocą testu Kruskala-Wallisa (nieparametryczny odpowiednik analizy wariancji). Możemy to zrobić za pomocą funkcji `kruskal` z modułu `scipy.stats`. Jako argumenty przyjmuje ona $n$ list (lub obiektów listo-podobnych) i zwraca dwie wartości - statystykę testową oraz p-wartość."
   ]
  },
  {
   "cell_type": "code",
   "execution_count": 21,
   "metadata": {},
   "outputs": [
    {
     "name": "stdout",
     "output_type": "stream",
     "text": [
      "Statystyka testowa H:  81.86698909549435\n",
      "Wartość p:  1.6703565825911476e-18\n"
     ]
    }
   ],
   "source": [
    "h, p = stats.kruskal(universal, existential, no_quantifier)\n",
    "print('Statystyka testowa H: ', h)\n",
    "print('Wartość p: ', p)"
   ]
  },
  {
   "cell_type": "markdown",
   "metadata": {},
   "source": [
    "Test Kruskala-Wallisa dał statystycznie istotny wynik. To samo możemy osiągnąć posługując się funkcją `kruskal` z pakietu `pingouin`. Jedyna różnica to fakt, że wyniki są przyjemnie dla oka sformatowane. Jako `dv` przekazujemy nazwę kolumny ze zmienną zależną, jako `between` nazwę kolumny ze zmienną niezależną."
   ]
  },
  {
   "cell_type": "code",
   "execution_count": 22,
   "metadata": {},
   "outputs": [
    {
     "data": {
      "text/html": [
       "<div>\n",
       "<style scoped>\n",
       "    .dataframe tbody tr th:only-of-type {\n",
       "        vertical-align: middle;\n",
       "    }\n",
       "\n",
       "    .dataframe tbody tr th {\n",
       "        vertical-align: top;\n",
       "    }\n",
       "\n",
       "    .dataframe thead th {\n",
       "        text-align: right;\n",
       "    }\n",
       "</style>\n",
       "<table border=\"1\" class=\"dataframe\">\n",
       "  <thead>\n",
       "    <tr style=\"text-align: right;\">\n",
       "      <th></th>\n",
       "      <th>Source</th>\n",
       "      <th>ddof1</th>\n",
       "      <th>H</th>\n",
       "      <th>p-unc</th>\n",
       "    </tr>\n",
       "  </thead>\n",
       "  <tbody>\n",
       "    <tr>\n",
       "      <th>Kruskal</th>\n",
       "      <td>condition</td>\n",
       "      <td>2</td>\n",
       "      <td>81.867</td>\n",
       "      <td>1.670357e-18</td>\n",
       "    </tr>\n",
       "  </tbody>\n",
       "</table>\n",
       "</div>"
      ],
      "text/plain": [
       "            Source  ddof1       H         p-unc\n",
       "Kruskal  condition      2  81.867  1.670357e-18"
      ]
     },
     "execution_count": 22,
     "metadata": {},
     "output_type": "execute_result"
    }
   ],
   "source": [
    "pg.kruskal(dv = 'sent_judg', between = 'condition', detailed = True, data = data)"
   ]
  },
  {
   "cell_type": "markdown",
   "metadata": {},
   "source": [
    "Potrzebujemy jeszcze wykonać test *post-hoc*, który powie nam, które warunki eksperymentalne różnią się od których w statystycznie istotny sposób. Jako test *post-hoc* wykonamy porównanie parami wyników w naszych warunkach eksperymentalnych. Najładniejsze *output* generuje funkcja `pairwise_ttests` z pakietu `pingouin`. Aby skorzystać z tej funkcji musimy przekazać nam ramkę danych z danymi (argument `data`), nazwę kolumny ze zmienną zależną (argument `dv`) oraz nazwę kolumny ze zmienną grupującą (argument `between`). Dodatkowo możemy od razu zastosować poprawkę na wielokrotne testowanie - ja wybrałem standardową poprawkę Bonferroniego. "
   ]
  },
  {
   "cell_type": "code",
   "execution_count": 23,
   "metadata": {},
   "outputs": [
    {
     "data": {
      "text/html": [
       "<div>\n",
       "<style scoped>\n",
       "    .dataframe tbody tr th:only-of-type {\n",
       "        vertical-align: middle;\n",
       "    }\n",
       "\n",
       "    .dataframe tbody tr th {\n",
       "        vertical-align: top;\n",
       "    }\n",
       "\n",
       "    .dataframe thead th {\n",
       "        text-align: right;\n",
       "    }\n",
       "</style>\n",
       "<table border=\"1\" class=\"dataframe\">\n",
       "  <thead>\n",
       "    <tr style=\"text-align: right;\">\n",
       "      <th></th>\n",
       "      <th>Contrast</th>\n",
       "      <th>A</th>\n",
       "      <th>B</th>\n",
       "      <th>Paired</th>\n",
       "      <th>T</th>\n",
       "      <th>tail</th>\n",
       "      <th>p-unc</th>\n",
       "      <th>p-corr</th>\n",
       "      <th>p-adjust</th>\n",
       "      <th>BF10</th>\n",
       "      <th>efsize</th>\n",
       "      <th>eftype</th>\n",
       "    </tr>\n",
       "  </thead>\n",
       "  <tbody>\n",
       "    <tr>\n",
       "      <th>0</th>\n",
       "      <td>condition</td>\n",
       "      <td>universal</td>\n",
       "      <td>existential</td>\n",
       "      <td>False</td>\n",
       "      <td>-16.924</td>\n",
       "      <td>two-sided</td>\n",
       "      <td>7.840350e-28</td>\n",
       "      <td>2.352105e-27</td>\n",
       "      <td>bonferroni</td>\n",
       "      <td>2.427394e+24</td>\n",
       "      <td>-3.747833</td>\n",
       "      <td>hedges</td>\n",
       "    </tr>\n",
       "    <tr>\n",
       "      <th>1</th>\n",
       "      <td>condition</td>\n",
       "      <td>universal</td>\n",
       "      <td>no-quantifier</td>\n",
       "      <td>False</td>\n",
       "      <td>-9.785</td>\n",
       "      <td>two-sided</td>\n",
       "      <td>3.267767e-15</td>\n",
       "      <td>9.803300e-15</td>\n",
       "      <td>bonferroni</td>\n",
       "      <td>1.355837e+12</td>\n",
       "      <td>-2.166923</td>\n",
       "      <td>hedges</td>\n",
       "    </tr>\n",
       "    <tr>\n",
       "      <th>2</th>\n",
       "      <td>condition</td>\n",
       "      <td>existential</td>\n",
       "      <td>no-quantifier</td>\n",
       "      <td>False</td>\n",
       "      <td>6.060</td>\n",
       "      <td>two-sided</td>\n",
       "      <td>4.532599e-08</td>\n",
       "      <td>1.359780e-07</td>\n",
       "      <td>bonferroni</td>\n",
       "      <td>2.363720e+05</td>\n",
       "      <td>1.341971</td>\n",
       "      <td>hedges</td>\n",
       "    </tr>\n",
       "  </tbody>\n",
       "</table>\n",
       "</div>"
      ],
      "text/plain": [
       "    Contrast            A              B  Paired       T       tail  \\\n",
       "0  condition    universal    existential   False -16.924  two-sided   \n",
       "1  condition    universal  no-quantifier   False  -9.785  two-sided   \n",
       "2  condition  existential  no-quantifier   False   6.060  two-sided   \n",
       "\n",
       "          p-unc        p-corr    p-adjust          BF10    efsize  eftype  \n",
       "0  7.840350e-28  2.352105e-27  bonferroni  2.427394e+24 -3.747833  hedges  \n",
       "1  3.267767e-15  9.803300e-15  bonferroni  1.355837e+12 -2.166923  hedges  \n",
       "2  4.532599e-08  1.359780e-07  bonferroni  2.363720e+05  1.341971  hedges  "
      ]
     },
     "execution_count": 23,
     "metadata": {},
     "output_type": "execute_result"
    }
   ],
   "source": [
    "pg.pairwise_ttests(dv = 'sent_judg', between='condition', data = data, padjust = 'bonferroni')"
   ]
  },
  {
   "cell_type": "markdown",
   "metadata": {},
   "source": [
    "Okazuje się, że we wszystkich trzech porównaniach otrzymaliśmy statystycznie istotny wynik!"
   ]
  },
  {
   "cell_type": "markdown",
   "metadata": {},
   "source": [
    "## Korelacja między zmiennymi"
   ]
  },
  {
   "cell_type": "markdown",
   "metadata": {},
   "source": [
    "Wróćmy do badania dotyczącego wpływu ryzyka pomyłki na akceptacje zdań przypisujących wiedzę. Jedną z hipotez wysuwanych w literaturze jest hipoteza stwierdzająca, że wpływ ten jest związany z wiekiem. Osoby starsze z natury są bardziej ostrożne, co skutkuje wstrzemięźliwością w przypisywaniu wiedzy. Badacze postanowili więc przedstawić badanym ($N=100$) krótką historyjkę: \n",
    "\n",
    "> Maria spytała Jacka: \"Jacku, czy wiesz która jest godzina?\". Jacek spojrzał na zegarek i odrzekł \"Mario, jest godzina 14:20\".\n",
    "\n",
    "> Jacek bardzo rzadko korzysta z zegarka i nie sprawdzał bardzo dawno czy się nie spieszy czy się nie spóźnia. Dodatkowo należy zauważyć, że patrzył na zegarek tylko pół sekundy i nie sprawdził wcześniej, czy nie ma go założonego odwrotnie.\n",
    "\n",
    "Następnie poprosili badanych o wyrażenie zgody (na 10-stopniowej skali Likerta) na zdanie:\n",
    "\n",
    "> Jacek wie, że jest godzina 14:20\n",
    "\n",
    "Badacze oczywiście zbierali podstawowe dane demograficzne, w tym wiek. Wyniki eksperymentu znajdują się w pliku `risk.csv`. Czy dane wspierają hipotezę o związku wieku i sposobu przypisywania wiedzy?"
   ]
  },
  {
   "cell_type": "markdown",
   "metadata": {},
   "source": [
    "### Przykład"
   ]
  },
  {
   "cell_type": "code",
   "execution_count": 25,
   "metadata": {},
   "outputs": [],
   "source": [
    "data = pd.read_csv('risk.csv')"
   ]
  },
  {
   "cell_type": "markdown",
   "metadata": {},
   "source": [
    "Zobaczmy jak wyglądają nasze dane. Nasza uwagę powinno zwrócić to, że mieliśmy uczestników nawet 11 letnich (!), a najstarszy uczestnik miał tylko 43 lata. Kwartyle sugerują, że, jeśli chodzi o wiek, mamy dość mały rozrzut obserwacji. Prawdopodobnie wyniki zbierane były głównie wśród studentów. Trudno. "
   ]
  },
  {
   "cell_type": "code",
   "execution_count": 26,
   "metadata": {},
   "outputs": [
    {
     "data": {
      "text/html": [
       "<div>\n",
       "<style scoped>\n",
       "    .dataframe tbody tr th:only-of-type {\n",
       "        vertical-align: middle;\n",
       "    }\n",
       "\n",
       "    .dataframe tbody tr th {\n",
       "        vertical-align: top;\n",
       "    }\n",
       "\n",
       "    .dataframe thead th {\n",
       "        text-align: right;\n",
       "    }\n",
       "</style>\n",
       "<table border=\"1\" class=\"dataframe\">\n",
       "  <thead>\n",
       "    <tr style=\"text-align: right;\">\n",
       "      <th></th>\n",
       "      <th>age</th>\n",
       "      <th>rating</th>\n",
       "    </tr>\n",
       "  </thead>\n",
       "  <tbody>\n",
       "    <tr>\n",
       "      <th>count</th>\n",
       "      <td>100.000000</td>\n",
       "      <td>100.000000</td>\n",
       "    </tr>\n",
       "    <tr>\n",
       "      <th>mean</th>\n",
       "      <td>26.330000</td>\n",
       "      <td>5.130000</td>\n",
       "    </tr>\n",
       "    <tr>\n",
       "      <th>std</th>\n",
       "      <td>7.473935</td>\n",
       "      <td>1.883769</td>\n",
       "    </tr>\n",
       "    <tr>\n",
       "      <th>min</th>\n",
       "      <td>11.000000</td>\n",
       "      <td>1.000000</td>\n",
       "    </tr>\n",
       "    <tr>\n",
       "      <th>25%</th>\n",
       "      <td>21.000000</td>\n",
       "      <td>4.000000</td>\n",
       "    </tr>\n",
       "    <tr>\n",
       "      <th>50%</th>\n",
       "      <td>27.000000</td>\n",
       "      <td>5.000000</td>\n",
       "    </tr>\n",
       "    <tr>\n",
       "      <th>75%</th>\n",
       "      <td>31.000000</td>\n",
       "      <td>6.000000</td>\n",
       "    </tr>\n",
       "    <tr>\n",
       "      <th>max</th>\n",
       "      <td>43.000000</td>\n",
       "      <td>10.000000</td>\n",
       "    </tr>\n",
       "  </tbody>\n",
       "</table>\n",
       "</div>"
      ],
      "text/plain": [
       "              age      rating\n",
       "count  100.000000  100.000000\n",
       "mean    26.330000    5.130000\n",
       "std      7.473935    1.883769\n",
       "min     11.000000    1.000000\n",
       "25%     21.000000    4.000000\n",
       "50%     27.000000    5.000000\n",
       "75%     31.000000    6.000000\n",
       "max     43.000000   10.000000"
      ]
     },
     "execution_count": 26,
     "metadata": {},
     "output_type": "execute_result"
    }
   ],
   "source": [
    "data[['age', 'rating']].describe()"
   ]
  },
  {
   "cell_type": "markdown",
   "metadata": {},
   "source": [
    "Chcielibyśmy obliczyć współczynnik korelacji między dwiema zmiennymi - wiekiem oraz zgodą na zdanie dotyczące wiedzy - oraz sprawdzić, czy korelacja ta jest statystycznie istotna. W tym celu możemy posłużyć się funkcją `pearsonr` z modułu `scipy.stats` (inne standardowe współczynniki korelacji są również dostępne). Przyjmuje ona dwie listy z wartościami, między którymi chcemy obliczyć korelację."
   ]
  },
  {
   "cell_type": "code",
   "execution_count": 27,
   "metadata": {},
   "outputs": [
    {
     "name": "stdout",
     "output_type": "stream",
     "text": [
      "Współczynnik korelacji r Pearsona:  0.35923126201089883\n",
      "Wartość p:  0.00024211240190663978\n"
     ]
    }
   ],
   "source": [
    "r, p = stats.pearsonr(data['age'], data['rating'])\n",
    "print('Współczynnik korelacji r Pearsona: ', r)\n",
    "print('Wartość p: ', p)"
   ]
  },
  {
   "cell_type": "markdown",
   "metadata": {},
   "source": [
    "Widzimy, że korelacja jest statystycznie istotna. Odpowiednikiem funkcji `scipy.stats.pearsonr` w pakiecie `pingouin` jest funkcja `corr`. Pozwala ona (argument `method` obliczyć różne inne współczynniki korelacji. W tym wypadku obliczymy Tau Kendalla oraz r Spearmana."
   ]
  },
  {
   "cell_type": "code",
   "execution_count": 28,
   "metadata": {},
   "outputs": [
    {
     "data": {
      "text/html": [
       "<div>\n",
       "<style scoped>\n",
       "    .dataframe tbody tr th:only-of-type {\n",
       "        vertical-align: middle;\n",
       "    }\n",
       "\n",
       "    .dataframe tbody tr th {\n",
       "        vertical-align: top;\n",
       "    }\n",
       "\n",
       "    .dataframe thead th {\n",
       "        text-align: right;\n",
       "    }\n",
       "</style>\n",
       "<table border=\"1\" class=\"dataframe\">\n",
       "  <thead>\n",
       "    <tr style=\"text-align: right;\">\n",
       "      <th></th>\n",
       "      <th>n</th>\n",
       "      <th>r</th>\n",
       "      <th>CI95%</th>\n",
       "      <th>r2</th>\n",
       "      <th>adj_r2</th>\n",
       "      <th>p-val</th>\n",
       "      <th>power</th>\n",
       "    </tr>\n",
       "  </thead>\n",
       "  <tbody>\n",
       "    <tr>\n",
       "      <th>kendall</th>\n",
       "      <td>100</td>\n",
       "      <td>0.287</td>\n",
       "      <td>[0.1, 0.46]</td>\n",
       "      <td>0.082</td>\n",
       "      <td>0.063</td>\n",
       "      <td>0.000099</td>\n",
       "      <td>0.831</td>\n",
       "    </tr>\n",
       "  </tbody>\n",
       "</table>\n",
       "</div>"
      ],
      "text/plain": [
       "           n      r        CI95%     r2  adj_r2     p-val  power\n",
       "kendall  100  0.287  [0.1, 0.46]  0.082   0.063  0.000099  0.831"
      ]
     },
     "execution_count": 28,
     "metadata": {},
     "output_type": "execute_result"
    }
   ],
   "source": [
    "pg.corr(data['age'], data['rating'], method = 'kendall')"
   ]
  },
  {
   "cell_type": "code",
   "execution_count": 29,
   "metadata": {},
   "outputs": [
    {
     "data": {
      "text/html": [
       "<div>\n",
       "<style scoped>\n",
       "    .dataframe tbody tr th:only-of-type {\n",
       "        vertical-align: middle;\n",
       "    }\n",
       "\n",
       "    .dataframe tbody tr th {\n",
       "        vertical-align: top;\n",
       "    }\n",
       "\n",
       "    .dataframe thead th {\n",
       "        text-align: right;\n",
       "    }\n",
       "</style>\n",
       "<table border=\"1\" class=\"dataframe\">\n",
       "  <thead>\n",
       "    <tr style=\"text-align: right;\">\n",
       "      <th></th>\n",
       "      <th>n</th>\n",
       "      <th>r</th>\n",
       "      <th>CI95%</th>\n",
       "      <th>r2</th>\n",
       "      <th>adj_r2</th>\n",
       "      <th>p-val</th>\n",
       "      <th>BF10</th>\n",
       "      <th>power</th>\n",
       "    </tr>\n",
       "  </thead>\n",
       "  <tbody>\n",
       "    <tr>\n",
       "      <th>pearson</th>\n",
       "      <td>100</td>\n",
       "      <td>0.359</td>\n",
       "      <td>[0.18, 0.52]</td>\n",
       "      <td>0.129</td>\n",
       "      <td>0.111</td>\n",
       "      <td>0.000242</td>\n",
       "      <td>64.716</td>\n",
       "      <td>0.961</td>\n",
       "    </tr>\n",
       "  </tbody>\n",
       "</table>\n",
       "</div>"
      ],
      "text/plain": [
       "           n      r         CI95%     r2  adj_r2     p-val    BF10  power\n",
       "pearson  100  0.359  [0.18, 0.52]  0.129   0.111  0.000242  64.716  0.961"
      ]
     },
     "execution_count": 29,
     "metadata": {},
     "output_type": "execute_result"
    }
   ],
   "source": [
    "pg.corr(data['age'], data['rating'], method = 'pearson')"
   ]
  },
  {
   "cell_type": "code",
   "execution_count": 30,
   "metadata": {},
   "outputs": [
    {
     "data": {
      "text/html": [
       "<div>\n",
       "<style scoped>\n",
       "    .dataframe tbody tr th:only-of-type {\n",
       "        vertical-align: middle;\n",
       "    }\n",
       "\n",
       "    .dataframe tbody tr th {\n",
       "        vertical-align: top;\n",
       "    }\n",
       "\n",
       "    .dataframe thead th {\n",
       "        text-align: right;\n",
       "    }\n",
       "</style>\n",
       "<table border=\"1\" class=\"dataframe\">\n",
       "  <thead>\n",
       "    <tr style=\"text-align: right;\">\n",
       "      <th></th>\n",
       "      <th>n</th>\n",
       "      <th>r</th>\n",
       "      <th>CI95%</th>\n",
       "      <th>r2</th>\n",
       "      <th>adj_r2</th>\n",
       "      <th>p-val</th>\n",
       "      <th>power</th>\n",
       "    </tr>\n",
       "  </thead>\n",
       "  <tbody>\n",
       "    <tr>\n",
       "      <th>spearman</th>\n",
       "      <td>100</td>\n",
       "      <td>0.383</td>\n",
       "      <td>[0.2, 0.54]</td>\n",
       "      <td>0.147</td>\n",
       "      <td>0.129</td>\n",
       "      <td>0.000083</td>\n",
       "      <td>0.979</td>\n",
       "    </tr>\n",
       "  </tbody>\n",
       "</table>\n",
       "</div>"
      ],
      "text/plain": [
       "            n      r        CI95%     r2  adj_r2     p-val  power\n",
       "spearman  100  0.383  [0.2, 0.54]  0.147   0.129  0.000083  0.979"
      ]
     },
     "execution_count": 30,
     "metadata": {},
     "output_type": "execute_result"
    }
   ],
   "source": [
    "pg.corr(data['age'], data['rating'], method = 'spearman')"
   ]
  }
 ],
 "metadata": {
  "kernelspec": {
   "display_name": "Python 3",
   "language": "python",
   "name": "python3"
  },
  "language_info": {
   "codemirror_mode": {
    "name": "ipython",
    "version": 3
   },
   "file_extension": ".py",
   "mimetype": "text/x-python",
   "name": "python",
   "nbconvert_exporter": "python",
   "pygments_lexer": "ipython3",
   "version": "3.7.2"
  }
 },
 "nbformat": 4,
 "nbformat_minor": 2
}
