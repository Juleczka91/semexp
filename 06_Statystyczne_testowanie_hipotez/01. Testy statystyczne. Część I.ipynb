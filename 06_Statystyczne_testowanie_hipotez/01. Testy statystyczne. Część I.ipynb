{
 "cells": [
  {
   "cell_type": "markdown",
   "metadata": {},
   "source": [
    "# Testy statystyczne. Część I"
   ]
  },
  {
   "cell_type": "code",
   "execution_count": 16,
   "metadata": {},
   "outputs": [],
   "source": [
    "import pandas as pd\n",
    "from pandas import DataFrame, Series\n",
    "import scipy.stats as stats\n",
    "import statsmodels.api as sm\n",
    "import statsmodels.formula.api as smf\n",
    "import pingouin as pg\n",
    "from pprint import pprint"
   ]
  },
  {
   "cell_type": "markdown",
   "metadata": {},
   "source": [
    "## Test dwumianowy"
   ]
  },
  {
   "cell_type": "markdown",
   "metadata": {},
   "source": [
    "### Przykład\n",
    "\n",
    "Badacze przeprowadzili eksperyment, w którym prezentowali uczestnikom badania dwuznaczne zdanie \"Wyprzedził autobus samochód\". Zdanie to ma dwie możliwe interpretacje - a) \"Autobus został wyprzedzony przez samochód\" oraz b) \"Samochód został wyprzedzony przez autobus\". Hipoteza badawcza głosiła, że ze względu na szyk wyrazów w zdaniu to \"autobus\" będzie interpretowany jako podmiot zdania, wobec czego preferowaną interpretacją bęðzie interpretacja b). Aby sprawdzić tę hipotezę prezentowali 40 badanym dwuznaczne zdania i prosili o wskazanie, która interpretacja wydaje im się bardziej naturalna. Wyniki eksperymentu znajdują się w pliku `autobus.csv`. Naszym zadaniem jest sprawdzić, czy badani wybierali interpretację zakładaną przez badaczy częściej, niż gdyby wybierali losowo."
   ]
  },
  {
   "cell_type": "code",
   "execution_count": 5,
   "metadata": {},
   "outputs": [
    {
     "data": {
      "text/html": [
       "<div>\n",
       "<style scoped>\n",
       "    .dataframe tbody tr th:only-of-type {\n",
       "        vertical-align: middle;\n",
       "    }\n",
       "\n",
       "    .dataframe tbody tr th {\n",
       "        vertical-align: top;\n",
       "    }\n",
       "\n",
       "    .dataframe thead th {\n",
       "        text-align: right;\n",
       "    }\n",
       "</style>\n",
       "<table border=\"1\" class=\"dataframe\">\n",
       "  <thead>\n",
       "    <tr style=\"text-align: right;\">\n",
       "      <th></th>\n",
       "      <th>participant</th>\n",
       "      <th>interpretation</th>\n",
       "    </tr>\n",
       "  </thead>\n",
       "  <tbody>\n",
       "    <tr>\n",
       "      <th>0</th>\n",
       "      <td>1</td>\n",
       "      <td>A</td>\n",
       "    </tr>\n",
       "    <tr>\n",
       "      <th>1</th>\n",
       "      <td>2</td>\n",
       "      <td>B</td>\n",
       "    </tr>\n",
       "    <tr>\n",
       "      <th>2</th>\n",
       "      <td>3</td>\n",
       "      <td>A</td>\n",
       "    </tr>\n",
       "    <tr>\n",
       "      <th>3</th>\n",
       "      <td>4</td>\n",
       "      <td>B</td>\n",
       "    </tr>\n",
       "    <tr>\n",
       "      <th>4</th>\n",
       "      <td>5</td>\n",
       "      <td>B</td>\n",
       "    </tr>\n",
       "  </tbody>\n",
       "</table>\n",
       "</div>"
      ],
      "text/plain": [
       "   participant interpretation\n",
       "0            1              A\n",
       "1            2              B\n",
       "2            3              A\n",
       "3            4              B\n",
       "4            5              B"
      ]
     },
     "execution_count": 5,
     "metadata": {},
     "output_type": "execute_result"
    }
   ],
   "source": [
    "data = pd.read_csv('autobus.csv')\n",
    "data.head()"
   ]
  },
  {
   "cell_type": "markdown",
   "metadata": {},
   "source": [
    "Aby sprawdzić naszą hipotezę używają testu dwumianowego, potrzebujemy najpierw zliczyć wszystkie wystąpienia interpretacji A oraz B. Posłużymy się tutaj metodą `value_counts`"
   ]
  },
  {
   "cell_type": "code",
   "execution_count": 8,
   "metadata": {},
   "outputs": [
    {
     "data": {
      "text/plain": [
       "B    26\n",
       "A    14\n",
       "Name: interpretation, dtype: int64"
      ]
     },
     "execution_count": 8,
     "metadata": {},
     "output_type": "execute_result"
    }
   ],
   "source": [
    "counts = data['interpretation'].value_counts()\n",
    "counts"
   ]
  },
  {
   "cell_type": "markdown",
   "metadata": {},
   "source": [
    "Teraz, kiedy mamy już zliczenia, możemy przeprowadzić odpowiedni test statystyczny, posługując się metodą `binom_test` z modułu `scipy.stats`. Funkcja ta zwraca wartość $p$ dla testu. Argument `p` służy do przekazania, jakie prawdopodobieństwo sukcesu zakłada hipoteza zerowa. W naszym przypadku jest to $0.5$."
   ]
  },
  {
   "cell_type": "code",
   "execution_count": 9,
   "metadata": {},
   "outputs": [
    {
     "data": {
      "text/plain": [
       "0.08069046775199244"
      ]
     },
     "execution_count": 9,
     "metadata": {},
     "output_type": "execute_result"
    }
   ],
   "source": [
    "stats.binom_test(counts, p=0.5)"
   ]
  },
  {
   "cell_type": "markdown",
   "metadata": {},
   "source": [
    "Okazuje się, że przy poziomie istotności statystycznej $\\alpha = 0.05$ nie mamy podstaw, aby odrzucić hipotezę zerową i przyjąć hipotezę alternatywną.\n",
    "\n",
    "Uwaga! Funkcja ta przeprowadza test dwustronny. Dla chętnych i zainteresowanych - jak moglibyśmy przeprowadzić test jednostronny w Pythonie?"
   ]
  },
  {
   "cell_type": "markdown",
   "metadata": {},
   "source": [
    "## Test zgodności $\\chi^2$"
   ]
  },
  {
   "cell_type": "markdown",
   "metadata": {},
   "source": [
    "### Przykład\n",
    "\n",
    "Ci sami badacze postanowili przeprowadzić badania dotyczące interpretacji kwantyfikatorów w języku polskim w tzw. \"donkey sentences\" (oślich zdaniach). Ich zdaniem w przypadku zdań w rodzaju \"Każdy farmer, który ma osła, bije go\" możliwe są trzy interpretacje:\n",
    "* A: \n",
    "* B:\n",
    "* C:\n",
    "\n",
    "Hipoteza badaczy głosiła, że nie ma jednej preferowanej interpretacji tego rodzaju zdań. Zamiast tego, uważali naukowcy, w populacji kompetentnych użytkowników języka polskiego istnieje 1/3 osób, które ośle zdania interpretują na sposób A, 1/3, które interpretują na sposób B oraz 1/3, które interpretują je jako C. Badacze przeprowadzili eksperyment, w którym okazało się, że faktycznie sposób interpretacji jest kwestią osobniczą - badani byli bardzo spójni w swoich interpretacjach. Do przetestowania pozostał tylko rozkład różnych sposobów interpretacji w populacji. Musimy sprawdzić, czy dane wspierają hipotezę, zgodnie z którą warianty A, B oraz C rozkładają się po równo. Wyniki eksperymentu przeprowadzonego na 70 osobach znajdują się w pliku `osly.csv`."
   ]
  },
  {
   "cell_type": "code",
   "execution_count": 25,
   "metadata": {},
   "outputs": [
    {
     "data": {
      "text/html": [
       "<div>\n",
       "<style scoped>\n",
       "    .dataframe tbody tr th:only-of-type {\n",
       "        vertical-align: middle;\n",
       "    }\n",
       "\n",
       "    .dataframe tbody tr th {\n",
       "        vertical-align: top;\n",
       "    }\n",
       "\n",
       "    .dataframe thead th {\n",
       "        text-align: right;\n",
       "    }\n",
       "</style>\n",
       "<table border=\"1\" class=\"dataframe\">\n",
       "  <thead>\n",
       "    <tr style=\"text-align: right;\">\n",
       "      <th></th>\n",
       "      <th>participant</th>\n",
       "      <th>donkey_interp</th>\n",
       "    </tr>\n",
       "  </thead>\n",
       "  <tbody>\n",
       "    <tr>\n",
       "      <th>0</th>\n",
       "      <td>1</td>\n",
       "      <td>A</td>\n",
       "    </tr>\n",
       "    <tr>\n",
       "      <th>1</th>\n",
       "      <td>2</td>\n",
       "      <td>A</td>\n",
       "    </tr>\n",
       "    <tr>\n",
       "      <th>2</th>\n",
       "      <td>3</td>\n",
       "      <td>B</td>\n",
       "    </tr>\n",
       "    <tr>\n",
       "      <th>3</th>\n",
       "      <td>4</td>\n",
       "      <td>A</td>\n",
       "    </tr>\n",
       "    <tr>\n",
       "      <th>4</th>\n",
       "      <td>5</td>\n",
       "      <td>B</td>\n",
       "    </tr>\n",
       "    <tr>\n",
       "      <th>5</th>\n",
       "      <td>6</td>\n",
       "      <td>C</td>\n",
       "    </tr>\n",
       "    <tr>\n",
       "      <th>6</th>\n",
       "      <td>7</td>\n",
       "      <td>C</td>\n",
       "    </tr>\n",
       "    <tr>\n",
       "      <th>7</th>\n",
       "      <td>8</td>\n",
       "      <td>A</td>\n",
       "    </tr>\n",
       "  </tbody>\n",
       "</table>\n",
       "</div>"
      ],
      "text/plain": [
       "   participant donkey_interp\n",
       "0            1             A\n",
       "1            2             A\n",
       "2            3             B\n",
       "3            4             A\n",
       "4            5             B\n",
       "5            6             C\n",
       "6            7             C\n",
       "7            8             A"
      ]
     },
     "execution_count": 25,
     "metadata": {},
     "output_type": "execute_result"
    }
   ],
   "source": [
    "data = pd.read_csv('osly.csv')\n",
    "data.head(8)"
   ]
  },
  {
   "cell_type": "markdown",
   "metadata": {},
   "source": [
    "Podobnie jak w poprzednim przypadku do sprawdzenia hipotezy musimy najpierw obliczyć jak dużo mamy obserwacji, w których badani interpretowali ośle zdania w określony sposób. Znów posłużymy się metodą `value_counts`. "
   ]
  },
  {
   "cell_type": "code",
   "execution_count": 32,
   "metadata": {},
   "outputs": [
    {
     "data": {
      "text/plain": [
       "C    25\n",
       "B    25\n",
       "A    20\n",
       "Name: donkey_interp, dtype: int64"
      ]
     },
     "execution_count": 32,
     "metadata": {},
     "output_type": "execute_result"
    }
   ],
   "source": [
    "counts = data['donkey_interp'].value_counts()\n",
    "counts"
   ]
  },
  {
   "cell_type": "markdown",
   "metadata": {},
   "source": [
    "Test zgodności $\\chi^2$ możemy przeprowadzić za pomocą funkcji `chisqare` z modułu `scipy.stats`. Funkcja ta przyjmuje dwa argumenty - jednym z nich są zliczenia, drugim oczekiwane wartości. W naszym wypadku (mamy 70 obserwacji) oczekujemy, że w każdej kategorii (A, B oraz C) będziemy mieli 70/3 zliczeń."
   ]
  },
  {
   "cell_type": "code",
   "execution_count": 31,
   "metadata": {},
   "outputs": [
    {
     "name": "stdout",
     "output_type": "stream",
     "text": [
      "Statystyka testowa chi2:  0.7142857142857143\n",
      "Wartość p:  0.6996725373751302\n"
     ]
    }
   ],
   "source": [
    "chi2, p = stats.chisquare(counts,\n",
    "                          [70/3, 70/3, 70/3])\n",
    "print('Statystyka testowa chi2: ', chi2)\n",
    "print('Wartość p: ', p)"
   ]
  },
  {
   "cell_type": "markdown",
   "metadata": {},
   "source": [
    "Okazuje się, że na podstawie testu zgodności $\\chi^2$ nie możemy odrzucić hipotezy zerowej. Do pewnego stopnia wspiera to hipotezy badaczy (ale należy pamiętać, że brak odrzucenia hipotezy zerowej nie oznacza jej potwierdzenia!)"
   ]
  },
  {
   "cell_type": "markdown",
   "metadata": {},
   "source": [
    "## Test niezależności $\\chi^2$"
   ]
  },
  {
   "cell_type": "markdown",
   "metadata": {},
   "source": [
    "### Przykład\n",
    "\n",
    "Badacze postanowili kontynuować swoje dociekania nad interpretacją dwuznacznych zdań w języku polskim z pierwszego przykładu. Uznali, że skoro według ich hipotezy badawczej wpływ na preferencje interpretacyjne takich zdań ma kolejność słów w zdaniu, to należy podzielić badanych na dwie grupy. Jedna z nich ($N=50$) (grupa A-S) otrzymywała do oceny zdanie \"Wyprzedził autobus samochód\", druga zaś ($N=45$) zdanie \"Wyprzedził samochód autobus\" (grupa S-A). Zadanie eksperymentalne było identyczne - badani musieli zdecydować, która interpretacja wydaje im się bardziej naturalna. Skoro hipoteza badawcza głosi więc, że kolejność słów w zdaniu ma znaczenie dla preferencji interpretacyjnej, to hipoteza zerowa głosić będzie, że te dwie zmienne są niezależne. Wyniki eksperymentu znajdują się w pliku `autobus2.csv`. Naszym zadaniem jest sprawdzić, czy dane wspierają hipotezę postawioną przez badaczy."
   ]
  },
  {
   "cell_type": "code",
   "execution_count": 11,
   "metadata": {},
   "outputs": [
    {
     "data": {
      "text/html": [
       "<div>\n",
       "<style scoped>\n",
       "    .dataframe tbody tr th:only-of-type {\n",
       "        vertical-align: middle;\n",
       "    }\n",
       "\n",
       "    .dataframe tbody tr th {\n",
       "        vertical-align: top;\n",
       "    }\n",
       "\n",
       "    .dataframe thead th {\n",
       "        text-align: right;\n",
       "    }\n",
       "</style>\n",
       "<table border=\"1\" class=\"dataframe\">\n",
       "  <thead>\n",
       "    <tr style=\"text-align: right;\">\n",
       "      <th></th>\n",
       "      <th>participant</th>\n",
       "      <th>condition</th>\n",
       "      <th>interpretation</th>\n",
       "    </tr>\n",
       "  </thead>\n",
       "  <tbody>\n",
       "    <tr>\n",
       "      <th>0</th>\n",
       "      <td>1</td>\n",
       "      <td>A-S</td>\n",
       "      <td>B</td>\n",
       "    </tr>\n",
       "    <tr>\n",
       "      <th>1</th>\n",
       "      <td>2</td>\n",
       "      <td>A-S</td>\n",
       "      <td>B</td>\n",
       "    </tr>\n",
       "    <tr>\n",
       "      <th>2</th>\n",
       "      <td>3</td>\n",
       "      <td>A-S</td>\n",
       "      <td>B</td>\n",
       "    </tr>\n",
       "    <tr>\n",
       "      <th>3</th>\n",
       "      <td>4</td>\n",
       "      <td>A-S</td>\n",
       "      <td>A</td>\n",
       "    </tr>\n",
       "    <tr>\n",
       "      <th>4</th>\n",
       "      <td>5</td>\n",
       "      <td>A-S</td>\n",
       "      <td>B</td>\n",
       "    </tr>\n",
       "  </tbody>\n",
       "</table>\n",
       "</div>"
      ],
      "text/plain": [
       "   participant condition interpretation\n",
       "0            1       A-S              B\n",
       "1            2       A-S              B\n",
       "2            3       A-S              B\n",
       "3            4       A-S              A\n",
       "4            5       A-S              B"
      ]
     },
     "execution_count": 11,
     "metadata": {},
     "output_type": "execute_result"
    }
   ],
   "source": [
    "data = pd.read_csv('autobus2.csv')\n",
    "data.head()"
   ]
  },
  {
   "cell_type": "markdown",
   "metadata": {},
   "source": [
    "Do przeprowadzenia testu niezależności $\\chi^2$ potrzebujemy wykonać tabelę krzyżową. Całe szczęście z pomocą przychodzi nam funkcja `crosstab` z pakietu `pandas`. Dzięki niej łatwo możemy zobaczyć rozkład odpowiedzi badanych w obu warunkach eksperymentalnych:"
   ]
  },
  {
   "cell_type": "code",
   "execution_count": 14,
   "metadata": {},
   "outputs": [
    {
     "data": {
      "text/html": [
       "<div>\n",
       "<style scoped>\n",
       "    .dataframe tbody tr th:only-of-type {\n",
       "        vertical-align: middle;\n",
       "    }\n",
       "\n",
       "    .dataframe tbody tr th {\n",
       "        vertical-align: top;\n",
       "    }\n",
       "\n",
       "    .dataframe thead th {\n",
       "        text-align: right;\n",
       "    }\n",
       "</style>\n",
       "<table border=\"1\" class=\"dataframe\">\n",
       "  <thead>\n",
       "    <tr style=\"text-align: right;\">\n",
       "      <th>condition</th>\n",
       "      <th>A-S</th>\n",
       "      <th>S-A</th>\n",
       "    </tr>\n",
       "    <tr>\n",
       "      <th>interpretation</th>\n",
       "      <th></th>\n",
       "      <th></th>\n",
       "    </tr>\n",
       "  </thead>\n",
       "  <tbody>\n",
       "    <tr>\n",
       "      <th>A</th>\n",
       "      <td>18</td>\n",
       "      <td>31</td>\n",
       "    </tr>\n",
       "    <tr>\n",
       "      <th>B</th>\n",
       "      <td>32</td>\n",
       "      <td>14</td>\n",
       "    </tr>\n",
       "  </tbody>\n",
       "</table>\n",
       "</div>"
      ],
      "text/plain": [
       "condition       A-S  S-A\n",
       "interpretation          \n",
       "A                18   31\n",
       "B                32   14"
      ]
     },
     "execution_count": 14,
     "metadata": {},
     "output_type": "execute_result"
    }
   ],
   "source": [
    "xtable = pd.crosstab(data['interpretation'], data['condition'])\n",
    "xtable"
   ]
  },
  {
   "cell_type": "markdown",
   "metadata": {},
   "source": [
    "Następnie za pomocą funkcji `chi2_contingency` z modułu `scipy.stats` przeprowadzimy test niezależności $\\chi^2$. Funkcja ta przyjmuje tabelę z danymi RXC (może to być ramka danych, może to również być obiekt klasy `np.array`). Jako rezultat zwraca 4 wartości - wartość statystyki testowej, wartość p, liczbę stopni swobody oraz tablicę z wartościami oczekiwanymi użytymi do kalkulacji."
   ]
  },
  {
   "cell_type": "code",
   "execution_count": 22,
   "metadata": {},
   "outputs": [
    {
     "name": "stdout",
     "output_type": "stream",
     "text": [
      "Statystyka testowa chi2:  8.983110273094749\n",
      "Wartość p:  0.0027248644001806313\n",
      "Liczba stopni swobody:  1\n",
      "Wartości oczekiwane: \n",
      " [[25.78947368 23.21052632]\n",
      " [24.21052632 21.78947368]]\n"
     ]
    }
   ],
   "source": [
    "chi2, p, dof, expected = stats.chi2_contingency(xtable)\n",
    "print('Statystyka testowa chi2: ', chi2)\n",
    "print('Wartość p: ', p)\n",
    "print('Liczba stopni swobody: ', dof)\n",
    "print('Wartości oczekiwane: \\n', expected)"
   ]
  },
  {
   "cell_type": "markdown",
   "metadata": {},
   "source": [
    "## Test t Studenta dla jednej próby"
   ]
  },
  {
   "cell_type": "markdown",
   "metadata": {},
   "source": [
    "### Przykład\n",
    "\n",
    "Grupa badaczy testowała interpretację konstrukcji \"jeżeli.. to...\" w języku naturalnym. Hipoteza badawcza głosiła, że jeżeli następnik znajduje się jako ostatni w zdaniu, to kompetentni użytkownicy języka interpretują taką konstrukcję jako implikację materialną, jeżeli zaś jako pierwszy, to nadają takiemu zdaniu silniejszą interpretację i między poprzednikiem a następnikiem musi zachodzić relacja wynikania. W celu sprawdzenia swojej hipotezy badacze przedstawili uczestnikom ($N=126$) 2 zdania i prosili o ocenę ich akceptowalności na 9-stopniowej skali Likerta:\n",
    "* LAST: Jeżeli Warszawa jest stolicą Węgier, to Księżyc jest z sera.\n",
    "* FIST: Księżyc jest z sera, jeżeli Warszawa jest stolicą Węgier.\n",
    "\n",
    "Hipoteza badawcza głosiła, że zdanie LAST będzie nieakceptowalne dla badanych (średnia poniżej 5) podczas gdy zdanie FIST będzie akceptowalne (średnia powyżej 5). Wyniki eksperymentu znajdują się w pliku `sentence_types.csv`. Naszym zadaniem jest zobaczenie, czy hipotezy badawcze są wsparte przez zebrane przez naukowców dane empiryczne. "
   ]
  },
  {
   "cell_type": "code",
   "execution_count": 117,
   "metadata": {},
   "outputs": [
    {
     "data": {
      "text/html": [
       "<div>\n",
       "<style scoped>\n",
       "    .dataframe tbody tr th:only-of-type {\n",
       "        vertical-align: middle;\n",
       "    }\n",
       "\n",
       "    .dataframe tbody tr th {\n",
       "        vertical-align: top;\n",
       "    }\n",
       "\n",
       "    .dataframe thead th {\n",
       "        text-align: right;\n",
       "    }\n",
       "</style>\n",
       "<table border=\"1\" class=\"dataframe\">\n",
       "  <thead>\n",
       "    <tr style=\"text-align: right;\">\n",
       "      <th></th>\n",
       "      <th>Unnamed: 0</th>\n",
       "      <th>participant</th>\n",
       "      <th>sentence_type</th>\n",
       "      <th>sentence_accept</th>\n",
       "    </tr>\n",
       "  </thead>\n",
       "  <tbody>\n",
       "    <tr>\n",
       "      <th>0</th>\n",
       "      <td>0</td>\n",
       "      <td>1</td>\n",
       "      <td>last</td>\n",
       "      <td>3</td>\n",
       "    </tr>\n",
       "    <tr>\n",
       "      <th>1</th>\n",
       "      <td>1</td>\n",
       "      <td>1</td>\n",
       "      <td>first</td>\n",
       "      <td>4</td>\n",
       "    </tr>\n",
       "    <tr>\n",
       "      <th>2</th>\n",
       "      <td>0</td>\n",
       "      <td>2</td>\n",
       "      <td>last</td>\n",
       "      <td>4</td>\n",
       "    </tr>\n",
       "    <tr>\n",
       "      <th>3</th>\n",
       "      <td>1</td>\n",
       "      <td>2</td>\n",
       "      <td>first</td>\n",
       "      <td>1</td>\n",
       "    </tr>\n",
       "    <tr>\n",
       "      <th>4</th>\n",
       "      <td>0</td>\n",
       "      <td>3</td>\n",
       "      <td>last</td>\n",
       "      <td>2</td>\n",
       "    </tr>\n",
       "  </tbody>\n",
       "</table>\n",
       "</div>"
      ],
      "text/plain": [
       "   Unnamed: 0  participant sentence_type  sentence_accept\n",
       "0           0            1          last                3\n",
       "1           1            1         first                4\n",
       "2           0            2          last                4\n",
       "3           1            2         first                1\n",
       "4           0            3          last                2"
      ]
     },
     "execution_count": 117,
     "metadata": {},
     "output_type": "execute_result"
    }
   ],
   "source": [
    "data = pd.read_csv('sentence.types.csv')\n",
    "data.head()"
   ]
  },
  {
   "cell_type": "markdown",
   "metadata": {},
   "source": [
    "Najpierw podzielimy nasz zbiór danych na obserwacje, w których oceniane było zdanie typu LAST oraz takie, w których oceniane było zdanie typu FIRST."
   ]
  },
  {
   "cell_type": "code",
   "execution_count": 118,
   "metadata": {},
   "outputs": [
    {
     "data": {
      "text/html": [
       "<div>\n",
       "<style scoped>\n",
       "    .dataframe tbody tr th:only-of-type {\n",
       "        vertical-align: middle;\n",
       "    }\n",
       "\n",
       "    .dataframe tbody tr th {\n",
       "        vertical-align: top;\n",
       "    }\n",
       "\n",
       "    .dataframe thead th {\n",
       "        text-align: right;\n",
       "    }\n",
       "</style>\n",
       "<table border=\"1\" class=\"dataframe\">\n",
       "  <thead>\n",
       "    <tr style=\"text-align: right;\">\n",
       "      <th></th>\n",
       "      <th>Unnamed: 0</th>\n",
       "      <th>participant</th>\n",
       "      <th>sentence_type</th>\n",
       "      <th>sentence_accept</th>\n",
       "    </tr>\n",
       "  </thead>\n",
       "  <tbody>\n",
       "    <tr>\n",
       "      <th>0</th>\n",
       "      <td>0</td>\n",
       "      <td>1</td>\n",
       "      <td>last</td>\n",
       "      <td>3</td>\n",
       "    </tr>\n",
       "    <tr>\n",
       "      <th>2</th>\n",
       "      <td>0</td>\n",
       "      <td>2</td>\n",
       "      <td>last</td>\n",
       "      <td>4</td>\n",
       "    </tr>\n",
       "    <tr>\n",
       "      <th>4</th>\n",
       "      <td>0</td>\n",
       "      <td>3</td>\n",
       "      <td>last</td>\n",
       "      <td>2</td>\n",
       "    </tr>\n",
       "    <tr>\n",
       "      <th>6</th>\n",
       "      <td>0</td>\n",
       "      <td>4</td>\n",
       "      <td>last</td>\n",
       "      <td>3</td>\n",
       "    </tr>\n",
       "    <tr>\n",
       "      <th>8</th>\n",
       "      <td>0</td>\n",
       "      <td>5</td>\n",
       "      <td>last</td>\n",
       "      <td>7</td>\n",
       "    </tr>\n",
       "  </tbody>\n",
       "</table>\n",
       "</div>"
      ],
      "text/plain": [
       "   Unnamed: 0  participant sentence_type  sentence_accept\n",
       "0           0            1          last                3\n",
       "2           0            2          last                4\n",
       "4           0            3          last                2\n",
       "6           0            4          last                3\n",
       "8           0            5          last                7"
      ]
     },
     "execution_count": 118,
     "metadata": {},
     "output_type": "execute_result"
    }
   ],
   "source": [
    "type_last = data[data['sentence_type'] == 'last']\n",
    "type_last.head()"
   ]
  },
  {
   "cell_type": "code",
   "execution_count": 124,
   "metadata": {},
   "outputs": [
    {
     "data": {
      "text/html": [
       "<div>\n",
       "<style scoped>\n",
       "    .dataframe tbody tr th:only-of-type {\n",
       "        vertical-align: middle;\n",
       "    }\n",
       "\n",
       "    .dataframe tbody tr th {\n",
       "        vertical-align: top;\n",
       "    }\n",
       "\n",
       "    .dataframe thead th {\n",
       "        text-align: right;\n",
       "    }\n",
       "</style>\n",
       "<table border=\"1\" class=\"dataframe\">\n",
       "  <thead>\n",
       "    <tr style=\"text-align: right;\">\n",
       "      <th></th>\n",
       "      <th>Unnamed: 0</th>\n",
       "      <th>participant</th>\n",
       "      <th>sentence_type</th>\n",
       "      <th>sentence_accept</th>\n",
       "    </tr>\n",
       "  </thead>\n",
       "  <tbody>\n",
       "    <tr>\n",
       "      <th>1</th>\n",
       "      <td>1</td>\n",
       "      <td>1</td>\n",
       "      <td>first</td>\n",
       "      <td>4</td>\n",
       "    </tr>\n",
       "    <tr>\n",
       "      <th>3</th>\n",
       "      <td>1</td>\n",
       "      <td>2</td>\n",
       "      <td>first</td>\n",
       "      <td>1</td>\n",
       "    </tr>\n",
       "    <tr>\n",
       "      <th>5</th>\n",
       "      <td>1</td>\n",
       "      <td>3</td>\n",
       "      <td>first</td>\n",
       "      <td>3</td>\n",
       "    </tr>\n",
       "    <tr>\n",
       "      <th>7</th>\n",
       "      <td>1</td>\n",
       "      <td>4</td>\n",
       "      <td>first</td>\n",
       "      <td>6</td>\n",
       "    </tr>\n",
       "    <tr>\n",
       "      <th>9</th>\n",
       "      <td>1</td>\n",
       "      <td>5</td>\n",
       "      <td>first</td>\n",
       "      <td>4</td>\n",
       "    </tr>\n",
       "  </tbody>\n",
       "</table>\n",
       "</div>"
      ],
      "text/plain": [
       "   Unnamed: 0  participant sentence_type  sentence_accept\n",
       "1           1            1         first                4\n",
       "3           1            2         first                1\n",
       "5           1            3         first                3\n",
       "7           1            4         first                6\n",
       "9           1            5         first                4"
      ]
     },
     "execution_count": 124,
     "metadata": {},
     "output_type": "execute_result"
    }
   ],
   "source": [
    "type_first = data[data['sentence_type'] == 'first']\n",
    "type_first.head()"
   ]
  },
  {
   "cell_type": "markdown",
   "metadata": {},
   "source": [
    "Następnie obliczyć możemy średnią akceptację dla tych zdań. W obu przypadkach jest to około 4.3."
   ]
  },
  {
   "cell_type": "code",
   "execution_count": 119,
   "metadata": {},
   "outputs": [
    {
     "data": {
      "text/plain": [
       "4.246031746031746"
      ]
     },
     "execution_count": 119,
     "metadata": {},
     "output_type": "execute_result"
    }
   ],
   "source": [
    "type_last['sentence_accept'].mean()"
   ]
  },
  {
   "cell_type": "code",
   "execution_count": 126,
   "metadata": {},
   "outputs": [
    {
     "data": {
      "text/plain": [
       "4.349206349206349"
      ]
     },
     "execution_count": 126,
     "metadata": {},
     "output_type": "execute_result"
    }
   ],
   "source": [
    "type_first['sentence_accept'].mean()"
   ]
  },
  {
   "cell_type": "markdown",
   "metadata": {},
   "source": [
    "Nasza hipoteza badawcza głosiła, że zdania typu LAST nie będą akceptowane podczas gdy zdania typu FIRST będą. Okazuje się, że jeśli już, to oba rodzaje zdań nie są akceptowane. Chcemy jednak sprawdzić, czy uzyskane wyniki w sposób statystycznie istotny różnią się od wartości stanowiącej środek skali (0.5). W tym celu posłużymy się testem t Studenta dla jednej próby.\n",
    "\n",
    "Pierwszy sposób na wykonanie tego testu to użycie funkcji `ttest_1samp` z modułu `scipy.stats`. Funkcja ta przyjmuje jako swój argument listę (bądź `Series`) z obserwacjami. Dodatkowo możemy określić średnią populacji, dla której przeprowadzamy test za pomocą argumentu `popmean`. U nas, zgodnie z hipotezą badawczą, jest to $5$."
   ]
  },
  {
   "cell_type": "code",
   "execution_count": 140,
   "metadata": {},
   "outputs": [
    {
     "name": "stdout",
     "output_type": "stream",
     "text": [
      "Test t Studenta dla zdania typu LAST\n",
      "Statystyka testowa T:  -5.6409482620398395\n",
      "Wartość p:  1.0731493720922533e-07\n"
     ]
    }
   ],
   "source": [
    "t, p = stats.ttest_1samp(type_last['sentence_accept'], popmean=5)\n",
    "print('Test t Studenta dla zdania typu LAST')\n",
    "print('Statystyka testowa T: ', t)\n",
    "print('Wartość p: ', p)"
   ]
  },
  {
   "cell_type": "code",
   "execution_count": 141,
   "metadata": {},
   "outputs": [
    {
     "name": "stdout",
     "output_type": "stream",
     "text": [
      "Test t Studenta dla zdania typu FIRST\n",
      "Statystyka testowa T:  -5.020650732842313\n",
      "Wartość p:  1.7313251337168195e-06\n"
     ]
    }
   ],
   "source": [
    "t, p = stats.ttest_1samp(type_first['sentence_accept'], popmean=5)\n",
    "print('Test t Studenta dla zdania typu FIRST')\n",
    "print('Statystyka testowa T: ', t)\n",
    "print('Wartość p: ', p)"
   ]
  },
  {
   "cell_type": "markdown",
   "metadata": {},
   "source": [
    "Okazuje się, że w obu przypadkach mamy podstawy do odrzucenia hipotezy zerowej. Zarówno zdania typu LAST jak i FIRST nie są akceptowalne przez kompetentnych użytkowników polskiego."
   ]
  },
  {
   "cell_type": "markdown",
   "metadata": {},
   "source": [
    "Alternatywnym (i bardziej efektownym) sposobem jest skorzystanie z funkcji `ttest` zawartej w pakiecie `pingouin`. Oprócz tego, że zwraca wyniki w ładniejszym formacie, to dodatkowo otrzymujemy inne przydatne informacje (np. wielkość efektu w kolumnie `cohen-d`)."
   ]
  },
  {
   "cell_type": "code",
   "execution_count": 143,
   "metadata": {},
   "outputs": [
    {
     "data": {
      "text/html": [
       "<div>\n",
       "<style scoped>\n",
       "    .dataframe tbody tr th:only-of-type {\n",
       "        vertical-align: middle;\n",
       "    }\n",
       "\n",
       "    .dataframe tbody tr th {\n",
       "        vertical-align: top;\n",
       "    }\n",
       "\n",
       "    .dataframe thead th {\n",
       "        text-align: right;\n",
       "    }\n",
       "</style>\n",
       "<table border=\"1\" class=\"dataframe\">\n",
       "  <thead>\n",
       "    <tr style=\"text-align: right;\">\n",
       "      <th></th>\n",
       "      <th>T</th>\n",
       "      <th>p-val</th>\n",
       "      <th>dof</th>\n",
       "      <th>tail</th>\n",
       "      <th>cohen-d</th>\n",
       "      <th>power</th>\n",
       "      <th>BF10</th>\n",
       "    </tr>\n",
       "  </thead>\n",
       "  <tbody>\n",
       "    <tr>\n",
       "      <th>T-test</th>\n",
       "      <td>-5.641</td>\n",
       "      <td>1.073149e-07</td>\n",
       "      <td>125</td>\n",
       "      <td>two-sided</td>\n",
       "      <td>0.503</td>\n",
       "      <td>1.0</td>\n",
       "      <td>107330.417</td>\n",
       "    </tr>\n",
       "  </tbody>\n",
       "</table>\n",
       "</div>"
      ],
      "text/plain": [
       "            T         p-val  dof       tail  cohen-d  power        BF10\n",
       "T-test -5.641  1.073149e-07  125  two-sided    0.503    1.0  107330.417"
      ]
     },
     "execution_count": 143,
     "metadata": {},
     "output_type": "execute_result"
    }
   ],
   "source": [
    "pg.ttest(type_last['sentence_accept'], 5)"
   ]
  },
  {
   "cell_type": "markdown",
   "metadata": {},
   "source": [
    "## Test t Studenta dla prób zależnych"
   ]
  },
  {
   "cell_type": "markdown",
   "metadata": {},
   "source": [
    "### Przykład\n",
    "\n",
    "Grupa badaczy postanowiła sprawdzić, czy w sytuacji, w której jesteśmu uczuleni na możliwość pomyłki, standard oceny prawdziwości zdań, przypisujących wiedzę może się zmienić. W tym celu zaprezentowali badanym ($N=46$) krótką historyjkę:\n",
    "\n",
    "> Maria spytała Jacka: \"Jacku, czy wiesz która jest godzina?\". Jacek spojrzał na zegarek i odrzekł \"Mario, jest godzina 14:20\".\n",
    "\n",
    "Następnie poprosili badanych o wyrażenie zgody na zdanie:\n",
    "\n",
    "> Jacek wie, że jest godzina 14:20\n",
    "\n",
    "Po udzieleniu odpowiedzi na to pytanie badanym prezentowany był dodatkowy fragment historyjki:\n",
    "\n",
    "> Jacek bardzo rzadko korzysta z zegarka i nie sprawdzał bardzo dawno czy się nie spieszy czy się nie spóźnia. Dodatkowo należy zauważyć, że patrzył na zegarek tylko pół sekundy i nie sprawdził wcześniej, czy nie ma go założonego odwrotnie.\n",
    "\n",
    "Po przedstawieniu tego fragmentu badacze ponownie prosili uczestników o wyrażenie zgody na 9-stopniowej skali Likerta na zdanie:\n",
    "\n",
    "> Jacek wie, że jest godzina 14:20\n",
    "\n",
    "Hipoteza badawcza głosiła, że po uczuleniu na możliwość pomyłki akceptacja dla atrybucji wiedzy będzie niższa niż przed. Czy dane wspierają hipotezy badaczy? "
   ]
  },
  {
   "cell_type": "code",
   "execution_count": 144,
   "metadata": {},
   "outputs": [
    {
     "data": {
      "text/html": [
       "<div>\n",
       "<style scoped>\n",
       "    .dataframe tbody tr th:only-of-type {\n",
       "        vertical-align: middle;\n",
       "    }\n",
       "\n",
       "    .dataframe tbody tr th {\n",
       "        vertical-align: top;\n",
       "    }\n",
       "\n",
       "    .dataframe thead th {\n",
       "        text-align: right;\n",
       "    }\n",
       "</style>\n",
       "<table border=\"1\" class=\"dataframe\">\n",
       "  <thead>\n",
       "    <tr style=\"text-align: right;\">\n",
       "      <th></th>\n",
       "      <th>Unnamed: 0</th>\n",
       "      <th>participant</th>\n",
       "      <th>rating1</th>\n",
       "      <th>rating2</th>\n",
       "    </tr>\n",
       "  </thead>\n",
       "  <tbody>\n",
       "    <tr>\n",
       "      <th>0</th>\n",
       "      <td>0</td>\n",
       "      <td>1</td>\n",
       "      <td>5</td>\n",
       "      <td>2</td>\n",
       "    </tr>\n",
       "    <tr>\n",
       "      <th>1</th>\n",
       "      <td>0</td>\n",
       "      <td>2</td>\n",
       "      <td>6</td>\n",
       "      <td>2</td>\n",
       "    </tr>\n",
       "    <tr>\n",
       "      <th>2</th>\n",
       "      <td>0</td>\n",
       "      <td>3</td>\n",
       "      <td>4</td>\n",
       "      <td>5</td>\n",
       "    </tr>\n",
       "    <tr>\n",
       "      <th>3</th>\n",
       "      <td>0</td>\n",
       "      <td>4</td>\n",
       "      <td>6</td>\n",
       "      <td>5</td>\n",
       "    </tr>\n",
       "    <tr>\n",
       "      <th>4</th>\n",
       "      <td>0</td>\n",
       "      <td>5</td>\n",
       "      <td>8</td>\n",
       "      <td>4</td>\n",
       "    </tr>\n",
       "  </tbody>\n",
       "</table>\n",
       "</div>"
      ],
      "text/plain": [
       "   Unnamed: 0  participant  rating1  rating2\n",
       "0           0            1        5        2\n",
       "1           0            2        6        2\n",
       "2           0            3        4        5\n",
       "3           0            4        6        5\n",
       "4           0            5        8        4"
      ]
     },
     "execution_count": 144,
     "metadata": {},
     "output_type": "execute_result"
    }
   ],
   "source": [
    "data = pd.read_csv('ratings.csv')\n",
    "data.head()"
   ]
  },
  {
   "cell_type": "markdown",
   "metadata": {},
   "source": [
    "Aby sprawdzić hipotezę badaczy wystarczy zastosować test t Studenta dla prób zależnych (bo badanie zostało przeprowadzone w schemacie wewnątrzgrupowym). Możemy to zrobić używając funkcji `ttest_rel` z modułu `scipy.stats`. Przyjmuje ona jako swoje argumenty dwie listy z obserwacjami (uwaga! sami musimy zadbać, żeby były odpowiednio ułożone)."
   ]
  },
  {
   "cell_type": "code",
   "execution_count": 132,
   "metadata": {},
   "outputs": [
    {
     "name": "stdout",
     "output_type": "stream",
     "text": [
      "Statystyka testowa T:  7.077350414448114\n",
      "Wartość p:  6.976763876158575e-09\n"
     ]
    }
   ],
   "source": [
    "t, p = stats.ttest_rel(data['rating1'], data['rating2'])\n",
    "print('Statystyka testowa T: ', t)\n",
    "print('Wartość p: ', p)"
   ]
  },
  {
   "cell_type": "markdown",
   "metadata": {},
   "source": [
    "To samo możemy zrobić przy użyciu pakietu `pingouin`. Zawarta tam funkcja `ttest` przyjmuje argument `paired` pozwalający przekazać, że chodzi nam o próby zależne."
   ]
  },
  {
   "cell_type": "code",
   "execution_count": 133,
   "metadata": {},
   "outputs": [
    {
     "data": {
      "text/html": [
       "<div>\n",
       "<style scoped>\n",
       "    .dataframe tbody tr th:only-of-type {\n",
       "        vertical-align: middle;\n",
       "    }\n",
       "\n",
       "    .dataframe tbody tr th {\n",
       "        vertical-align: top;\n",
       "    }\n",
       "\n",
       "    .dataframe thead th {\n",
       "        text-align: right;\n",
       "    }\n",
       "</style>\n",
       "<table border=\"1\" class=\"dataframe\">\n",
       "  <thead>\n",
       "    <tr style=\"text-align: right;\">\n",
       "      <th></th>\n",
       "      <th>T</th>\n",
       "      <th>p-val</th>\n",
       "      <th>dof</th>\n",
       "      <th>tail</th>\n",
       "      <th>cohen-d</th>\n",
       "      <th>power</th>\n",
       "      <th>BF10</th>\n",
       "    </tr>\n",
       "  </thead>\n",
       "  <tbody>\n",
       "    <tr>\n",
       "      <th>T-test</th>\n",
       "      <td>7.077</td>\n",
       "      <td>6.976764e-09</td>\n",
       "      <td>46</td>\n",
       "      <td>two-sided</td>\n",
       "      <td>1.321</td>\n",
       "      <td>1.0</td>\n",
       "      <td>1781649.024</td>\n",
       "    </tr>\n",
       "  </tbody>\n",
       "</table>\n",
       "</div>"
      ],
      "text/plain": [
       "            T         p-val  dof       tail  cohen-d  power         BF10\n",
       "T-test  7.077  6.976764e-09   46  two-sided    1.321    1.0  1781649.024"
      ]
     },
     "execution_count": 133,
     "metadata": {},
     "output_type": "execute_result"
    }
   ],
   "source": [
    "pg.ttest(data['rating1'], data['rating2'], paired=True)"
   ]
  },
  {
   "cell_type": "markdown",
   "metadata": {},
   "source": [
    "Okazało się, że mamy prawo odrzucić hipotezę zerową i przyjąć hipotezę alternatywną."
   ]
  },
  {
   "cell_type": "markdown",
   "metadata": {},
   "source": [
    "## Test t Studenta dla prób niezależnych"
   ]
  },
  {
   "cell_type": "markdown",
   "metadata": {},
   "source": [
    "### Przykład\n",
    "\n",
    "Wielu filozofów języka uważa, że zdania z pustymi deskrypcjami określonymi, takie jak \"Obecny król Francji jest łysy\", są fałszywe. Inni zaś uważają, że raczej są pozbawione wartości logicznej. Nasi badacze postawili jednak hipotezę, że zależne jest to od wykształcenia logicznego. Aby sprawdzić tę hipotezę przeprowadzili badanie na grupie 50 studentów kognitywistyki przez kursem logiki oraz 45 studentów kulturoznawstwa przed kursem logiki. Badani w obu grupach mieli w kwestionariuszu ocenić akceptowalność 10 zdań w rodzaju \"Obecny król Francji jest łysy\". Oprócz pozycji eksperymentalnych w kwestionariuszu znalazły się również 10 \"wypełniacze\". Dane z eksperymentu znajdują się w pliku `acceptability.csv`. Naszym zadaniem jest sprawdzić, czy wspierają hipotezę o wpływie kursu logiki na ewaluację zdań z pustymi deskrypcjami określonymi. "
   ]
  },
  {
   "cell_type": "code",
   "execution_count": 190,
   "metadata": {},
   "outputs": [
    {
     "data": {
      "text/html": [
       "<div>\n",
       "<style scoped>\n",
       "    .dataframe tbody tr th:only-of-type {\n",
       "        vertical-align: middle;\n",
       "    }\n",
       "\n",
       "    .dataframe tbody tr th {\n",
       "        vertical-align: top;\n",
       "    }\n",
       "\n",
       "    .dataframe thead th {\n",
       "        text-align: right;\n",
       "    }\n",
       "</style>\n",
       "<table border=\"1\" class=\"dataframe\">\n",
       "  <thead>\n",
       "    <tr style=\"text-align: right;\">\n",
       "      <th></th>\n",
       "      <th>Unnamed: 0</th>\n",
       "      <th>participant</th>\n",
       "      <th>condition</th>\n",
       "      <th>item</th>\n",
       "      <th>response</th>\n",
       "    </tr>\n",
       "  </thead>\n",
       "  <tbody>\n",
       "    <tr>\n",
       "      <th>0</th>\n",
       "      <td>0</td>\n",
       "      <td>1</td>\n",
       "      <td>experimental</td>\n",
       "      <td>target1</td>\n",
       "      <td>3</td>\n",
       "    </tr>\n",
       "    <tr>\n",
       "      <th>1</th>\n",
       "      <td>1</td>\n",
       "      <td>1</td>\n",
       "      <td>experimental</td>\n",
       "      <td>target2</td>\n",
       "      <td>1</td>\n",
       "    </tr>\n",
       "    <tr>\n",
       "      <th>2</th>\n",
       "      <td>2</td>\n",
       "      <td>1</td>\n",
       "      <td>experimental</td>\n",
       "      <td>target3</td>\n",
       "      <td>5</td>\n",
       "    </tr>\n",
       "    <tr>\n",
       "      <th>3</th>\n",
       "      <td>3</td>\n",
       "      <td>1</td>\n",
       "      <td>experimental</td>\n",
       "      <td>target4</td>\n",
       "      <td>6</td>\n",
       "    </tr>\n",
       "    <tr>\n",
       "      <th>4</th>\n",
       "      <td>4</td>\n",
       "      <td>1</td>\n",
       "      <td>experimental</td>\n",
       "      <td>target5</td>\n",
       "      <td>6</td>\n",
       "    </tr>\n",
       "  </tbody>\n",
       "</table>\n",
       "</div>"
      ],
      "text/plain": [
       "   Unnamed: 0  participant     condition     item  response\n",
       "0           0            1  experimental  target1         3\n",
       "1           1            1  experimental  target2         1\n",
       "2           2            1  experimental  target3         5\n",
       "3           3            1  experimental  target4         6\n",
       "4           4            1  experimental  target5         6"
      ]
     },
     "execution_count": 190,
     "metadata": {},
     "output_type": "execute_result"
    }
   ],
   "source": [
    "data = pd.read_csv('acceptability.csv')\n",
    "data.head()"
   ]
  },
  {
   "cell_type": "markdown",
   "metadata": {},
   "source": [
    "Na początek musimy wykonać dwie operacje. Pierwszą jest usunięcie ze zbioru danych tych obserwacji, które dotyczą \"wypełniaczy\". Po drugie chcemy podzielić nasze dane na dwa zbiory - jeden dotyczący grupy eksperymentalnej, drugi kontrolnej."
   ]
  },
  {
   "cell_type": "code",
   "execution_count": 191,
   "metadata": {},
   "outputs": [],
   "source": [
    "data = data[data['item'].str.startswith('target')] # przydatna funkcja\n",
    "experimental = data[data['condition'] == 'experimental']\n",
    "control = data[data['condition'] == 'control']"
   ]
  },
  {
   "cell_type": "markdown",
   "metadata": {},
   "source": [
    "Następnie chcielibyśmy obliczyć średnią z odpowiedzi na pozycje eksperymentalne dla każdego badanego. Posłużymy się tutaj funkcją `groupby`."
   ]
  },
  {
   "cell_type": "code",
   "execution_count": 192,
   "metadata": {},
   "outputs": [
    {
     "data": {
      "text/plain": [
       "participant\n",
       "1    3.8\n",
       "2    3.1\n",
       "3    4.0\n",
       "4    3.5\n",
       "5    3.5\n",
       "Name: response, dtype: float64"
      ]
     },
     "execution_count": 192,
     "metadata": {},
     "output_type": "execute_result"
    }
   ],
   "source": [
    "gb = experimental.groupby('participant')\n",
    "exp_response = gb['response'].mean()\n",
    "exp_response.head()"
   ]
  },
  {
   "cell_type": "code",
   "execution_count": 193,
   "metadata": {},
   "outputs": [
    {
     "data": {
      "text/plain": [
       "participant\n",
       "26    3.6\n",
       "27    3.9\n",
       "28    4.5\n",
       "29    4.2\n",
       "30    4.9\n",
       "Name: response, dtype: float64"
      ]
     },
     "execution_count": 193,
     "metadata": {},
     "output_type": "execute_result"
    }
   ],
   "source": [
    "gb = control.groupby('participant')\n",
    "contr_response = gb['response'].mean()\n",
    "contr_response.head()"
   ]
  },
  {
   "cell_type": "code",
   "execution_count": 194,
   "metadata": {},
   "outputs": [
    {
     "name": "stdout",
     "output_type": "stream",
     "text": [
      "Średnia dla grupy eksperymentalnej:  3.6839999999999997\n",
      "Średnia dla grupy kontrolnej:  4.2\n"
     ]
    }
   ],
   "source": [
    "print('Średnia dla grupy eksperymentalnej: ', exp_response.mean())\n",
    "print('Średnia dla grupy kontrolnej: ', contr_response.mean())\n"
   ]
  },
  {
   "cell_type": "markdown",
   "metadata": {},
   "source": [
    "Teraz, kiedy nasze dane są już odpowiednio zagregowane, możemy przeprowadzić test t Studenta dla prób niezależnych. Aby to zrobić możemy wykorzystać funkcję `ttest_ind` z modułu `scipy.stats`. Przyjmuje ona dwie listy z obserwacjami i zwraca statystykę testową ($t$) oraz wartość $p$."
   ]
  },
  {
   "cell_type": "code",
   "execution_count": 195,
   "metadata": {},
   "outputs": [
    {
     "name": "stdout",
     "output_type": "stream",
     "text": [
      "Statystyka testowa T:  -3.9862499406286753\n",
      "Wartość p:  0.00022769869649598898\n"
     ]
    }
   ],
   "source": [
    "t, p = stats.ttest_ind(exp_response, contr_response)\n",
    "print('Statystyka testowa T: ', t)\n",
    "print('Wartość p: ', p)"
   ]
  },
  {
   "cell_type": "markdown",
   "metadata": {},
   "source": [
    "Naturalnie jeżeli zależy nam na ładnym wyglądzie i dodatkowych informacjach możemy skorzystać z `ttest` z pakietu `pingouin`."
   ]
  },
  {
   "cell_type": "code",
   "execution_count": 196,
   "metadata": {},
   "outputs": [
    {
     "data": {
      "text/html": [
       "<div>\n",
       "<style scoped>\n",
       "    .dataframe tbody tr th:only-of-type {\n",
       "        vertical-align: middle;\n",
       "    }\n",
       "\n",
       "    .dataframe tbody tr th {\n",
       "        vertical-align: top;\n",
       "    }\n",
       "\n",
       "    .dataframe thead th {\n",
       "        text-align: right;\n",
       "    }\n",
       "</style>\n",
       "<table border=\"1\" class=\"dataframe\">\n",
       "  <thead>\n",
       "    <tr style=\"text-align: right;\">\n",
       "      <th></th>\n",
       "      <th>T</th>\n",
       "      <th>p-val</th>\n",
       "      <th>dof</th>\n",
       "      <th>tail</th>\n",
       "      <th>cohen-d</th>\n",
       "      <th>power</th>\n",
       "      <th>BF10</th>\n",
       "    </tr>\n",
       "  </thead>\n",
       "  <tbody>\n",
       "    <tr>\n",
       "      <th>T-test</th>\n",
       "      <td>3.986</td>\n",
       "      <td>0.000228</td>\n",
       "      <td>48</td>\n",
       "      <td>two-sided</td>\n",
       "      <td>1.127</td>\n",
       "      <td>0.974</td>\n",
       "      <td>108.482</td>\n",
       "    </tr>\n",
       "  </tbody>\n",
       "</table>\n",
       "</div>"
      ],
      "text/plain": [
       "            T     p-val  dof       tail  cohen-d  power     BF10\n",
       "T-test  3.986  0.000228   48  two-sided    1.127  0.974  108.482"
      ]
     },
     "execution_count": 196,
     "metadata": {},
     "output_type": "execute_result"
    }
   ],
   "source": [
    "pg.ttest(contr_response, exp_response)"
   ]
  },
  {
   "cell_type": "markdown",
   "metadata": {},
   "source": [
    "## Wielkość efektu i analiza mocy dla testu t Studenta"
   ]
  },
  {
   "cell_type": "markdown",
   "metadata": {},
   "source": [
    "### Przykład\n",
    "\n",
    "Załóżmy, że chcielibyśmy zreplikować to badanie. Uważamy, że był w nim przynajmniej jeden czynnik zakłócający - studenci z grupy kontrolnej i eksperymentalnej byli z innych kierunków. My chcemy przeprowadzić to badanie na studentach kognitywistyki przed i po kursie logiki.\n",
    "\n",
    "Chcielibyśmy aby nasza replikacja miała odpowiednią moc. Załóżmy, że chcemy osiągnąć moc rzędu 0.9 (to znaczy mieć 80% szans na wykrycie efektu o określonej wielkości lub większej). Jak dużej próby potrzebujemy? Załóżmy, że chcemy przyjąć poziom istotności $\\alpha = 0.01$. Wiemy, że w oryginalnym badaniu wielkość efektu (wyrażona w d Cohena) wynosiła $d=1.127$. Aby obliczyć odpowiednie wartości użyjemy funkcji `power_ttest` z pakietu `pingouin`. Jest to reimplementacja odpowiedniej funkcji z pakietu `pwr` w R."
   ]
  },
  {
   "cell_type": "code",
   "execution_count": 212,
   "metadata": {},
   "outputs": [
    {
     "data": {
      "text/plain": [
       "25.144762136538294"
      ]
     },
     "execution_count": 212,
     "metadata": {},
     "output_type": "execute_result"
    }
   ],
   "source": [
    "# Uwaga! Aby funkcja działała musimy pominąć dokładnie 1 z parametrów: `d`, `n`, `power` i `alpha`\n",
    "n = pg.power_ttest(d = 1.127, \n",
    "                   power=0.9, \n",
    "                   contrast='two-samples', # to jest domyślna wartość w tej funkcji\n",
    "                   tail='two-sided', # to jest domyślna wartość w tej funkcji\n",
    "                   alpha = 0.01) # domyślnie jest 0.05\n",
    "n"
   ]
  },
  {
   "cell_type": "markdown",
   "metadata": {},
   "source": [
    "Aby móc zreplikować to badanie przy założonej mocy i istotności statystycznej potrzebujemy około 25 osób na grupę."
   ]
  },
  {
   "cell_type": "markdown",
   "metadata": {},
   "source": [
    "Niektórzy proponują, aby w badaniach replikacyjnych założyć, że chcemy mieć 80% prawdopodobieństwa na wykrycie efektu, na wykrycie którego oryginalny eksperyment miał 30%. Przeanalizujmy tę sytuację."
   ]
  },
  {
   "cell_type": "code",
   "execution_count": 208,
   "metadata": {},
   "outputs": [
    {
     "data": {
      "text/plain": [
       "0.4291617531866683"
      ]
     },
     "execution_count": 208,
     "metadata": {},
     "output_type": "execute_result"
    }
   ],
   "source": [
    "d = pg.power_ttest2n(power=0.30, alpha=0.01, nx=50, ny=45)\n",
    "d"
   ]
  },
  {
   "cell_type": "markdown",
   "metadata": {},
   "source": [
    "Dowiedzieliśmy się, że oryginalny eksperyment miał 30% szans na wykrycie efektu o wielkości $d = 0.43$. Chcemy, aby nasza replikacja miała odpowiednio większą moc (0.8 w tym przypadku)."
   ]
  },
  {
   "cell_type": "code",
   "execution_count": 210,
   "metadata": {},
   "outputs": [
    {
     "data": {
      "text/plain": [
       "128.4898300229837"
      ]
     },
     "execution_count": 210,
     "metadata": {},
     "output_type": "execute_result"
    }
   ],
   "source": [
    "pg.power_ttest(d = d, power = 0.8, alpha = 0.01)"
   ]
  },
  {
   "cell_type": "markdown",
   "metadata": {},
   "source": [
    "W takim wypadku potrzebujemy 129 osób w każdej grupie w eksperymencie! To może być trudne!"
   ]
  }
 ],
 "metadata": {
  "kernelspec": {
   "display_name": "Python 3",
   "language": "python",
   "name": "python3"
  },
  "language_info": {
   "codemirror_mode": {
    "name": "ipython",
    "version": 3
   },
   "file_extension": ".py",
   "mimetype": "text/x-python",
   "name": "python",
   "nbconvert_exporter": "python",
   "pygments_lexer": "ipython3",
   "version": "3.7.2"
  }
 },
 "nbformat": 4,
 "nbformat_minor": 2
}
