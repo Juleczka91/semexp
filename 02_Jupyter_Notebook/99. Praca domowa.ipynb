{
 "cells": [
  {
   "cell_type": "markdown",
   "metadata": {},
   "source": [
    "# Praca domowa\n",
    "\n",
    "Praca domowa polega na wykonaniu za pomocą notebooków \"pseudoaplikacji\", która będzie sugerowała aktywności dla znudzonych $n$ osób. W pracy domowej proszę wykorzystać Bored API (http://www.boredapi.com/). Poniżej znajduje się przykładowe wywołanie tego API. Potrzebne jest zainstalowanie biblioteki `restests` (ale ją powinno Państwo mieć). W przykładzie wysyłamy rządanie do serwera a on zwraca nam odpowiedź. Odpowiedz konwertujemy do postaci Pythonowskiego słownika i możemy z nią dalej pracować:"
   ]
  },
  {
   "cell_type": "code",
   "execution_count": 2,
   "metadata": {},
   "outputs": [
    {
     "data": {
      "text/plain": [
       "{'activity': 'Play a game of tennis with a friend',\n",
       " 'accessibility': 0.4,\n",
       " 'type': 'recreational',\n",
       " 'participants': 2,\n",
       " 'price': 0.1,\n",
       " 'key': '1093640'}"
      ]
     },
     "execution_count": 2,
     "metadata": {},
     "output_type": "execute_result"
    }
   ],
   "source": [
    "import requests\n",
    "# Możliwe typy aktywności \n",
    "# [\"education\", \"recreational\", \"social\", \"diy\", \"charity\", \"cooking\", \"relaxation\", \"music\", \"busywork\"]\n",
    "\n",
    "url = 'https://www.boredapi.com/api/activity?type=recreational&participants=2'\n",
    "activity = requests.get(url).json()\n",
    "activity"
   ]
  },
  {
   "cell_type": "markdown",
   "metadata": {},
   "source": [
    "Jak widzimy API zwraca nam słownik, w którym mamy informacje o aktywności. Drugim elementem zadania jest wykorzystanie widgetów. \n",
    "\n",
    "Aby zainstalować i uruchomić widgety należy posłużyć się poleceniem:\n",
    "\n",
    "```\n",
    "pip install ipywidgets\n",
    "jupyter nbextension enable --py widgetsnbextension\n",
    "```\n",
    "\n",
    "lub \n",
    "\n",
    "```\n",
    "conda install -c conda-forge ipywidgets\n",
    "```\n",
    "\n",
    "Przykładowo możemy skonstruować widgety, którymi kontrolować będziemy liczbę uczestników aktywności i typ. Poniżej znajduje się prosty przykład wykorzystania widgetów w Notebooku. Najpierw tworzymy 3 widgety - listę z wyborem aktywności, suwak z wyborem liczby uczestników oraz przycisk akceptacji wyboru. Przycisk akceptacji wyboru podłączony jest pod funkcję `on_click_callback`, która wyświetla aktualnie wybrane wartości pozostałych widgetów (atrybut `value`)"
   ]
  },
  {
   "cell_type": "code",
   "execution_count": 15,
   "metadata": {},
   "outputs": [
    {
     "data": {
      "text/plain": [
       "'Wybrane opcje'"
      ]
     },
     "metadata": {},
     "output_type": "display_data"
    },
    {
     "data": {
      "application/vnd.jupyter.widget-view+json": {
       "model_id": "26420186148a4bb8905efdd15f8ffdf9",
       "version_major": 2,
       "version_minor": 0
      },
      "text/plain": [
       "RadioButtons(options=('education', 'recreational', 'social', 'diy', 'charity', 'cooking', 'relaxation', 'music…"
      ]
     },
     "metadata": {},
     "output_type": "display_data"
    },
    {
     "data": {
      "application/vnd.jupyter.widget-view+json": {
       "model_id": "c0284c6647084b16b4c0a47b5490fe14",
       "version_major": 2,
       "version_minor": 0
      },
      "text/plain": [
       "IntSlider(value=0, max=10)"
      ]
     },
     "metadata": {},
     "output_type": "display_data"
    },
    {
     "data": {
      "application/vnd.jupyter.widget-view+json": {
       "model_id": "dfb8d8c925a6475f987368451e5d1d58",
       "version_major": 2,
       "version_minor": 0
      },
      "text/plain": [
       "Button(description='Kliknij na mnie!', style=ButtonStyle())"
      ]
     },
     "metadata": {},
     "output_type": "display_data"
    },
    {
     "data": {
      "text/plain": [
       "4"
      ]
     },
     "metadata": {},
     "output_type": "display_data"
    },
    {
     "data": {
      "text/plain": [
       "'charity'"
      ]
     },
     "metadata": {},
     "output_type": "display_data"
    }
   ],
   "source": [
    "import ipywidgets as widgets\n",
    "from IPython.display import display\n",
    "n_participants = widgets.IntSlider(min = 0, max = 10)\n",
    "types_of_activities = widgets.RadioButtons(options = [\"education\", \"recreational\", \"social\", \n",
    "                                                      \"diy\", \"charity\", \"cooking\", \n",
    "                                                      \"relaxation\", \"music\", \"busywork\"])\n",
    "\n",
    "select_button = widgets.Button(description='Kliknij na mnie!')\n",
    "\n",
    "def on_click_callback(w):\n",
    "    display(n_participants.value)\n",
    "    display(types_of_activities.value)\n",
    "    \n",
    "select_button.on_click(on_click_callback)\n",
    "\n",
    "display('Wybrane opcje')\n",
    "display(types_of_activities)\n",
    "display(n_participants)\n",
    "display(select_button)"
   ]
  },
  {
   "cell_type": "markdown",
   "metadata": {},
   "source": [
    "Państwa zadaniem jest rozwinięcie powyższego przykładu tak, aby ściągał z API niezbędne dane i wyświetlał je w formie sformatowanego Markdowna. Rozwiązania należy wrzucić na platformę w postaciu pliku `ipynb`. Jeżeli komuś nie działają widgety, to proszę o kontakt. W ostateczności może być bez widgetów (ale koniecznie z pobieraniem danych przez API i formatowaniem ich w Markdownie)."
   ]
  }
 ],
 "metadata": {
  "kernelspec": {
   "display_name": "Python 3",
   "language": "python",
   "name": "python3"
  },
  "language_info": {
   "codemirror_mode": {
    "name": "ipython",
    "version": 3
   },
   "file_extension": ".py",
   "mimetype": "text/x-python",
   "name": "python",
   "nbconvert_exporter": "python",
   "pygments_lexer": "ipython3",
   "version": "3.7.2"
  }
 },
 "nbformat": 4,
 "nbformat_minor": 2
}
