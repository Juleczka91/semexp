{
 "cells": [
  {
   "cell_type": "markdown",
   "metadata": {},
   "source": [
    "# Eksport i udostępnianie notebooków"
   ]
  },
  {
   "cell_type": "markdown",
   "metadata": {},
   "source": [
    "## Prosty eksport notebooków"
   ]
  },
  {
   "cell_type": "markdown",
   "metadata": {},
   "source": [
    "Najprostszą opcją eksportu notebookóœ do innego formatu jest wybranie z menu `File` opcji `Download as`. Dostępne są najstępujące możliwości:\n",
    "+ **Notebook** - ściągamy po prostu plik z Notebookiem, przydatne jeżeli pracujemy w instancji Jupytera on-line\n",
    "+ **Python** - ściamy notebook jaki zwykły plik `.py`, elementy tekstowe konwertowane są do komentarzy (`#`)\n",
    "+ **HTML** - ściągamy notebook w pliku HTML, który potem możemy wysłać mailem/udostępnić na stronie WWW\n",
    "+ **Reveal.js slides** - ściągamy Notebook sformatowany jako pokaz slajdów, dodatkowe opcje dotyczące slajdów wyświetlają się po wybraniu w menu opcji View -> Cell toolbar -> Slideshow. Więcej informacji o Reveal.sj: https://revealjs.com\n",
    "+ **Markdown** - ściągamy notebook sformatowany jako plik Markdown\n",
    "+ **reST** - ściągamy notebook sformatowany jako plik ReStructured Text (podobny do Markdown)\n",
    "+ **LaTeX** - ściągamy notebook jako plik TeX, domyślnie nie radzi sobie z polskimi znakami ale wystarczy w LaTeXowej preambule dodać odpowiednie pakiety\n",
    "+ **PDF via LaTeX** - konwersja do PDF za pomocą LaTeXa (jeśli mamy zainstalowany), uwagi o polskich znakach stosują się jak wyżej."
   ]
  },
  {
   "cell_type": "markdown",
   "metadata": {},
   "source": [
    "## Zaawansowane opcje eksportu Notebooków"
   ]
  },
  {
   "cell_type": "markdown",
   "metadata": {},
   "source": [
    "Wraz z pakietem Jupyter instaluje się bardzo przydatny moduł `nbconvert` który służy do konwersji Notebooków z wiersza poleceń. Oferuje trochę więcej opcji dostosowania ekspoertu do naszych potrzeb. Poniżej znajdują się przykładowe polecenia:"
   ]
  },
  {
   "cell_type": "code",
   "execution_count": 1,
   "metadata": {},
   "outputs": [
    {
     "data": {
      "image/png": "[encoded data removed]",
      "text/plain": [
       "<Figure size 432x288 with 1 Axes>"
      ]
     },
     "metadata": {},
     "output_type": "display_data"
    }
   ],
   "source": [
    "# Przykładowa komórka z kodem aby zobaczyć ładny eksport.\n",
    "from scipy.stats import norm\n",
    "import matplotlib.pyplot as plt\n",
    "%matplotlib inline\n",
    "plt.hist(norm.rvs(size=1000));"
   ]
  },
  {
   "cell_type": "code",
   "execution_count": 15,
   "metadata": {},
   "outputs": [
    {
     "name": "stderr",
     "output_type": "stream",
     "text": [
      "[NbConvertApp] Converting notebook 03. Eksport i udostępnianie notebooków.ipynb to html\n",
      "[NbConvertApp] Writing 261409 bytes to 03. Eksport i udostępnianie notebooków.html\n",
      "[NbConvertApp] Converting notebook 03. Eksport i udostępnianie notebooków.ipynb to html\n",
      "[NbConvertApp] Writing 12562 bytes to export2.html\n",
      "[NbConvertApp] Converting notebook 01. Podstawowe funkcje Jupyter Notebooka.ipynb to html\n",
      "[NbConvertApp] Executing notebook with kernel: python3\n",
      "[NbConvertApp] Writing 265322 bytes to raport_2019-01-28.html\n"
     ]
    }
   ],
   "source": [
    "%%bash\n",
    "# Prosty eksport do HTML\n",
    "jupyter nbconvert --to html \"03. Eksport i udostępnianie notebooków.ipynb\"\n",
    "\n",
    "# Eksport do HTML z uproszczonym kodem HTML, dobre jeśli chcemy osadzić na stronie output notebooków\n",
    "# Możemy także podać nową nazwę pliku.\n",
    "jupyter nbconvert --to html \"03. Eksport i udostępnianie notebooków.ipynb\" --template basic --output \"export2.html\"\n",
    "\n",
    "# Możemy ponownie wykonać kod w komórkach (np. jeżeli używamy notebooków do automatycznego generowania raportów).\n",
    "# Tu musimy wykonać inny plik, bo jeśli wykonamy ten to będzie problem :)\n",
    "jupyter nbconvert --to html \"01. Podstawowe funkcje Jupyter Notebooka.ipynb\" --execute --output \"raport_$(date --iso).html\""
   ]
  },
  {
   "cell_type": "markdown",
   "metadata": {},
   "source": [
    "Po wyeksportowaniu do pliku Markdown możemy np. przekonwertować nasz raport do formatu `ODT` albo `DOCX`, jeżeli mamy na komputerze zainstalowany program `pandoc`: https://pandoc.org/."
   ]
  },
  {
   "cell_type": "code",
   "execution_count": 16,
   "metadata": {},
   "outputs": [],
   "source": [
    "%%bash\n",
    "pandoc -o \"raport_$(date --iso).pdf\" \"raport_$(date --iso).html\""
   ]
  },
  {
   "cell_type": "markdown",
   "metadata": {},
   "source": [
    "## Udostępnianie notebooków"
   ]
  },
  {
   "cell_type": "markdown",
   "metadata": {},
   "source": [
    "Jeżeli chodzi o udostępnianie notebooków to mamy kilka możliwości:\n",
    "+ **eksport** i udostępnienie notebooków jako plik w wiadomości e-mailowej lub na stronie WWW\n",
    "+ użycie udostępnionego przez projekt Jupyter narzędzia **`nbviewer`**: https://nbviewer.jupyter.org/\n",
    "+ wrzucenie Notebooków na **GitHuba** (który potrafi je wyświetlać)\n",
    "+ **samodzielne hostowanie** własnej instancji `nbviewera`: https://github.com/jupyter/nbviewer"
   ]
  }
 ],
 "metadata": {
  "kernelspec": {
   "display_name": "Python 3",
   "language": "python",
   "name": "python3"
  },
  "language_info": {
   "codemirror_mode": {
    "name": "ipython",
    "version": 3
   },
   "file_extension": ".py",
   "mimetype": "text/x-python",
   "name": "python",
   "nbconvert_exporter": "python",
   "pygments_lexer": "ipython3",
   "version": "3.7.2"
  }
 },
 "nbformat": 4,
 "nbformat_minor": 2
}
