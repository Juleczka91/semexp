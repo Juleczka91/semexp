{
 "cells": [
  {
   "cell_type": "markdown",
   "metadata": {},
   "source": [
    "# Podstawowe funkcje Jupyter Notebooka\n",
    "\n",
    "Jupyter Notebook pozwala tworzyć dokumenty, które łączą ze soba:\n",
    "* sformatowany tekst i ilustracje,\n",
    "* kod źródłowy,\n",
    "* wyniki wykonywania kodu.\n",
    "\n",
    "Dzięki tym funkcjom możemy tworzyć w Jupyterze różnego rodzaju dokumenty - samouczki, raporty z badań, \"pseudo\" aplikacje. \n",
    "\n",
    "Przestrzeń pracy w Notebookach dzieli się na komórki (*cells*). Każda komórka może mieć typ \"Code\" lub \"Markdown\". W komórkach pierwszego typu wpisujemy kod Pythona (lub innego obsługiwanego języka) i wykonujemy go. W komórkach drugiego typu możemy umieścić tekst (i \"skompilować\" go do sformatowanej postaci wykonując komórkę).\n",
    "\n",
    "## Postawowe skróty klawiszowe (bez których ani rusz, więcej w \"Help\" na górze)\n",
    "Te komendy można zastosować tylko po wejściu do trybu poleceń naciskając klawisz `Escape`:\n",
    "- `A`(bove) - utwórz nową komórkę **powyżej** tej, która jest aktualnie zaznaczona\n",
    "- `B`(elow) - utwórz nową komórkę **poniżej** tej, która jest aktualnie zaznaczona\n",
    "- `D`(elete) - usuń aktualnie zaznaczoną komórkę\n",
    "- `Alt|Shift|Control + ENTER` - wykonaj kod w aktualnie zaznaczonej komórce i utworz komórkę poniżej/przejść do komórki poniżej/nic nie rób\n",
    "- `P` - otwórz paletę z poleceniami"
   ]
  },
  {
   "cell_type": "markdown",
   "metadata": {},
   "source": [
    "## Formatowanie tekstu\n",
    "\n",
    "Test sformatować możemy za pomocą składni Markdown. Poniżej znajduje się bardzo zwięzłe podsumowanie dostępnych możliwości:\n",
    "\n",
    "```\n",
    "### Tak tworzymy nagłówek trzeciego poziomu (liczba # = poziom nagłówka)\n",
    "\n",
    "Tekst możemy *pochylić*, **pogrubić** lub ***pochylić i pogrubić***.\n",
    "\n",
    "`print('Kod możemy wyświetlić czcionką o stałej szerokości)`\n",
    "\n",
    "> Możemy zacytować jakiś fragment tekstu\n",
    "\n",
    "#### Listy numerowane\n",
    "\n",
    "1. Łatwo tworzymy listy numerowane.\n",
    "3. Nie musimy przejmować się numeracją!\n",
    "\n",
    "#### Listy nienumerowane\n",
    "\n",
    "- Listy nienumerowane możmy tworząc używając myślników,\n",
    "* gwiazdek bądź\n",
    "    + plusów (i możemy je zagnieżdżać!).\n",
    "\n",
    "\n",
    "[Łatwo dodać hiperłącza do innych stron](http://bartoszmackiewicz.pl)\n",
    "\n",
    "![Logo Jupyter](https://jupyter.org/assets/main-logo.svg \"Możemy wyświetlać również obrazki\")\n",
    "\n",
    "```\n",
    "\n",
    "### Tak tworzymy nagłówek trzeciego poziomu (liczba # = poziom nagłówka)\n",
    "\n",
    "Tekst możemy *pochylić*, **pogrubić** lub ***pochylić i pogrubić***.\n",
    "\n",
    "`print('Kod możemy wyświetlić czcionką o stałej szerokości)`\n",
    "\n",
    "> Możemy zacytować jakiś fragment tekstu\n",
    "\n",
    "#### Listy numerowane\n",
    "\n",
    "1. Łatwo tworzymy listy numerowane.\n",
    "3. Nie musimy przejmować się numeracją!\n",
    "\n",
    "#### Listy nienumerowane\n",
    "\n",
    "- Listy nienumerowane możmy tworząc używając myślników,\n",
    "* gwiazdek bądź\n",
    "    + plusów (i możemy je zagnieżdżać!).\n",
    "\n",
    "\n",
    "[Łatwo dodać hiperłącza do innych stron](http://bartoszmackiewicz.pl)\n",
    "\n",
    "![Logo Jupyter](https://jupyter.org/assets/main-logo.svg \"Możemy wyświetlać również obrazki\")"
   ]
  },
  {
   "cell_type": "markdown",
   "metadata": {},
   "source": [
    "## Wykonywanie kodu\n",
    "\n",
    "Ogólnie rzecz ujmując *output* Notebooków działa tak jak wiersz poleceń Pythona: "
   ]
  },
  {
   "cell_type": "code",
   "execution_count": 7,
   "metadata": {},
   "outputs": [
    {
     "name": "stdout",
     "output_type": "stream",
     "text": [
      "Rezultaty wykonywania kodu widać w polu `output` każdej komórki\n",
      "Co do zasady możemy wyświetlać tekst drukując go standardowym poleceniem `print`\n"
     ]
    }
   ],
   "source": [
    "print('Rezultaty wykonywania kodu widać w polu `output` każdej komórki')\n",
    "print('Co do zasady możemy wyświetlać tekst drukując go standardowym poleceniem `print`')"
   ]
  },
  {
   "cell_type": "markdown",
   "metadata": {},
   "source": [
    "Niektóre obiekty są jednak przy wyświetlaniu specjalnie formatowane przez Notebooka (np. obiekt DataFrame z pakietu `pandas`)."
   ]
  },
  {
   "cell_type": "code",
   "execution_count": 8,
   "metadata": {},
   "outputs": [
    {
     "data": {
      "text/html": [
       "<div>\n",
       "<style scoped>\n",
       "    .dataframe tbody tr th:only-of-type {\n",
       "        vertical-align: middle;\n",
       "    }\n",
       "\n",
       "    .dataframe tbody tr th {\n",
       "        vertical-align: top;\n",
       "    }\n",
       "\n",
       "    .dataframe thead th {\n",
       "        text-align: right;\n",
       "    }\n",
       "</style>\n",
       "<table border=\"1\" class=\"dataframe\">\n",
       "  <thead>\n",
       "    <tr style=\"text-align: right;\">\n",
       "      <th></th>\n",
       "      <th>imię</th>\n",
       "      <th>ocena</th>\n",
       "    </tr>\n",
       "  </thead>\n",
       "  <tbody>\n",
       "    <tr>\n",
       "      <th>0</th>\n",
       "      <td>Bartosz</td>\n",
       "      <td>4</td>\n",
       "    </tr>\n",
       "    <tr>\n",
       "      <th>1</th>\n",
       "      <td>Kasia</td>\n",
       "      <td>3</td>\n",
       "    </tr>\n",
       "    <tr>\n",
       "      <th>2</th>\n",
       "      <td>Marysia</td>\n",
       "      <td>5</td>\n",
       "    </tr>\n",
       "  </tbody>\n",
       "</table>\n",
       "</div>"
      ],
      "text/plain": [
       "      imię  ocena\n",
       "0  Bartosz      4\n",
       "1    Kasia      3\n",
       "2  Marysia      5"
      ]
     },
     "execution_count": 8,
     "metadata": {},
     "output_type": "execute_result"
    }
   ],
   "source": [
    "from pandas import DataFrame\n",
    "data = DataFrame({'imię' : ['Bartosz', 'Kasia', 'Marysia'],\n",
    "                  'ocena' : [4,3,5]})\n",
    "data"
   ]
  },
  {
   "cell_type": "markdown",
   "metadata": {},
   "source": [
    "Formatowanie to działa jednak tylko wówczas, gdy wywołamy dany obiekt przez nazwę zmiennej. Jeśli użyjemy funckji `print`, dostaniemy standardowy *output*."
   ]
  },
  {
   "cell_type": "code",
   "execution_count": 10,
   "metadata": {},
   "outputs": [
    {
     "name": "stdout",
     "output_type": "stream",
     "text": [
      "      imię  ocena\n",
      "0  Bartosz      4\n",
      "1    Kasia      3\n",
      "2  Marysia      5\n"
     ]
    }
   ],
   "source": [
    "print(data)"
   ]
  },
  {
   "cell_type": "markdown",
   "metadata": {},
   "source": [
    "Jeśli korzystamy z jakiegoś pakietu rysującego wykresy, to efekt tego rysowania również możemy bezpośrednio wyświetlić w Notebooku:"
   ]
  },
  {
   "cell_type": "code",
   "execution_count": 18,
   "metadata": {},
   "outputs": [
    {
     "data": {
      "image/png": "[encoded data removed]",
      "text/plain": [
       "<Figure size 432x288 with 1 Axes>"
      ]
     },
     "metadata": {},
     "output_type": "display_data"
    }
   ],
   "source": [
    "from matplotlib import pyplot as plt\n",
    "from scipy.stats import norm\n",
    "# bez tego polecenia nie zobaczymy wykresów, dostępne są inne niż inline opcje - odsyłam do dokumentacji\n",
    "%matplotlib inline\n",
    "\n",
    "plt.hist(norm.rvs(size = 1000)); # losujemy 1000 wartości z rozkładu normalnego i rysujemy ich histogram"
   ]
  }
 ],
 "metadata": {
  "kernelspec": {
   "display_name": "Python 3",
   "language": "python",
   "name": "python3"
  },
  "language_info": {
   "codemirror_mode": {
    "name": "ipython",
    "version": 3
   },
   "file_extension": ".py",
   "mimetype": "text/x-python",
   "name": "python",
   "nbconvert_exporter": "python",
   "pygments_lexer": "ipython3",
   "version": "3.7.2"
  }
 },
 "nbformat": 4,
 "nbformat_minor": 2
}
