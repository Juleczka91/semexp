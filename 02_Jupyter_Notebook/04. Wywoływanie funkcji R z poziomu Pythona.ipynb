{
 "cells": [
  {
   "cell_type": "markdown",
   "metadata": {},
   "source": [
    "# Wywoływanie funkcji R z poziomu Pythona\n",
    "\n",
    "Siłą rzeczy nie wszystkie przydatne funkcje (w szczególności nie wszystkie techniki statystyczne) są zaimplementowane w najpopularniejszych bibliotekach w Pythonie. Dobrą informacją jest to, że za pomocą pakietu `rpy2` możemy z łatwością transformować struktury danych `pandas` do standardowych struktur danych w R. Korzystanie z `pandas` omówimy dopiero w piątym module kursu, ale tutaj omówimy prosty przykład.\n",
    "\n",
    "Bardziej rozbudowana dokumentacja znajduje się tutaj: https://rpy2.readthedocs.io/en/version_2.8.x/ i porusza wszystkie kwestie niezbędne do integracji R z Pythonem. Używałem tego pakietu wiele razy i często trzeba trochę pogłówkować i poczytać dokumentacje, ale co do za zasady działa on bardzo dobrze."
   ]
  },
  {
   "cell_type": "code",
   "execution_count": 2,
   "metadata": {},
   "outputs": [],
   "source": [
    "import pandas as pd\n",
    "from pandas import DataFrame"
   ]
  },
  {
   "cell_type": "markdown",
   "metadata": {},
   "source": [
    "Stwórzmy przykładowe dane."
   ]
  },
  {
   "cell_type": "code",
   "execution_count": 3,
   "metadata": {},
   "outputs": [
    {
     "data": {
      "text/html": [
       "<div>\n",
       "<style scoped>\n",
       "    .dataframe tbody tr th:only-of-type {\n",
       "        vertical-align: middle;\n",
       "    }\n",
       "\n",
       "    .dataframe tbody tr th {\n",
       "        vertical-align: top;\n",
       "    }\n",
       "\n",
       "    .dataframe thead th {\n",
       "        text-align: right;\n",
       "    }\n",
       "</style>\n",
       "<table border=\"1\" class=\"dataframe\">\n",
       "  <thead>\n",
       "    <tr style=\"text-align: right;\">\n",
       "      <th></th>\n",
       "      <th>participant</th>\n",
       "      <th>score</th>\n",
       "      <th>sex</th>\n",
       "      <th>condition</th>\n",
       "    </tr>\n",
       "  </thead>\n",
       "  <tbody>\n",
       "    <tr>\n",
       "      <th>0</th>\n",
       "      <td>1</td>\n",
       "      <td>43</td>\n",
       "      <td>K</td>\n",
       "      <td>E</td>\n",
       "    </tr>\n",
       "    <tr>\n",
       "      <th>1</th>\n",
       "      <td>2</td>\n",
       "      <td>45</td>\n",
       "      <td>M</td>\n",
       "      <td>C</td>\n",
       "    </tr>\n",
       "    <tr>\n",
       "      <th>2</th>\n",
       "      <td>3</td>\n",
       "      <td>67</td>\n",
       "      <td>K</td>\n",
       "      <td>E</td>\n",
       "    </tr>\n",
       "    <tr>\n",
       "      <th>3</th>\n",
       "      <td>4</td>\n",
       "      <td>43</td>\n",
       "      <td>M</td>\n",
       "      <td>C</td>\n",
       "    </tr>\n",
       "    <tr>\n",
       "      <th>4</th>\n",
       "      <td>5</td>\n",
       "      <td>56</td>\n",
       "      <td>K</td>\n",
       "      <td>E</td>\n",
       "    </tr>\n",
       "  </tbody>\n",
       "</table>\n",
       "</div>"
      ],
      "text/plain": [
       "   participant  score sex condition\n",
       "0            1     43   K         E\n",
       "1            2     45   M         C\n",
       "2            3     67   K         E\n",
       "3            4     43   M         C\n",
       "4            5     56   K         E"
      ]
     },
     "execution_count": 3,
     "metadata": {},
     "output_type": "execute_result"
    }
   ],
   "source": [
    "data = DataFrame({\n",
    "    'participant' : [1,2,3,4,5,6,7,8,9,10],\n",
    "    'score' : [43,45,67,43,56,22,45,24,56,83],\n",
    "    'sex' : ['K','M','K','M','K','K','K','M','M','K'],\n",
    "    'condition' : ['E', 'C', 'E', 'C', 'E', 'C', 'E', 'C', 'E','C']\n",
    "})\n",
    "data.head()"
   ]
  },
  {
   "cell_type": "markdown",
   "metadata": {},
   "source": [
    "Aby wykorzystać R w Pythonie musimy zaimportować kilka rzeczy:\n",
    "+ `robjects` służy nam jako interfejs do obiektów R\n",
    "+ `pandas2ri` służy (po wywołaniu `activate` do automatycznej konwersji obiektów `pandas` do obiektów R"
   ]
  },
  {
   "cell_type": "code",
   "execution_count": 4,
   "metadata": {},
   "outputs": [],
   "source": [
    "import rpy2.robjects as robjects\n",
    "from rpy2.robjects import pandas2ri, Formula\n",
    "pandas2ri.activate()"
   ]
  },
  {
   "cell_type": "markdown",
   "metadata": {},
   "source": [
    "Zróbmy psotą analizę wariancji. Najpierw stwórzmy model za pomocą R-owskiej funkcji `lm` i potem przekażmy go do funkcji `anova`."
   ]
  },
  {
   "cell_type": "code",
   "execution_count": 26,
   "metadata": {},
   "outputs": [
    {
     "name": "stdout",
     "output_type": "stream",
     "text": [
      "Analysis of Variance Table\n",
      "\n",
      "Response: score\n",
      "          Df  Sum Sq Mean Sq F value Pr(>F)\n",
      "condition  1  250.00  250.00  0.6577 0.4441\n",
      "sex        1  121.68  121.68  0.3201 0.5892\n",
      "Residuals  7 2660.72  380.10               \n",
      "\n"
     ]
    }
   ],
   "source": [
    "result = robjects.r.lm('score ~ condition + sex', data = data)\n",
    "print(robjects.r.anova(result))"
   ]
  },
  {
   "cell_type": "markdown",
   "metadata": {},
   "source": [
    "Jeśli chcemy tabelę z wynikami przekonwertować znów do obiektu `pandas` nic prostszego - wystarczy posłużyć się funkcją `ri2py` z modułu `pandas2ri`"
   ]
  },
  {
   "cell_type": "code",
   "execution_count": 27,
   "metadata": {},
   "outputs": [
    {
     "data": {
      "text/html": [
       "<div>\n",
       "<style scoped>\n",
       "    .dataframe tbody tr th:only-of-type {\n",
       "        vertical-align: middle;\n",
       "    }\n",
       "\n",
       "    .dataframe tbody tr th {\n",
       "        vertical-align: top;\n",
       "    }\n",
       "\n",
       "    .dataframe thead th {\n",
       "        text-align: right;\n",
       "    }\n",
       "</style>\n",
       "<table border=\"1\" class=\"dataframe\">\n",
       "  <thead>\n",
       "    <tr style=\"text-align: right;\">\n",
       "      <th></th>\n",
       "      <th>Df</th>\n",
       "      <th>Sum Sq</th>\n",
       "      <th>Mean Sq</th>\n",
       "      <th>F value</th>\n",
       "      <th>Pr(&gt;F)</th>\n",
       "    </tr>\n",
       "  </thead>\n",
       "  <tbody>\n",
       "    <tr>\n",
       "      <th>condition</th>\n",
       "      <td>1</td>\n",
       "      <td>250.00</td>\n",
       "      <td>250.000000</td>\n",
       "      <td>0.657717</td>\n",
       "      <td>0.444063</td>\n",
       "    </tr>\n",
       "    <tr>\n",
       "      <th>sex</th>\n",
       "      <td>1</td>\n",
       "      <td>121.68</td>\n",
       "      <td>121.680000</td>\n",
       "      <td>0.320124</td>\n",
       "      <td>0.589202</td>\n",
       "    </tr>\n",
       "    <tr>\n",
       "      <th>Residuals</th>\n",
       "      <td>7</td>\n",
       "      <td>2660.72</td>\n",
       "      <td>380.102857</td>\n",
       "      <td>NaN</td>\n",
       "      <td>NaN</td>\n",
       "    </tr>\n",
       "  </tbody>\n",
       "</table>\n",
       "</div>"
      ],
      "text/plain": [
       "           Df   Sum Sq     Mean Sq   F value    Pr(>F)\n",
       "condition   1   250.00  250.000000  0.657717  0.444063\n",
       "sex         1   121.68  121.680000  0.320124  0.589202\n",
       "Residuals   7  2660.72  380.102857       NaN       NaN"
      ]
     },
     "execution_count": 27,
     "metadata": {},
     "output_type": "execute_result"
    }
   ],
   "source": [
    "anova_results = robjects.r.anova(result)\n",
    "anova_results_py = pandas2ri.ri2py(anova_results)\n",
    "anova_results_py.index = anova_results.rownames\n",
    "anova_results_py"
   ]
  }
 ],
 "metadata": {
  "kernelspec": {
   "display_name": "Python 3",
   "language": "python",
   "name": "python3"
  },
  "language_info": {
   "codemirror_mode": {
    "name": "ipython",
    "version": 3
   },
   "file_extension": ".py",
   "mimetype": "text/x-python",
   "name": "python",
   "nbconvert_exporter": "python",
   "pygments_lexer": "ipython3",
   "version": "3.7.2"
  }
 },
 "nbformat": 4,
 "nbformat_minor": 2
}
